{
 "cells": [
  {
   "cell_type": "code",
   "execution_count": 1,
   "id": "77410634-4727-487d-b6b6-9dc39dde47f3",
   "metadata": {},
   "outputs": [],
   "source": [
    "import pandas as pd\n",
    "import numpy as np\n",
    "import plotly.express as px\n",
    "import glob\n",
    "import os"
   ]
  },
  {
   "cell_type": "code",
   "execution_count": 2,
   "id": "8a1e51a6-3acc-4bdb-a34b-b120b84769d0",
   "metadata": {},
   "outputs": [],
   "source": [
    "race_name = 'Daytona' + '_race.csv'\n",
    "path = './data/2025_01_Daytona/'\n",
    "driver = 'Carson Hocevar'\n",
    "filtered_lap_value = 70\n",
    "filtered_speed_value = 110"
   ]
  },
  {
   "cell_type": "markdown",
   "id": "5b32d376-99ca-4c88-84bf-e4fdc4617138",
   "metadata": {},
   "source": [
    "### Find lap and speed values to filter by"
   ]
  },
  {
   "cell_type": "code",
   "execution_count": 3,
   "id": "1405877f-097c-4516-8583-d88fc9c8168d",
   "metadata": {},
   "outputs": [
    {
     "name": "stdout",
     "output_type": "stream",
     "text": [
      "   Unnamed: 0  Lap  LapTime  LapSpeed  RunningPos  Number Manufacturer\n",
      "0           0    0      NaN       NaN          33      77          Chv\n",
      "1           1    1   51.972   173.170          36      77          Chv\n",
      "2           2    2   47.562   189.227          38      77          Chv\n",
      "3           3    3   48.186   186.776          41      77          Chv\n",
      "4           4    4   51.880   173.477          41      77          Chv\n"
     ]
    },
    {
     "data": {
      "application/vnd.plotly.v1+json": {
       "config": {
        "plotlyServerURL": "https://plot.ly"
       },
       "data": [
        {
         "hovertemplate": "Lap=%{x}<br>LapSpeed=%{y}<extra></extra>",
         "legendgroup": "",
         "line": {
          "color": "#636efa",
          "dash": "solid"
         },
         "marker": {
          "symbol": "circle"
         },
         "mode": "lines",
         "name": "",
         "orientation": "v",
         "showlegend": false,
         "type": "scatter",
         "x": {
          "_inputArray": {
           "0": 0,
           "1": 1,
           "10": 10,
           "100": 102,
           "101": 103,
           "102": 104,
           "103": 105,
           "104": 106,
           "105": 107,
           "106": 108,
           "107": 109,
           "108": 110,
           "109": 111,
           "11": 12,
           "110": 112,
           "111": 113,
           "112": 114,
           "113": 115,
           "114": 116,
           "115": 117,
           "116": 118,
           "117": 119,
           "118": 120,
           "119": 121,
           "12": 13,
           "120": 122,
           "121": 123,
           "122": 124,
           "123": 125,
           "124": 126,
           "125": 127,
           "126": 128,
           "127": 129,
           "128": 130,
           "129": 131,
           "13": 14,
           "130": 132,
           "131": 133,
           "132": 134,
           "133": 135,
           "134": 136,
           "135": 137,
           "136": 138,
           "137": 139,
           "138": 140,
           "139": 141,
           "14": 15,
           "140": 142,
           "141": 143,
           "142": 144,
           "143": 145,
           "144": 146,
           "145": 147,
           "146": 148,
           "147": 149,
           "148": 150,
           "149": 151,
           "15": 16,
           "150": 152,
           "151": 153,
           "152": 154,
           "153": 155,
           "154": 156,
           "155": 157,
           "156": 158,
           "157": 159,
           "158": 160,
           "159": 161,
           "16": 17,
           "160": 162,
           "161": 163,
           "162": 164,
           "163": 165,
           "164": 166,
           "165": 167,
           "166": 168,
           "167": 169,
           "168": 170,
           "169": 171,
           "17": 18,
           "170": 172,
           "171": 173,
           "172": 174,
           "173": 175,
           "174": 176,
           "175": 177,
           "176": 178,
           "177": 179,
           "178": 180,
           "179": 181,
           "18": 19,
           "180": 182,
           "181": 183,
           "182": 184,
           "183": 185,
           "184": 186,
           "185": 187,
           "186": 188,
           "187": 189,
           "188": 190,
           "189": 191,
           "19": 20,
           "190": 192,
           "191": 193,
           "192": 194,
           "193": 195,
           "194": 196,
           "2": 2,
           "20": 22,
           "21": 23,
           "22": 24,
           "23": 25,
           "24": 26,
           "25": 27,
           "26": 28,
           "27": 29,
           "28": 30,
           "29": 31,
           "3": 3,
           "30": 32,
           "31": 33,
           "32": 34,
           "33": 35,
           "34": 36,
           "35": 37,
           "36": 38,
           "37": 39,
           "38": 40,
           "39": 41,
           "4": 4,
           "40": 42,
           "41": 43,
           "42": 44,
           "43": 45,
           "44": 46,
           "45": 47,
           "46": 48,
           "47": 49,
           "48": 50,
           "49": 51,
           "5": 5,
           "50": 52,
           "51": 53,
           "52": 54,
           "53": 55,
           "54": 56,
           "55": 57,
           "56": 58,
           "57": 59,
           "58": 60,
           "59": 61,
           "6": 6,
           "60": 62,
           "61": 63,
           "62": 64,
           "63": 65,
           "64": 66,
           "65": 67,
           "66": 68,
           "67": 69,
           "68": 70,
           "69": 71,
           "7": 7,
           "70": 72,
           "71": 73,
           "72": 74,
           "73": 75,
           "74": 76,
           "75": 77,
           "76": 78,
           "77": 79,
           "78": 80,
           "79": 81,
           "8": 8,
           "80": 82,
           "81": 83,
           "82": 84,
           "83": 85,
           "84": 86,
           "85": 87,
           "86": 88,
           "87": 89,
           "88": 90,
           "89": 91,
           "9": 9,
           "90": 92,
           "91": 93,
           "92": 94,
           "93": 95,
           "94": 96,
           "95": 97,
           "96": 98,
           "97": 99,
           "98": 100,
           "99": 101,
           "bdata": "AAABAAIAAwAEAAUABgAHAAgACQAKAAwADQAOAA8AEAARABIAEwAUABYAFwAYABkAGgAbABwAHQAeAB8AIAAhACIAIwAkACUAJgAnACgAKQAqACsALAAtAC4ALwAwADEAMgAzADQANQA2ADcAOAA5ADoAOwA8AD0APgA/AEAAQQBCAEMARABFAEYARwBIAEkASgBLAEwATQBOAE8AUABRAFIAUwBUAFUAVgBXAFgAWQBaAFsAXABdAF4AXwBgAGEAYgBjAGQAZQBmAGcAaABpAGoAawBsAG0AbgBvAHAAcQByAHMAdAB1AHYAdwB4AHkAegB7AHwAfQB+AH8AgACBAIIAgwCEAIUAhgCHAIgAiQCKAIsAjACNAI4AjwCQAJEAkgCTAJQAlQCWAJcAmACZAJoAmwCcAJ0AngCfAKAAoQCiAKMApAClAKYApwCoAKkAqgCrAKwArQCuAK8AsACxALIAswC0ALUAtgC3ALgAuQC6ALsAvAC9AL4AvwDAAMEAwgDDAMQA",
           "dtype": "i2",
           "shape": "195"
          },
          "bdata": "AAABAAIAAwAEAAUABgAHAAgACQAKAAwADQAOAA8AEAARABIAEwAUABYAFwAYABkAGgAbABwAHQAeAB8AIAAhACIAIwAkACUAJgAnACgAKQAqACsALAAtAC4ALwAwADEAMgAzADQANQA2ADcAOAA5ADoAOwA8AD0APgA/AEAAQQBCAEMARABFAEYARwBIAEkASgBLAEwATQBOAE8AUABRAFIAUwBUAFUAVgBXAFgAWQBaAFsAXABdAF4AXwBgAGEAYgBjAGQAZQBmAGcAaABpAGoAawBsAG0AbgBvAHAAcQByAHMAdAB1AHYAdwB4AHkAegB7AHwAfQB+AH8AgACBAIIAgwCEAIUAhgCHAIgAiQCKAIsAjACNAI4AjwCQAJEAkgCTAJQAlQCWAJcAmACZAJoAmwCcAJ0AngCfAKAAoQCiAKMApAClAKYApwCoAKkAqgCrAKwArQCuAK8AsACxALIAswC0ALUAtgC3ALgAuQC6ALsAvAC9AL4AvwDAAMEAwgDDAMQA",
          "dtype": "i2"
         },
         "xaxis": "x",
         "y": {
          "_inputArray": {
           "0": null,
           "1": 173.17,
           "10": 79.167,
           "100": 191.359,
           "101": 189.741,
           "102": 188.092,
           "103": 188.269,
           "104": 189.004,
           "105": 188.723,
           "106": 190.251,
           "107": 189.813,
           "108": 193.582,
           "109": 195.491,
           "11": 84.977,
           "110": 190.311,
           "111": 191.477,
           "112": 191.828,
           "113": 191.8,
           "114": 190.375,
           "115": 193.191,
           "116": 193.503,
           "117": 197.585,
           "118": 184.347,
           "119": 191.404,
           "12": 61.462,
           "120": 195.194,
           "121": 189.171,
           "122": 195.249,
           "123": 190.674,
           "124": 194.599,
           "125": 195.346,
           "126": 195.486,
           "127": 192.279,
           "128": 188.58,
           "129": 106.688,
           "13": 68.001,
           "130": 73.553,
           "131": 77.28,
           "132": 59.443,
           "133": 74.017,
           "134": 64.018,
           "135": 86.777,
           "136": 179.101,
           "137": 187.317,
           "138": 187.786,
           "139": 189.04,
           "14": 72.543,
           "140": 188.265,
           "141": 188.624,
           "142": 186.567,
           "143": 189.155,
           "144": 189.446,
           "145": 186.254,
           "146": 187.539,
           "147": 187.88,
           "148": 186.652,
           "149": 187.649,
           "15": 83.013,
           "150": 186.154,
           "151": 186.753,
           "152": 188.399,
           "153": 187.036,
           "154": 186.486,
           "155": 185.762,
           "156": 187.134,
           "157": 186.362,
           "158": 187.77,
           "159": 186.587,
           "16": 67.768,
           "160": 132.981,
           "161": 72.652,
           "162": 61.603,
           "163": 74.343,
           "164": 177.69,
           "165": 193.361,
           "166": 191.379,
           "167": 198.02,
           "168": 189.207,
           "169": 197.698,
           "17": 66.401,
           "170": 190.913,
           "171": 192.332,
           "172": 197.321,
           "173": 190.589,
           "174": 193.999,
           "175": 194.426,
           "176": 192.209,
           "177": 198.526,
           "178": 187.649,
           "179": 192.542,
           "18": 69.983,
           "180": 193.807,
           "181": 191.282,
           "182": 189.593,
           "183": 188.873,
           "184": 110.495,
           "185": 81.117,
           "186": 72.91,
           "187": 71.832,
           "188": 68.802,
           "189": 67.452,
           "19": 43.814,
           "190": 80.808,
           "191": 166.741,
           "192": 188.743,
           "193": 189.553,
           "194": 129.733,
           "2": 189.227,
           "20": 67.346,
           "21": 96.161,
           "22": 183.775,
           "23": 192.353,
           "24": 186.982,
           "25": 188.419,
           "26": 189.974,
           "27": 190.969,
           "28": 191.278,
           "29": 189.318,
           "3": 186.776,
           "30": 187.239,
           "31": 190.456,
           "32": 188.596,
           "33": 192.972,
           "34": 186.058,
           "35": 191.538,
           "36": 195.499,
           "37": 183.512,
           "38": 195.537,
           "39": 183.124,
           "4": 173.477,
           "40": 189.597,
           "41": 185.09,
           "42": 190.09,
           "43": 191.249,
           "44": 191.75,
           "45": 192.885,
           "46": 194.936,
           "47": 190.722,
           "48": 193.519,
           "49": 192.02,
           "5": 183.109,
           "50": 192.086,
           "51": 190.07,
           "52": 190.086,
           "53": 191.636,
           "54": 190.517,
           "55": 186.463,
           "56": 185.269,
           "57": 185.071,
           "58": 185.162,
           "59": 184.942,
           "6": 183.027,
           "60": 183.281,
           "61": 120.114,
           "62": 87.436,
           "63": 69.135,
           "64": 68.843,
           "65": 76.827,
           "66": 62.675,
           "67": 65.928,
           "68": 90.156,
           "69": 102.365,
           "7": 182.953,
           "70": 76.412,
           "71": 69.526,
           "72": 74.86,
           "73": 62.556,
           "74": 83.24,
           "75": 177.019,
           "76": 187.328,
           "77": 189.35,
           "78": 188.08,
           "79": 187.032,
           "8": 182.382,
           "80": 186.216,
           "81": 105.594,
           "82": 73.858,
           "83": 63.211,
           "84": 77.671,
           "85": 177.291,
           "86": 189.203,
           "87": 189.159,
           "88": 188.679,
           "89": 188.77,
           "9": 177.117,
           "90": 189.08,
           "91": 190.002,
           "92": 191.701,
           "93": 189.402,
           "94": 190.014,
           "95": 190.585,
           "96": 188.885,
           "97": 191.006,
           "98": 190.182,
           "99": 190.392,
           "bdata": "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",
           "dtype": "f8",
           "shape": "195"
          },
          "bdata": "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",
          "dtype": "f8"
         },
         "yaxis": "y"
        }
       ],
       "layout": {
        "annotations": [
         {
          "showarrow": false,
          "text": "filtered: 110mph",
          "x": 1,
          "xanchor": "right",
          "xref": "x domain",
          "y": 110,
          "yanchor": "bottom",
          "yref": "y"
         }
        ],
        "autosize": true,
        "legend": {
         "tracegroupgap": 0
        },
        "shapes": [
         {
          "line": {
           "color": "red",
           "width": 0.5
          },
          "type": "line",
          "x0": 0,
          "x1": 1,
          "xref": "x domain",
          "y0": 110,
          "y1": 110,
          "yref": "y"
         }
        ],
        "template": {
         "data": {
          "bar": [
           {
            "error_x": {
             "color": "#2a3f5f"
            },
            "error_y": {
             "color": "#2a3f5f"
            },
            "marker": {
             "line": {
              "color": "#E5ECF6",
              "width": 0.5
             },
             "pattern": {
              "fillmode": "overlay",
              "size": 10,
              "solidity": 0.2
             }
            },
            "type": "bar"
           }
          ],
          "barpolar": [
           {
            "marker": {
             "line": {
              "color": "#E5ECF6",
              "width": 0.5
             },
             "pattern": {
              "fillmode": "overlay",
              "size": 10,
              "solidity": 0.2
             }
            },
            "type": "barpolar"
           }
          ],
          "carpet": [
           {
            "aaxis": {
             "endlinecolor": "#2a3f5f",
             "gridcolor": "white",
             "linecolor": "white",
             "minorgridcolor": "white",
             "startlinecolor": "#2a3f5f"
            },
            "baxis": {
             "endlinecolor": "#2a3f5f",
             "gridcolor": "white",
             "linecolor": "white",
             "minorgridcolor": "white",
             "startlinecolor": "#2a3f5f"
            },
            "type": "carpet"
           }
          ],
          "choropleth": [
           {
            "colorbar": {
             "outlinewidth": 0,
             "ticks": ""
            },
            "type": "choropleth"
           }
          ],
          "contour": [
           {
            "colorbar": {
             "outlinewidth": 0,
             "ticks": ""
            },
            "colorscale": [
             [
              0,
              "#0d0887"
             ],
             [
              0.1111111111111111,
              "#46039f"
             ],
             [
              0.2222222222222222,
              "#7201a8"
             ],
             [
              0.3333333333333333,
              "#9c179e"
             ],
             [
              0.4444444444444444,
              "#bd3786"
             ],
             [
              0.5555555555555556,
              "#d8576b"
             ],
             [
              0.6666666666666666,
              "#ed7953"
             ],
             [
              0.7777777777777778,
              "#fb9f3a"
             ],
             [
              0.8888888888888888,
              "#fdca26"
             ],
             [
              1,
              "#f0f921"
             ]
            ],
            "type": "contour"
           }
          ],
          "contourcarpet": [
           {
            "colorbar": {
             "outlinewidth": 0,
             "ticks": ""
            },
            "type": "contourcarpet"
           }
          ],
          "heatmap": [
           {
            "colorbar": {
             "outlinewidth": 0,
             "ticks": ""
            },
            "colorscale": [
             [
              0,
              "#0d0887"
             ],
             [
              0.1111111111111111,
              "#46039f"
             ],
             [
              0.2222222222222222,
              "#7201a8"
             ],
             [
              0.3333333333333333,
              "#9c179e"
             ],
             [
              0.4444444444444444,
              "#bd3786"
             ],
             [
              0.5555555555555556,
              "#d8576b"
             ],
             [
              0.6666666666666666,
              "#ed7953"
             ],
             [
              0.7777777777777778,
              "#fb9f3a"
             ],
             [
              0.8888888888888888,
              "#fdca26"
             ],
             [
              1,
              "#f0f921"
             ]
            ],
            "type": "heatmap"
           }
          ],
          "histogram": [
           {
            "marker": {
             "pattern": {
              "fillmode": "overlay",
              "size": 10,
              "solidity": 0.2
             }
            },
            "type": "histogram"
           }
          ],
          "histogram2d": [
           {
            "colorbar": {
             "outlinewidth": 0,
             "ticks": ""
            },
            "colorscale": [
             [
              0,
              "#0d0887"
             ],
             [
              0.1111111111111111,
              "#46039f"
             ],
             [
              0.2222222222222222,
              "#7201a8"
             ],
             [
              0.3333333333333333,
              "#9c179e"
             ],
             [
              0.4444444444444444,
              "#bd3786"
             ],
             [
              0.5555555555555556,
              "#d8576b"
             ],
             [
              0.6666666666666666,
              "#ed7953"
             ],
             [
              0.7777777777777778,
              "#fb9f3a"
             ],
             [
              0.8888888888888888,
              "#fdca26"
             ],
             [
              1,
              "#f0f921"
             ]
            ],
            "type": "histogram2d"
           }
          ],
          "histogram2dcontour": [
           {
            "colorbar": {
             "outlinewidth": 0,
             "ticks": ""
            },
            "colorscale": [
             [
              0,
              "#0d0887"
             ],
             [
              0.1111111111111111,
              "#46039f"
             ],
             [
              0.2222222222222222,
              "#7201a8"
             ],
             [
              0.3333333333333333,
              "#9c179e"
             ],
             [
              0.4444444444444444,
              "#bd3786"
             ],
             [
              0.5555555555555556,
              "#d8576b"
             ],
             [
              0.6666666666666666,
              "#ed7953"
             ],
             [
              0.7777777777777778,
              "#fb9f3a"
             ],
             [
              0.8888888888888888,
              "#fdca26"
             ],
             [
              1,
              "#f0f921"
             ]
            ],
            "type": "histogram2dcontour"
           }
          ],
          "mesh3d": [
           {
            "colorbar": {
             "outlinewidth": 0,
             "ticks": ""
            },
            "type": "mesh3d"
           }
          ],
          "parcoords": [
           {
            "line": {
             "colorbar": {
              "outlinewidth": 0,
              "ticks": ""
             }
            },
            "type": "parcoords"
           }
          ],
          "pie": [
           {
            "automargin": true,
            "type": "pie"
           }
          ],
          "scatter": [
           {
            "fillpattern": {
             "fillmode": "overlay",
             "size": 10,
             "solidity": 0.2
            },
            "type": "scatter"
           }
          ],
          "scatter3d": [
           {
            "line": {
             "colorbar": {
              "outlinewidth": 0,
              "ticks": ""
             }
            },
            "marker": {
             "colorbar": {
              "outlinewidth": 0,
              "ticks": ""
             }
            },
            "type": "scatter3d"
           }
          ],
          "scattercarpet": [
           {
            "marker": {
             "colorbar": {
              "outlinewidth": 0,
              "ticks": ""
             }
            },
            "type": "scattercarpet"
           }
          ],
          "scattergeo": [
           {
            "marker": {
             "colorbar": {
              "outlinewidth": 0,
              "ticks": ""
             }
            },
            "type": "scattergeo"
           }
          ],
          "scattergl": [
           {
            "marker": {
             "colorbar": {
              "outlinewidth": 0,
              "ticks": ""
             }
            },
            "type": "scattergl"
           }
          ],
          "scattermap": [
           {
            "marker": {
             "colorbar": {
              "outlinewidth": 0,
              "ticks": ""
             }
            },
            "type": "scattermap"
           }
          ],
          "scattermapbox": [
           {
            "marker": {
             "colorbar": {
              "outlinewidth": 0,
              "ticks": ""
             }
            },
            "type": "scattermapbox"
           }
          ],
          "scatterpolar": [
           {
            "marker": {
             "colorbar": {
              "outlinewidth": 0,
              "ticks": ""
             }
            },
            "type": "scatterpolar"
           }
          ],
          "scatterpolargl": [
           {
            "marker": {
             "colorbar": {
              "outlinewidth": 0,
              "ticks": ""
             }
            },
            "type": "scatterpolargl"
           }
          ],
          "scatterternary": [
           {
            "marker": {
             "colorbar": {
              "outlinewidth": 0,
              "ticks": ""
             }
            },
            "type": "scatterternary"
           }
          ],
          "surface": [
           {
            "colorbar": {
             "outlinewidth": 0,
             "ticks": ""
            },
            "colorscale": [
             [
              0,
              "#0d0887"
             ],
             [
              0.1111111111111111,
              "#46039f"
             ],
             [
              0.2222222222222222,
              "#7201a8"
             ],
             [
              0.3333333333333333,
              "#9c179e"
             ],
             [
              0.4444444444444444,
              "#bd3786"
             ],
             [
              0.5555555555555556,
              "#d8576b"
             ],
             [
              0.6666666666666666,
              "#ed7953"
             ],
             [
              0.7777777777777778,
              "#fb9f3a"
             ],
             [
              0.8888888888888888,
              "#fdca26"
             ],
             [
              1,
              "#f0f921"
             ]
            ],
            "type": "surface"
           }
          ],
          "table": [
           {
            "cells": {
             "fill": {
              "color": "#EBF0F8"
             },
             "line": {
              "color": "white"
             }
            },
            "header": {
             "fill": {
              "color": "#C8D4E3"
             },
             "line": {
              "color": "white"
             }
            },
            "type": "table"
           }
          ]
         },
         "layout": {
          "annotationdefaults": {
           "arrowcolor": "#2a3f5f",
           "arrowhead": 0,
           "arrowwidth": 1
          },
          "autotypenumbers": "strict",
          "coloraxis": {
           "colorbar": {
            "outlinewidth": 0,
            "ticks": ""
           }
          },
          "colorscale": {
           "diverging": [
            [
             0,
             "#8e0152"
            ],
            [
             0.1,
             "#c51b7d"
            ],
            [
             0.2,
             "#de77ae"
            ],
            [
             0.3,
             "#f1b6da"
            ],
            [
             0.4,
             "#fde0ef"
            ],
            [
             0.5,
             "#f7f7f7"
            ],
            [
             0.6,
             "#e6f5d0"
            ],
            [
             0.7,
             "#b8e186"
            ],
            [
             0.8,
             "#7fbc41"
            ],
            [
             0.9,
             "#4d9221"
            ],
            [
             1,
             "#276419"
            ]
           ],
           "sequential": [
            [
             0,
             "#0d0887"
            ],
            [
             0.1111111111111111,
             "#46039f"
            ],
            [
             0.2222222222222222,
             "#7201a8"
            ],
            [
             0.3333333333333333,
             "#9c179e"
            ],
            [
             0.4444444444444444,
             "#bd3786"
            ],
            [
             0.5555555555555556,
             "#d8576b"
            ],
            [
             0.6666666666666666,
             "#ed7953"
            ],
            [
             0.7777777777777778,
             "#fb9f3a"
            ],
            [
             0.8888888888888888,
             "#fdca26"
            ],
            [
             1,
             "#f0f921"
            ]
           ],
           "sequentialminus": [
            [
             0,
             "#0d0887"
            ],
            [
             0.1111111111111111,
             "#46039f"
            ],
            [
             0.2222222222222222,
             "#7201a8"
            ],
            [
             0.3333333333333333,
             "#9c179e"
            ],
            [
             0.4444444444444444,
             "#bd3786"
            ],
            [
             0.5555555555555556,
             "#d8576b"
            ],
            [
             0.6666666666666666,
             "#ed7953"
            ],
            [
             0.7777777777777778,
             "#fb9f3a"
            ],
            [
             0.8888888888888888,
             "#fdca26"
            ],
            [
             1,
             "#f0f921"
            ]
           ]
          },
          "colorway": [
           "#636efa",
           "#EF553B",
           "#00cc96",
           "#ab63fa",
           "#FFA15A",
           "#19d3f3",
           "#FF6692",
           "#B6E880",
           "#FF97FF",
           "#FECB52"
          ],
          "font": {
           "color": "#2a3f5f"
          },
          "geo": {
           "bgcolor": "white",
           "lakecolor": "white",
           "landcolor": "#E5ECF6",
           "showlakes": true,
           "showland": true,
           "subunitcolor": "white"
          },
          "hoverlabel": {
           "align": "left"
          },
          "hovermode": "closest",
          "mapbox": {
           "style": "light"
          },
          "paper_bgcolor": "white",
          "plot_bgcolor": "#E5ECF6",
          "polar": {
           "angularaxis": {
            "gridcolor": "white",
            "linecolor": "white",
            "ticks": ""
           },
           "bgcolor": "#E5ECF6",
           "radialaxis": {
            "gridcolor": "white",
            "linecolor": "white",
            "ticks": ""
           }
          },
          "scene": {
           "xaxis": {
            "backgroundcolor": "#E5ECF6",
            "gridcolor": "white",
            "gridwidth": 2,
            "linecolor": "white",
            "showbackground": true,
            "ticks": "",
            "zerolinecolor": "white"
           },
           "yaxis": {
            "backgroundcolor": "#E5ECF6",
            "gridcolor": "white",
            "gridwidth": 2,
            "linecolor": "white",
            "showbackground": true,
            "ticks": "",
            "zerolinecolor": "white"
           },
           "zaxis": {
            "backgroundcolor": "#E5ECF6",
            "gridcolor": "white",
            "gridwidth": 2,
            "linecolor": "white",
            "showbackground": true,
            "ticks": "",
            "zerolinecolor": "white"
           }
          },
          "shapedefaults": {
           "line": {
            "color": "#2a3f5f"
           }
          },
          "ternary": {
           "aaxis": {
            "gridcolor": "white",
            "linecolor": "white",
            "ticks": ""
           },
           "baxis": {
            "gridcolor": "white",
            "linecolor": "white",
            "ticks": ""
           },
           "bgcolor": "#E5ECF6",
           "caxis": {
            "gridcolor": "white",
            "linecolor": "white",
            "ticks": ""
           }
          },
          "title": {
           "x": 0.05
          },
          "xaxis": {
           "automargin": true,
           "gridcolor": "white",
           "linecolor": "white",
           "ticks": "",
           "title": {
            "standoff": 15
           },
           "zerolinecolor": "white",
           "zerolinewidth": 2
          },
          "yaxis": {
           "automargin": true,
           "gridcolor": "white",
           "linecolor": "white",
           "ticks": "",
           "title": {
            "standoff": 15
           },
           "zerolinecolor": "white",
           "zerolinewidth": 2
          }
         }
        },
        "title": {
         "text": "SPEED"
        },
        "xaxis": {
         "anchor": "y",
         "autorange": true,
         "domain": [
          0,
          1
         ],
         "range": [
          0,
          196
         ],
         "title": {
          "text": "Lap"
         },
         "type": "linear"
        },
        "yaxis": {
         "anchor": "x",
         "autorange": true,
         "domain": [
          0,
          1
         ],
         "range": [
          35.218888888888884,
          207.12111111111113
         ],
         "title": {
          "text": "LapSpeed"
         },
         "type": "linear"
        }
       }
      },
      "image/png": "[encoded data removed]"
     },
     "metadata": {},
     "output_type": "display_data"
    },
    {
     "data": {
      "application/vnd.plotly.v1+json": {
       "config": {
        "plotlyServerURL": "https://plot.ly"
       },
       "data": [
        {
         "hovertemplate": "Lap=%{x}<br>LapTime=%{y}<extra></extra>",
         "legendgroup": "",
         "line": {
          "color": "#636efa",
          "dash": "solid"
         },
         "marker": {
          "symbol": "circle"
         },
         "mode": "lines",
         "name": "",
         "orientation": "v",
         "showlegend": false,
         "type": "scatter",
         "x": {
          "_inputArray": {
           "0": 0,
           "1": 1,
           "10": 10,
           "100": 102,
           "101": 103,
           "102": 104,
           "103": 105,
           "104": 106,
           "105": 107,
           "106": 108,
           "107": 109,
           "108": 110,
           "109": 111,
           "11": 12,
           "110": 112,
           "111": 113,
           "112": 114,
           "113": 115,
           "114": 116,
           "115": 117,
           "116": 118,
           "117": 119,
           "118": 120,
           "119": 121,
           "12": 13,
           "120": 122,
           "121": 123,
           "122": 124,
           "123": 125,
           "124": 126,
           "125": 127,
           "126": 128,
           "127": 129,
           "128": 130,
           "129": 131,
           "13": 14,
           "130": 132,
           "131": 133,
           "132": 134,
           "133": 135,
           "134": 136,
           "135": 137,
           "136": 138,
           "137": 139,
           "138": 140,
           "139": 141,
           "14": 15,
           "140": 142,
           "141": 143,
           "142": 144,
           "143": 145,
           "144": 146,
           "145": 147,
           "146": 148,
           "147": 149,
           "148": 150,
           "149": 151,
           "15": 16,
           "150": 152,
           "151": 153,
           "152": 154,
           "153": 155,
           "154": 156,
           "155": 157,
           "156": 158,
           "157": 159,
           "158": 160,
           "159": 161,
           "16": 17,
           "160": 162,
           "161": 163,
           "162": 164,
           "163": 165,
           "164": 166,
           "165": 167,
           "166": 168,
           "167": 169,
           "168": 170,
           "169": 171,
           "17": 18,
           "170": 172,
           "171": 173,
           "172": 174,
           "173": 175,
           "174": 176,
           "175": 177,
           "176": 178,
           "177": 179,
           "178": 180,
           "179": 181,
           "18": 19,
           "180": 182,
           "181": 183,
           "182": 184,
           "183": 185,
           "184": 186,
           "185": 187,
           "186": 188,
           "187": 189,
           "188": 190,
           "189": 191,
           "19": 20,
           "190": 192,
           "191": 193,
           "192": 194,
           "193": 195,
           "194": 196,
           "2": 2,
           "20": 22,
           "21": 23,
           "22": 24,
           "23": 25,
           "24": 26,
           "25": 27,
           "26": 28,
           "27": 29,
           "28": 30,
           "29": 31,
           "3": 3,
           "30": 32,
           "31": 33,
           "32": 34,
           "33": 35,
           "34": 36,
           "35": 37,
           "36": 38,
           "37": 39,
           "38": 40,
           "39": 41,
           "4": 4,
           "40": 42,
           "41": 43,
           "42": 44,
           "43": 45,
           "44": 46,
           "45": 47,
           "46": 48,
           "47": 49,
           "48": 50,
           "49": 51,
           "5": 5,
           "50": 52,
           "51": 53,
           "52": 54,
           "53": 55,
           "54": 56,
           "55": 57,
           "56": 58,
           "57": 59,
           "58": 60,
           "59": 61,
           "6": 6,
           "60": 62,
           "61": 63,
           "62": 64,
           "63": 65,
           "64": 66,
           "65": 67,
           "66": 68,
           "67": 69,
           "68": 70,
           "69": 71,
           "7": 7,
           "70": 72,
           "71": 73,
           "72": 74,
           "73": 75,
           "74": 76,
           "75": 77,
           "76": 78,
           "77": 79,
           "78": 80,
           "79": 81,
           "8": 8,
           "80": 82,
           "81": 83,
           "82": 84,
           "83": 85,
           "84": 86,
           "85": 87,
           "86": 88,
           "87": 89,
           "88": 90,
           "89": 91,
           "9": 9,
           "90": 92,
           "91": 93,
           "92": 94,
           "93": 95,
           "94": 96,
           "95": 97,
           "96": 98,
           "97": 99,
           "98": 100,
           "99": 101,
           "bdata": "AAABAAIAAwAEAAUABgAHAAgACQAKAAwADQAOAA8AEAARABIAEwAUABYAFwAYABkAGgAbABwAHQAeAB8AIAAhACIAIwAkACUAJgAnACgAKQAqACsALAAtAC4ALwAwADEAMgAzADQANQA2ADcAOAA5ADoAOwA8AD0APgA/AEAAQQBCAEMARABFAEYARwBIAEkASgBLAEwATQBOAE8AUABRAFIAUwBUAFUAVgBXAFgAWQBaAFsAXABdAF4AXwBgAGEAYgBjAGQAZQBmAGcAaABpAGoAawBsAG0AbgBvAHAAcQByAHMAdAB1AHYAdwB4AHkAegB7AHwAfQB+AH8AgACBAIIAgwCEAIUAhgCHAIgAiQCKAIsAjACNAI4AjwCQAJEAkgCTAJQAlQCWAJcAmACZAJoAmwCcAJ0AngCfAKAAoQCiAKMApAClAKYApwCoAKkAqgCrAKwArQCuAK8AsACxALIAswC0ALUAtgC3ALgAuQC6ALsAvAC9AL4AvwDAAMEAwgDDAMQA",
           "dtype": "i2",
           "shape": "195"
          },
          "bdata": "AAABAAIAAwAEAAUABgAHAAgACQAKAAwADQAOAA8AEAARABIAEwAUABYAFwAYABkAGgAbABwAHQAeAB8AIAAhACIAIwAkACUAJgAnACgAKQAqACsALAAtAC4ALwAwADEAMgAzADQANQA2ADcAOAA5ADoAOwA8AD0APgA/AEAAQQBCAEMARABFAEYARwBIAEkASgBLAEwATQBOAE8AUABRAFIAUwBUAFUAVgBXAFgAWQBaAFsAXABdAF4AXwBgAGEAYgBjAGQAZQBmAGcAaABpAGoAawBsAG0AbgBvAHAAcQByAHMAdAB1AHYAdwB4AHkAegB7AHwAfQB+AH8AgACBAIIAgwCEAIUAhgCHAIgAiQCKAIsAjACNAI4AjwCQAJEAkgCTAJQAlQCWAJcAmACZAJoAmwCcAJ0AngCfAKAAoQCiAKMApAClAKYApwCoAKkAqgCrAKwArQCuAK8AsACxALIAswC0ALUAtgC3ALgAuQC6ALsAvAC9AL4AvwDAAMEAwgDDAMQA",
          "dtype": "i2"
         },
         "xaxis": "x",
         "y": {
          "_inputArray": {
           "0": null,
           "1": 51.972,
           "10": 113.684,
           "100": 47.032,
           "101": 47.433,
           "102": 47.849,
           "103": 47.804,
           "104": 47.618,
           "105": 47.689,
           "106": 47.306,
           "107": 47.415,
           "108": 46.492,
           "109": 46.038,
           "11": 105.911,
           "110": 47.291,
           "111": 47.003,
           "112": 46.917,
           "113": 46.924,
           "114": 47.275,
           "115": 46.586,
           "116": 46.511,
           "117": 45.55,
           "118": 48.821,
           "119": 47.021,
           "12": 146.432,
           "120": 46.108,
           "121": 47.576,
           "122": 46.095,
           "123": 47.201,
           "124": 46.249,
           "125": 46.072,
           "126": 46.039,
           "127": 46.807,
           "128": 47.725,
           "129": 84.358,
           "13": 132.351,
           "130": 122.361,
           "131": 116.459,
           "132": 151.405,
           "133": 121.594,
           "134": 140.586,
           "135": 103.714,
           "136": 50.251,
           "137": 48.047,
           "138": 47.927,
           "139": 47.609,
           "14": 124.064,
           "140": 47.805,
           "141": 47.714,
           "142": 48.24,
           "143": 47.58,
           "144": 47.507,
           "145": 48.321,
           "146": 47.99,
           "147": 47.903,
           "148": 48.218,
           "149": 47.962,
           "15": 108.417,
           "150": 48.347,
           "151": 48.192,
           "152": 47.771,
           "153": 48.119,
           "154": 48.261,
           "155": 48.449,
           "156": 48.094,
           "157": 48.293,
           "158": 47.931,
           "159": 48.235,
           "16": 132.807,
           "160": 67.679,
           "161": 123.878,
           "162": 146.097,
           "163": 121.061,
           "164": 50.65,
           "165": 46.545,
           "166": 47.027,
           "167": 45.45,
           "168": 47.567,
           "169": 45.524,
           "17": 135.54,
           "170": 47.142,
           "171": 46.794,
           "172": 45.611,
           "173": 47.222,
           "174": 46.392,
           "175": 46.29,
           "176": 46.824,
           "177": 45.334,
           "178": 47.962,
           "179": 46.743,
           "18": 128.602,
           "180": 46.438,
           "181": 47.051,
           "182": 47.47,
           "183": 47.651,
           "184": 81.452,
           "185": 110.951,
           "186": 123.44,
           "187": 125.292,
           "188": 130.81,
           "189": 133.428,
           "19": 205.414,
           "190": 111.375,
           "191": 53.976,
           "192": 47.684,
           "193": 47.48,
           "194": 69.373,
           "2": 47.562,
           "20": 133.638,
           "21": 93.593,
           "22": 48.973,
           "23": 46.789,
           "24": 48.133,
           "25": 47.766,
           "26": 47.375,
           "27": 47.128,
           "28": 47.052,
           "29": 47.539,
           "3": 48.186,
           "30": 48.067,
           "31": 47.255,
           "32": 47.721,
           "33": 46.639,
           "34": 48.372,
           "35": 46.988,
           "36": 46.036,
           "37": 49.043,
           "38": 46.027,
           "39": 49.147,
           "4": 51.88,
           "40": 47.469,
           "41": 48.625,
           "42": 47.346,
           "43": 47.059,
           "44": 46.936,
           "45": 46.66,
           "46": 46.169,
           "47": 47.189,
           "48": 46.507,
           "49": 46.87,
           "5": 49.151,
           "50": 46.854,
           "51": 47.351,
           "52": 47.347,
           "53": 46.964,
           "54": 47.24,
           "55": 48.267,
           "56": 48.578,
           "57": 48.63,
           "58": 48.606,
           "59": 48.664,
           "6": 49.173,
           "60": 49.105,
           "61": 74.929,
           "62": 102.932,
           "63": 130.18,
           "64": 130.733,
           "65": 117.147,
           "66": 143.599,
           "67": 136.513,
           "68": 99.827,
           "69": 87.921,
           "7": 49.193,
           "70": 117.783,
           "71": 129.448,
           "72": 120.224,
           "73": 143.872,
           "74": 108.121,
           "75": 50.842,
           "76": 48.044,
           "77": 47.531,
           "78": 47.852,
           "79": 48.12,
           "8": 49.347,
           "80": 48.331,
           "81": 85.232,
           "82": 121.855,
           "83": 142.381,
           "84": 115.874,
           "85": 50.764,
           "86": 47.568,
           "87": 47.579,
           "88": 47.7,
           "89": 47.677,
           "9": 50.814,
           "90": 47.599,
           "91": 47.368,
           "92": 46.948,
           "93": 47.518,
           "94": 47.365,
           "95": 47.223,
           "96": 47.648,
           "97": 47.119,
           "98": 47.323,
           "99": 47.271,
           "bdata": "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",
           "dtype": "f8",
           "shape": "195"
          },
          "bdata": "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",
          "dtype": "f8"
         },
         "yaxis": "y"
        }
       ],
       "layout": {
        "annotations": [
         {
          "showarrow": false,
          "text": "filtered: 70sec",
          "x": 1,
          "xanchor": "right",
          "xref": "x domain",
          "y": 70,
          "yanchor": "bottom",
          "yref": "y"
         }
        ],
        "autosize": true,
        "legend": {
         "tracegroupgap": 0
        },
        "shapes": [
         {
          "line": {
           "color": "red",
           "width": 0.5
          },
          "type": "line",
          "x0": 0,
          "x1": 1,
          "xref": "x domain",
          "y0": 70,
          "y1": 70,
          "yref": "y"
         }
        ],
        "template": {
         "data": {
          "bar": [
           {
            "error_x": {
             "color": "#2a3f5f"
            },
            "error_y": {
             "color": "#2a3f5f"
            },
            "marker": {
             "line": {
              "color": "#E5ECF6",
              "width": 0.5
             },
             "pattern": {
              "fillmode": "overlay",
              "size": 10,
              "solidity": 0.2
             }
            },
            "type": "bar"
           }
          ],
          "barpolar": [
           {
            "marker": {
             "line": {
              "color": "#E5ECF6",
              "width": 0.5
             },
             "pattern": {
              "fillmode": "overlay",
              "size": 10,
              "solidity": 0.2
             }
            },
            "type": "barpolar"
           }
          ],
          "carpet": [
           {
            "aaxis": {
             "endlinecolor": "#2a3f5f",
             "gridcolor": "white",
             "linecolor": "white",
             "minorgridcolor": "white",
             "startlinecolor": "#2a3f5f"
            },
            "baxis": {
             "endlinecolor": "#2a3f5f",
             "gridcolor": "white",
             "linecolor": "white",
             "minorgridcolor": "white",
             "startlinecolor": "#2a3f5f"
            },
            "type": "carpet"
           }
          ],
          "choropleth": [
           {
            "colorbar": {
             "outlinewidth": 0,
             "ticks": ""
            },
            "type": "choropleth"
           }
          ],
          "contour": [
           {
            "colorbar": {
             "outlinewidth": 0,
             "ticks": ""
            },
            "colorscale": [
             [
              0,
              "#0d0887"
             ],
             [
              0.1111111111111111,
              "#46039f"
             ],
             [
              0.2222222222222222,
              "#7201a8"
             ],
             [
              0.3333333333333333,
              "#9c179e"
             ],
             [
              0.4444444444444444,
              "#bd3786"
             ],
             [
              0.5555555555555556,
              "#d8576b"
             ],
             [
              0.6666666666666666,
              "#ed7953"
             ],
             [
              0.7777777777777778,
              "#fb9f3a"
             ],
             [
              0.8888888888888888,
              "#fdca26"
             ],
             [
              1,
              "#f0f921"
             ]
            ],
            "type": "contour"
           }
          ],
          "contourcarpet": [
           {
            "colorbar": {
             "outlinewidth": 0,
             "ticks": ""
            },
            "type": "contourcarpet"
           }
          ],
          "heatmap": [
           {
            "colorbar": {
             "outlinewidth": 0,
             "ticks": ""
            },
            "colorscale": [
             [
              0,
              "#0d0887"
             ],
             [
              0.1111111111111111,
              "#46039f"
             ],
             [
              0.2222222222222222,
              "#7201a8"
             ],
             [
              0.3333333333333333,
              "#9c179e"
             ],
             [
              0.4444444444444444,
              "#bd3786"
             ],
             [
              0.5555555555555556,
              "#d8576b"
             ],
             [
              0.6666666666666666,
              "#ed7953"
             ],
             [
              0.7777777777777778,
              "#fb9f3a"
             ],
             [
              0.8888888888888888,
              "#fdca26"
             ],
             [
              1,
              "#f0f921"
             ]
            ],
            "type": "heatmap"
           }
          ],
          "histogram": [
           {
            "marker": {
             "pattern": {
              "fillmode": "overlay",
              "size": 10,
              "solidity": 0.2
             }
            },
            "type": "histogram"
           }
          ],
          "histogram2d": [
           {
            "colorbar": {
             "outlinewidth": 0,
             "ticks": ""
            },
            "colorscale": [
             [
              0,
              "#0d0887"
             ],
             [
              0.1111111111111111,
              "#46039f"
             ],
             [
              0.2222222222222222,
              "#7201a8"
             ],
             [
              0.3333333333333333,
              "#9c179e"
             ],
             [
              0.4444444444444444,
              "#bd3786"
             ],
             [
              0.5555555555555556,
              "#d8576b"
             ],
             [
              0.6666666666666666,
              "#ed7953"
             ],
             [
              0.7777777777777778,
              "#fb9f3a"
             ],
             [
              0.8888888888888888,
              "#fdca26"
             ],
             [
              1,
              "#f0f921"
             ]
            ],
            "type": "histogram2d"
           }
          ],
          "histogram2dcontour": [
           {
            "colorbar": {
             "outlinewidth": 0,
             "ticks": ""
            },
            "colorscale": [
             [
              0,
              "#0d0887"
             ],
             [
              0.1111111111111111,
              "#46039f"
             ],
             [
              0.2222222222222222,
              "#7201a8"
             ],
             [
              0.3333333333333333,
              "#9c179e"
             ],
             [
              0.4444444444444444,
              "#bd3786"
             ],
             [
              0.5555555555555556,
              "#d8576b"
             ],
             [
              0.6666666666666666,
              "#ed7953"
             ],
             [
              0.7777777777777778,
              "#fb9f3a"
             ],
             [
              0.8888888888888888,
              "#fdca26"
             ],
             [
              1,
              "#f0f921"
             ]
            ],
            "type": "histogram2dcontour"
           }
          ],
          "mesh3d": [
           {
            "colorbar": {
             "outlinewidth": 0,
             "ticks": ""
            },
            "type": "mesh3d"
           }
          ],
          "parcoords": [
           {
            "line": {
             "colorbar": {
              "outlinewidth": 0,
              "ticks": ""
             }
            },
            "type": "parcoords"
           }
          ],
          "pie": [
           {
            "automargin": true,
            "type": "pie"
           }
          ],
          "scatter": [
           {
            "fillpattern": {
             "fillmode": "overlay",
             "size": 10,
             "solidity": 0.2
            },
            "type": "scatter"
           }
          ],
          "scatter3d": [
           {
            "line": {
             "colorbar": {
              "outlinewidth": 0,
              "ticks": ""
             }
            },
            "marker": {
             "colorbar": {
              "outlinewidth": 0,
              "ticks": ""
             }
            },
            "type": "scatter3d"
           }
          ],
          "scattercarpet": [
           {
            "marker": {
             "colorbar": {
              "outlinewidth": 0,
              "ticks": ""
             }
            },
            "type": "scattercarpet"
           }
          ],
          "scattergeo": [
           {
            "marker": {
             "colorbar": {
              "outlinewidth": 0,
              "ticks": ""
             }
            },
            "type": "scattergeo"
           }
          ],
          "scattergl": [
           {
            "marker": {
             "colorbar": {
              "outlinewidth": 0,
              "ticks": ""
             }
            },
            "type": "scattergl"
           }
          ],
          "scattermap": [
           {
            "marker": {
             "colorbar": {
              "outlinewidth": 0,
              "ticks": ""
             }
            },
            "type": "scattermap"
           }
          ],
          "scattermapbox": [
           {
            "marker": {
             "colorbar": {
              "outlinewidth": 0,
              "ticks": ""
             }
            },
            "type": "scattermapbox"
           }
          ],
          "scatterpolar": [
           {
            "marker": {
             "colorbar": {
              "outlinewidth": 0,
              "ticks": ""
             }
            },
            "type": "scatterpolar"
           }
          ],
          "scatterpolargl": [
           {
            "marker": {
             "colorbar": {
              "outlinewidth": 0,
              "ticks": ""
             }
            },
            "type": "scatterpolargl"
           }
          ],
          "scatterternary": [
           {
            "marker": {
             "colorbar": {
              "outlinewidth": 0,
              "ticks": ""
             }
            },
            "type": "scatterternary"
           }
          ],
          "surface": [
           {
            "colorbar": {
             "outlinewidth": 0,
             "ticks": ""
            },
            "colorscale": [
             [
              0,
              "#0d0887"
             ],
             [
              0.1111111111111111,
              "#46039f"
             ],
             [
              0.2222222222222222,
              "#7201a8"
             ],
             [
              0.3333333333333333,
              "#9c179e"
             ],
             [
              0.4444444444444444,
              "#bd3786"
             ],
             [
              0.5555555555555556,
              "#d8576b"
             ],
             [
              0.6666666666666666,
              "#ed7953"
             ],
             [
              0.7777777777777778,
              "#fb9f3a"
             ],
             [
              0.8888888888888888,
              "#fdca26"
             ],
             [
              1,
              "#f0f921"
             ]
            ],
            "type": "surface"
           }
          ],
          "table": [
           {
            "cells": {
             "fill": {
              "color": "#EBF0F8"
             },
             "line": {
              "color": "white"
             }
            },
            "header": {
             "fill": {
              "color": "#C8D4E3"
             },
             "line": {
              "color": "white"
             }
            },
            "type": "table"
           }
          ]
         },
         "layout": {
          "annotationdefaults": {
           "arrowcolor": "#2a3f5f",
           "arrowhead": 0,
           "arrowwidth": 1
          },
          "autotypenumbers": "strict",
          "coloraxis": {
           "colorbar": {
            "outlinewidth": 0,
            "ticks": ""
           }
          },
          "colorscale": {
           "diverging": [
            [
             0,
             "#8e0152"
            ],
            [
             0.1,
             "#c51b7d"
            ],
            [
             0.2,
             "#de77ae"
            ],
            [
             0.3,
             "#f1b6da"
            ],
            [
             0.4,
             "#fde0ef"
            ],
            [
             0.5,
             "#f7f7f7"
            ],
            [
             0.6,
             "#e6f5d0"
            ],
            [
             0.7,
             "#b8e186"
            ],
            [
             0.8,
             "#7fbc41"
            ],
            [
             0.9,
             "#4d9221"
            ],
            [
             1,
             "#276419"
            ]
           ],
           "sequential": [
            [
             0,
             "#0d0887"
            ],
            [
             0.1111111111111111,
             "#46039f"
            ],
            [
             0.2222222222222222,
             "#7201a8"
            ],
            [
             0.3333333333333333,
             "#9c179e"
            ],
            [
             0.4444444444444444,
             "#bd3786"
            ],
            [
             0.5555555555555556,
             "#d8576b"
            ],
            [
             0.6666666666666666,
             "#ed7953"
            ],
            [
             0.7777777777777778,
             "#fb9f3a"
            ],
            [
             0.8888888888888888,
             "#fdca26"
            ],
            [
             1,
             "#f0f921"
            ]
           ],
           "sequentialminus": [
            [
             0,
             "#0d0887"
            ],
            [
             0.1111111111111111,
             "#46039f"
            ],
            [
             0.2222222222222222,
             "#7201a8"
            ],
            [
             0.3333333333333333,
             "#9c179e"
            ],
            [
             0.4444444444444444,
             "#bd3786"
            ],
            [
             0.5555555555555556,
             "#d8576b"
            ],
            [
             0.6666666666666666,
             "#ed7953"
            ],
            [
             0.7777777777777778,
             "#fb9f3a"
            ],
            [
             0.8888888888888888,
             "#fdca26"
            ],
            [
             1,
             "#f0f921"
            ]
           ]
          },
          "colorway": [
           "#636efa",
           "#EF553B",
           "#00cc96",
           "#ab63fa",
           "#FFA15A",
           "#19d3f3",
           "#FF6692",
           "#B6E880",
           "#FF97FF",
           "#FECB52"
          ],
          "font": {
           "color": "#2a3f5f"
          },
          "geo": {
           "bgcolor": "white",
           "lakecolor": "white",
           "landcolor": "#E5ECF6",
           "showlakes": true,
           "showland": true,
           "subunitcolor": "white"
          },
          "hoverlabel": {
           "align": "left"
          },
          "hovermode": "closest",
          "mapbox": {
           "style": "light"
          },
          "paper_bgcolor": "white",
          "plot_bgcolor": "#E5ECF6",
          "polar": {
           "angularaxis": {
            "gridcolor": "white",
            "linecolor": "white",
            "ticks": ""
           },
           "bgcolor": "#E5ECF6",
           "radialaxis": {
            "gridcolor": "white",
            "linecolor": "white",
            "ticks": ""
           }
          },
          "scene": {
           "xaxis": {
            "backgroundcolor": "#E5ECF6",
            "gridcolor": "white",
            "gridwidth": 2,
            "linecolor": "white",
            "showbackground": true,
            "ticks": "",
            "zerolinecolor": "white"
           },
           "yaxis": {
            "backgroundcolor": "#E5ECF6",
            "gridcolor": "white",
            "gridwidth": 2,
            "linecolor": "white",
            "showbackground": true,
            "ticks": "",
            "zerolinecolor": "white"
           },
           "zaxis": {
            "backgroundcolor": "#E5ECF6",
            "gridcolor": "white",
            "gridwidth": 2,
            "linecolor": "white",
            "showbackground": true,
            "ticks": "",
            "zerolinecolor": "white"
           }
          },
          "shapedefaults": {
           "line": {
            "color": "#2a3f5f"
           }
          },
          "ternary": {
           "aaxis": {
            "gridcolor": "white",
            "linecolor": "white",
            "ticks": ""
           },
           "baxis": {
            "gridcolor": "white",
            "linecolor": "white",
            "ticks": ""
           },
           "bgcolor": "#E5ECF6",
           "caxis": {
            "gridcolor": "white",
            "linecolor": "white",
            "ticks": ""
           }
          },
          "title": {
           "x": 0.05
          },
          "xaxis": {
           "automargin": true,
           "gridcolor": "white",
           "linecolor": "white",
           "ticks": "",
           "title": {
            "standoff": 15
           },
           "zerolinecolor": "white",
           "zerolinewidth": 2
          },
          "yaxis": {
           "automargin": true,
           "gridcolor": "white",
           "linecolor": "white",
           "ticks": "",
           "title": {
            "standoff": 15
           },
           "zerolinecolor": "white",
           "zerolinewidth": 2
          }
         }
        },
        "title": {
         "text": "LAP TIMES"
        },
        "xaxis": {
         "anchor": "y",
         "autorange": true,
         "domain": [
          0,
          1
         ],
         "range": [
          0,
          196
         ],
         "title": {
          "text": "Lap"
         },
         "type": "linear"
        },
        "yaxis": {
         "anchor": "x",
         "autorange": true,
         "domain": [
          0,
          1
         ],
         "range": [
          36.44066666666667,
          214.30733333333333
         ],
         "title": {
          "text": "LapTime"
         },
         "type": "linear"
        }
       }
      },
      "image/png": "[encoded data removed]"
     },
     "metadata": {},
     "output_type": "display_data"
    }
   ],
   "source": [
    "driver_csv = path + driver + '.csv'\n",
    "df = pd.read_csv(driver_csv)\n",
    "df = df.drop([11,21])\n",
    "print(df.head(5))\n",
    "\n",
    "# check lap_value to use\n",
    "annotation = 'filtered: ' + str(filtered_speed_value) + 'mph'\n",
    "fig = px.line(df, x='Lap', y='LapSpeed', title='SPEED')\n",
    "fig.add_hline(y=filtered_speed_value, line_width=0.5, line_color='red', annotation_text=annotation)\n",
    "fig.show()\n",
    "\n",
    "# check speed_value to use\n",
    "annotation = 'filtered: ' + str(filtered_lap_value) + 'sec'\n",
    "fig = px.line(df, x='Lap', y='LapTime', title='LAP TIMES')\n",
    "fig.add_hline(y=filtered_lap_value, line_width=0.5, line_color='red', annotation_text=annotation)\n",
    "fig.show()\n",
    "\n",
    "del df"
   ]
  },
  {
   "cell_type": "markdown",
   "id": "30e72575-dcb4-4f42-b95f-2edfe60f087c",
   "metadata": {},
   "source": [
    "# Collect Summary info for Race_Name.csv"
   ]
  },
  {
   "cell_type": "code",
   "execution_count": 4,
   "id": "03ee3fe5-f852-4f9b-8fe4-fe7532c77af1",
   "metadata": {},
   "outputs": [
    {
     "ename": "KeyError",
     "evalue": "'Number'",
     "output_type": "error",
     "traceback": [
      "\u001b[0;31m---------------------------------------------------------------------------\u001b[0m",
      "\u001b[0;31mKeyError\u001b[0m                                  Traceback (most recent call last)",
      "File \u001b[0;32m~/env/jupyter/lib/python3.10/site-packages/pandas/core/indexes/base.py:3805\u001b[0m, in \u001b[0;36mIndex.get_loc\u001b[0;34m(self, key)\u001b[0m\n\u001b[1;32m   3804\u001b[0m \u001b[38;5;28;01mtry\u001b[39;00m:\n\u001b[0;32m-> 3805\u001b[0m     \u001b[38;5;28;01mreturn\u001b[39;00m \u001b[38;5;28;43mself\u001b[39;49m\u001b[38;5;241;43m.\u001b[39;49m\u001b[43m_engine\u001b[49m\u001b[38;5;241;43m.\u001b[39;49m\u001b[43mget_loc\u001b[49m\u001b[43m(\u001b[49m\u001b[43mcasted_key\u001b[49m\u001b[43m)\u001b[49m\n\u001b[1;32m   3806\u001b[0m \u001b[38;5;28;01mexcept\u001b[39;00m \u001b[38;5;167;01mKeyError\u001b[39;00m \u001b[38;5;28;01mas\u001b[39;00m err:\n",
      "File \u001b[0;32mindex.pyx:167\u001b[0m, in \u001b[0;36mpandas._libs.index.IndexEngine.get_loc\u001b[0;34m()\u001b[0m\n",
      "File \u001b[0;32mindex.pyx:196\u001b[0m, in \u001b[0;36mpandas._libs.index.IndexEngine.get_loc\u001b[0;34m()\u001b[0m\n",
      "File \u001b[0;32mpandas/_libs/hashtable_class_helper.pxi:7081\u001b[0m, in \u001b[0;36mpandas._libs.hashtable.PyObjectHashTable.get_item\u001b[0;34m()\u001b[0m\n",
      "File \u001b[0;32mpandas/_libs/hashtable_class_helper.pxi:7089\u001b[0m, in \u001b[0;36mpandas._libs.hashtable.PyObjectHashTable.get_item\u001b[0;34m()\u001b[0m\n",
      "\u001b[0;31mKeyError\u001b[0m: 'Number'",
      "\nThe above exception was the direct cause of the following exception:\n",
      "\u001b[0;31mKeyError\u001b[0m                                  Traceback (most recent call last)",
      "Cell \u001b[0;32mIn[4], line 12\u001b[0m\n\u001b[1;32m     10\u001b[0m Driver_Name \u001b[38;5;241m=\u001b[39m file\u001b[38;5;241m.\u001b[39mlstrip(path)\u001b[38;5;241m.\u001b[39mrstrip(\u001b[38;5;124m'\u001b[39m\u001b[38;5;124m.csv\u001b[39m\u001b[38;5;124m'\u001b[39m)\n\u001b[1;32m     11\u001b[0m \u001b[38;5;66;03m# Car number\u001b[39;00m\n\u001b[0;32m---> 12\u001b[0m Car \u001b[38;5;241m=\u001b[39m \u001b[43mdf\u001b[49m\u001b[43m[\u001b[49m\u001b[38;5;124;43m'\u001b[39;49m\u001b[38;5;124;43mNumber\u001b[39;49m\u001b[38;5;124;43m'\u001b[39;49m\u001b[43m]\u001b[49m\n\u001b[1;32m     13\u001b[0m \u001b[38;5;66;03m# Manufacturer\u001b[39;00m\n\u001b[1;32m     14\u001b[0m Manu \u001b[38;5;241m=\u001b[39m df[\u001b[38;5;124m'\u001b[39m\u001b[38;5;124mManufacturer\u001b[39m\u001b[38;5;124m'\u001b[39m]\n",
      "File \u001b[0;32m~/env/jupyter/lib/python3.10/site-packages/pandas/core/frame.py:4102\u001b[0m, in \u001b[0;36mDataFrame.__getitem__\u001b[0;34m(self, key)\u001b[0m\n\u001b[1;32m   4100\u001b[0m \u001b[38;5;28;01mif\u001b[39;00m \u001b[38;5;28mself\u001b[39m\u001b[38;5;241m.\u001b[39mcolumns\u001b[38;5;241m.\u001b[39mnlevels \u001b[38;5;241m>\u001b[39m \u001b[38;5;241m1\u001b[39m:\n\u001b[1;32m   4101\u001b[0m     \u001b[38;5;28;01mreturn\u001b[39;00m \u001b[38;5;28mself\u001b[39m\u001b[38;5;241m.\u001b[39m_getitem_multilevel(key)\n\u001b[0;32m-> 4102\u001b[0m indexer \u001b[38;5;241m=\u001b[39m \u001b[38;5;28;43mself\u001b[39;49m\u001b[38;5;241;43m.\u001b[39;49m\u001b[43mcolumns\u001b[49m\u001b[38;5;241;43m.\u001b[39;49m\u001b[43mget_loc\u001b[49m\u001b[43m(\u001b[49m\u001b[43mkey\u001b[49m\u001b[43m)\u001b[49m\n\u001b[1;32m   4103\u001b[0m \u001b[38;5;28;01mif\u001b[39;00m is_integer(indexer):\n\u001b[1;32m   4104\u001b[0m     indexer \u001b[38;5;241m=\u001b[39m [indexer]\n",
      "File \u001b[0;32m~/env/jupyter/lib/python3.10/site-packages/pandas/core/indexes/base.py:3812\u001b[0m, in \u001b[0;36mIndex.get_loc\u001b[0;34m(self, key)\u001b[0m\n\u001b[1;32m   3807\u001b[0m     \u001b[38;5;28;01mif\u001b[39;00m \u001b[38;5;28misinstance\u001b[39m(casted_key, \u001b[38;5;28mslice\u001b[39m) \u001b[38;5;129;01mor\u001b[39;00m (\n\u001b[1;32m   3808\u001b[0m         \u001b[38;5;28misinstance\u001b[39m(casted_key, abc\u001b[38;5;241m.\u001b[39mIterable)\n\u001b[1;32m   3809\u001b[0m         \u001b[38;5;129;01mand\u001b[39;00m \u001b[38;5;28many\u001b[39m(\u001b[38;5;28misinstance\u001b[39m(x, \u001b[38;5;28mslice\u001b[39m) \u001b[38;5;28;01mfor\u001b[39;00m x \u001b[38;5;129;01min\u001b[39;00m casted_key)\n\u001b[1;32m   3810\u001b[0m     ):\n\u001b[1;32m   3811\u001b[0m         \u001b[38;5;28;01mraise\u001b[39;00m InvalidIndexError(key)\n\u001b[0;32m-> 3812\u001b[0m     \u001b[38;5;28;01mraise\u001b[39;00m \u001b[38;5;167;01mKeyError\u001b[39;00m(key) \u001b[38;5;28;01mfrom\u001b[39;00m \u001b[38;5;21;01merr\u001b[39;00m\n\u001b[1;32m   3813\u001b[0m \u001b[38;5;28;01mexcept\u001b[39;00m \u001b[38;5;167;01mTypeError\u001b[39;00m:\n\u001b[1;32m   3814\u001b[0m     \u001b[38;5;66;03m# If we have a listlike key, _check_indexing_error will raise\u001b[39;00m\n\u001b[1;32m   3815\u001b[0m     \u001b[38;5;66;03m#  InvalidIndexError. Otherwise we fall through and re-raise\u001b[39;00m\n\u001b[1;32m   3816\u001b[0m     \u001b[38;5;66;03m#  the TypeError.\u001b[39;00m\n\u001b[1;32m   3817\u001b[0m     \u001b[38;5;28mself\u001b[39m\u001b[38;5;241m.\u001b[39m_check_indexing_error(key)\n",
      "\u001b[0;31mKeyError\u001b[0m: 'Number'"
     ]
    }
   ],
   "source": [
    "use_csv = path + '*[!_race][!_summary][!_500].csv'\n",
    "\n",
    "csv_files = glob.glob(use_csv)\n",
    "\n",
    "df_list = []\n",
    "\n",
    "for file in csv_files:\n",
    "    df = pd.read_csv(file)\n",
    "    # Driver_Name\n",
    "    Driver_Name = file.lstrip(path).rstrip('.csv')\n",
    "    # Car number\n",
    "    Car = df['Number']\n",
    "    # Manufacturer\n",
    "    Manu = df['Manufacturer']\n",
    "    # Start_Pos\n",
    "    Start_Pos = df['RunningPos'].head(1).values\n",
    "    # Lowest_Pos\n",
    "    Lowest_Pos = df['RunningPos'].max()\n",
    "    # Highest_Pos\n",
    "    Highest_Pos = df['RunningPos'].min()\n",
    "    # Ending_Pos\n",
    "    Ending_Pos = df['RunningPos'].tail(1).values\n",
    "    # Pos_Change\n",
    "    Pos_Change = Start_Pos.astype(int) - Ending_Pos\n",
    "    # Ave running pos\n",
    "    ARP = round(df['RunningPos'].sum() / len(df['RunningPos']), 4)\n",
    "    # Fastest_Lap\n",
    "    filtered_lap = [x for x in df['LapTime'] if x <= filtered_lap_value]\n",
    "    Fastest_lap = min(filtered_lap)\n",
    "    # Ave_Lap\n",
    "    P50_lap = round(np.quantile(filtered_lap, 0.5), 4)\n",
    "    # 95% quartile lap time\n",
    "    P95_lap = round(np.quantile(filtered_lap, 0.95), 4)\n",
    "    # Highest_Speed\n",
    "    filtered_speed = [x for x in df['LapSpeed'] if x >= filtered_speed_value]\n",
    "    Highest_speed = max(filtered_speed)\n",
    "    # 50% quartile speed\n",
    "    P50_speed = round(np.quantile(filtered_speed, 0.5), 4)\n",
    "    # 95% quartile speed\n",
    "    P95_speed = round(np.quantile(filtered_speed, 0.95), 4)\n",
    "\n",
    "    # combine all into main race csv\n",
    "    data = {'Driver_Name': Driver_Name,'Start_Pos': Start_Pos,'Lowest_Pos': Lowest_Pos,'Highest_Pos': Highest_Pos,'Ending_Pos': Ending_Pos,'Pos_Change': Pos_Change,'ARP': ARP,'Fastest_Lap': Fastest_lap,'P50_lap': P50_lap,'P95_lap': P95_lap,'Highest_speed': Highest_speed,'P50_speed': P50_speed,'P95_speed': P95_speed}\n",
    "    # append dataframe to the list\n",
    "    df_list.append(data)\n",
    "\n",
    "race_data = pd.DataFrame(df_list)\n",
    "\n",
    "\n",
    "# clean Start_Pos\n",
    "clean_start_pos = race_data['Start_Pos'].astype(str)\n",
    "clean_start_pos = clean_start_pos.str.strip('[]')\n",
    "\n",
    "# clean Ending_Pos\n",
    "clean_end_pos = race_data['Ending_Pos'].astype(str)\n",
    "clean_end_pos = clean_end_pos.str.strip('[]')\n",
    "\n",
    "# clean Pos_Change\n",
    "clean_pos_change = race_data['Pos_Change'].astype(str)\n",
    "clean_pos_change = clean_pos_change.str.strip('[]')\n",
    "\n",
    "race_data['Start_Pos'] = clean_start_pos\n",
    "race_data['Ending_Pos'] = clean_end_pos\n",
    "race_data['Pos_Change'] = clean_pos_change\n",
    "print(race_data.head())\n",
    "\n",
    "# export as csv\n",
    "export_csv = path + race_name\n",
    "\n",
    "#race_data.to_csv(export_csv)"
   ]
  },
  {
   "cell_type": "code",
   "execution_count": null,
   "id": "dbf5ef0d-4e9d-45d5-bf7d-7a5ae8ed89ea",
   "metadata": {},
   "outputs": [],
   "source": []
  },
  {
   "cell_type": "code",
   "execution_count": null,
   "id": "6cec43f3-2d0c-49e5-b2cb-f892c458ad09",
   "metadata": {},
   "outputs": [],
   "source": []
  },
  {
   "cell_type": "code",
   "execution_count": null,
   "id": "950e29d2-3382-4c31-91a4-6d7dc60e47b7",
   "metadata": {},
   "outputs": [],
   "source": []
  },
  {
   "cell_type": "code",
   "execution_count": null,
   "id": "c85e80c4-fd5f-471b-8338-5f5835073189",
   "metadata": {},
   "outputs": [],
   "source": []
  }
 ],
 "metadata": {
  "kernelspec": {
   "display_name": "Python 3 (ipykernel)",
   "language": "python",
   "name": "python3"
  },
  "language_info": {
   "codemirror_mode": {
    "name": "ipython",
    "version": 3
   },
   "file_extension": ".py",
   "mimetype": "text/x-python",
   "name": "python",
   "nbconvert_exporter": "python",
   "pygments_lexer": "ipython3",
   "version": "3.10.12"
  }
 },
 "nbformat": 4,
 "nbformat_minor": 5
}
