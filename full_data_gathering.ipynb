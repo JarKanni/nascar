{
 "cells": [
  {
   "cell_type": "code",
   "execution_count": 1,
   "id": "a39dbb26-f19e-482a-8576-b7f5da443828",
   "metadata": {},
   "outputs": [],
   "source": [
    "import pandas as pd\n",
    "import requests\n",
    "import matplotlib.pyplot as plt\n",
    "import numpy as np\n",
    "import plotly.express as px\n",
    "import plotly.graph_objects as go\n",
    "\n",
    "# force to show all rows and columns\n",
    "pd.set_option('display.max_rows', None)  # Show all rows\n",
    "pd.set_option('display.max_columns', None)  # Show all columns"
   ]
  },
  {
   "cell_type": "code",
   "execution_count": 2,
   "id": "6835eef6-e67a-4c5a-8cfb-96b54556ce7a",
   "metadata": {},
   "outputs": [],
   "source": [
    "# variables to find race and driver, also cut off time to take out yellow flags and pit stop laps\n",
    "race_id = 5550\n",
    "driver_id = 0\n",
    "lap_time_cutoff = 17"
   ]
  },
  {
   "cell_type": "code",
   "execution_count": 3,
   "id": "a1238c45-2aa1-44ac-bb59-0b727012a1a8",
   "metadata": {},
   "outputs": [
    {
     "name": "stdout",
     "output_type": "stream",
     "text": [
      "   Number               FullName Manufacturer  NASCARDriverID\n",
      "0       5            Kyle Larson          Chv            4030\n",
      "1      11           Denny Hamlin          Tyt            1361\n",
      "2      54               Ty Gibbs          Tyt            4368\n",
      "3      19          Chase Briscoe          Tyt            4228\n",
      "4      12            Ryan Blaney          Frd            4023\n",
      "5      24          William Byron          Chv            4184\n",
      "6       1          Ross Chastain          Chv            4001\n",
      "7      20       Christopher Bell          Tyt            4153\n",
      "8      16        AJ Allmendinger          Chv            3774\n",
      "9       3          Austin Dillon          Chv            3873\n",
      "10     77         Carson Hocevar          Chv            4326\n",
      "11     21             Josh Berry          Frd            4123\n",
      "12      7           Justin Haley          Chv            4172\n",
      "13      8             Kyle Busch          Chv             454\n",
      "14      9          Chase Elliott          Chv            4062\n",
      "15      6        Brad Keselowski          Frd            1816\n",
      "16      2         Austin Cindric          Frd            4180\n",
      "17     45          Tyler Reddick          Tyt            4065\n",
      "18     23          Bubba Wallace          Tyt            4025\n",
      "19     60            Ryan Preece          Frd            4070\n",
      "20     42   John Hunter Nemechek          Tyt            4092\n",
      "21     47    Ricky Stenhouse Jr.          Chv            3888\n",
      "22      4           Noah Gragson          Frd            4224\n",
      "23     22            Joey Logano          Frd            3859\n",
      "24     17         Chris Buescher          Frd            3989\n",
      "25     43             Erik Jones          Tyt            4059\n",
      "26     38             Zane Smith          Frd            4272\n",
      "27     35         Riley Herbst #          Tyt            4269\n",
      "28     41            Cole Custer          Frd            4104\n",
      "29     71       Michael McDowell          Chv            3832\n",
      "30     33        * Jesse Love(i)          Chv            4463\n",
      "31     10              Ty Dillon          Chv            4013\n",
      "32     99          Daniel Suarez          Chv            4113\n",
      "33     01         * Corey LaJoie          Frd            4096\n",
      "34     34         Todd Gilliland          Frd            4231\n",
      "35     51              Cody Ware          Frd            4125\n",
      "36     48            Alex Bowman          Chv            4045\n",
      "37     88  Shane Van Gisbergen #          Chv            4469\n",
      "38     66      * Josh Bilicki(i)          Frd            4213\n"
     ]
    }
   ],
   "source": [
    "# Find driver info by index number (ex: Suarez is 17)\n",
    "url = f'https://cf.nascar.com/cacher/2025/1/{race_id}/lap-times.json'\n",
    "json = requests.get(url).json()\n",
    "driver_list = pd.json_normalize(json['laps'])\n",
    "\n",
    "print(driver_list[['Number','FullName','Manufacturer','NASCARDriverID']])"
   ]
  },
  {
   "cell_type": "code",
   "execution_count": 4,
   "id": "de0175cf-e8d6-4737-8c84-2498c7627b4a",
   "metadata": {},
   "outputs": [
    {
     "name": "stdout",
     "output_type": "stream",
     "text": [
      "Kyle Larson\n",
      "Food City 500 @ Bristol Motor Speedway\n"
     ]
    }
   ],
   "source": [
    "# pull lap times from api\n",
    "url = f'https://cf.nascar.com/cacher/2025/1/{race_id}/lap-times.json'\n",
    "json = requests.get(url).json()\n",
    "\n",
    "# collect lap times and filter for yellows and pit stops\n",
    "race_laps = pd.json_normalize(json['laps'][driver_id]['Laps'])\n",
    "race_laps_filtered = race_laps[race_laps['LapTime'] < lap_time_cutoff]\n",
    "\n",
    "# find driver name\n",
    "driver = pd.json_normalize(json['laps'][driver_id])\n",
    "driver = driver['FullName'].iloc[0]\n",
    "\n",
    "# find race name and location\n",
    "url = 'https://cf.nascar.com/cacher/2025/race_list_basic.json'\n",
    "json = requests.get(url).json()\n",
    "race = pd.json_normalize(json['series_1'])\n",
    "race = race[['race_id', 'track_name', 'race_name']].set_index('race_id')\n",
    "race = race.loc[race_id]\n",
    "location = race.values[0]\n",
    "name = race.values[1]\n",
    "race = name + ' @ ' + location\n",
    "\n",
    "print(driver)\n",
    "print(race)"
   ]
  },
  {
   "cell_type": "code",
   "execution_count": 5,
   "id": "850faf0e-d06e-47d5-8912-7c23ed0ddc54",
   "metadata": {},
   "outputs": [
    {
     "name": "stdout",
     "output_type": "stream",
     "text": [
      "    Lap  LapTime LapSpeed  RunningPos\n",
      "1     1   16.463  116.552           5\n",
      "2     2   15.831  121.205           5\n",
      "3     3   15.848  121.075           5\n",
      "4     4   15.856  121.014           5\n",
      "5     5   15.969  120.158           5\n",
      "6     6   15.978  120.090           5\n",
      "7     7   16.083  119.306           4\n",
      "8     8   15.977  120.098           4\n",
      "9     9   16.118  119.047           4\n",
      "10   10   16.121  119.025           4\n"
     ]
    }
   ],
   "source": [
    "print(race_laps_filtered.head(10))"
   ]
  },
  {
   "cell_type": "code",
   "execution_count": 6,
   "id": "9369c15f-2b26-4b46-8935-5420674838ff",
   "metadata": {},
   "outputs": [
    {
     "name": "stdout",
     "output_type": "stream",
     "text": [
      "Kyle Larson, Food City 500 @ Bristol Motor Speedway\n",
      "Min Lap:  15.386\n",
      "Ave Lap:  15.9082\n",
      "Max Lap:  16.635 \n",
      "\n",
      "Averages:\n",
      " LapTime        15.9082\n",
      "LapSpeed      120.6371\n",
      "RunningPos      1.6330\n",
      "dtype: float64 \n",
      "\n",
      "\n",
      "Started: P-3 \n",
      "Ended: P-1\n"
     ]
    }
   ],
   "source": [
    "# driver laps\n",
    "# take out yellow flag laps by lap_time_cutoff\n",
    "# post fixed averages\n",
    "\n",
    "start_pos = race_laps['RunningPos'].head(1).to_numpy()\n",
    "start_pos = start_pos[0]\n",
    "end_pos = race_laps['RunningPos'].tail(1).to_numpy()\n",
    "end_pos = end_pos[0]\n",
    "\n",
    "print(driver + ', ' + race)\n",
    "print('Min Lap: ', race_laps_filtered['LapTime'].min())\n",
    "print('Ave Lap: ', round(race_laps_filtered['LapTime'].astype(float).mean(), 4))\n",
    "print('Max Lap: ', race_laps_filtered['LapTime'].max(), '\\n')\n",
    "print('Averages:\\n', round(race_laps_filtered[['LapTime','LapSpeed','RunningPos']].astype(float).mean(), 4), '\\n\\n')\n",
    "print(f'Started: P-{start_pos} \\nEnded: P-{end_pos}')"
   ]
  },
  {
   "cell_type": "markdown",
   "id": "5ecd9a7a-19bd-4d88-abd3-48206d5c7dc5",
   "metadata": {},
   "source": [
    "---"
   ]
  },
  {
   "cell_type": "markdown",
   "id": "aa8b7221-c432-4bc7-bbdc-66b996652b62",
   "metadata": {},
   "source": [
    "## plotly chart: tire degredation with cleaned lap data"
   ]
  },
  {
   "cell_type": "code",
   "execution_count": 7,
   "id": "2a7ab0a0-a579-4d1e-8388-9a1fdd6e4f14",
   "metadata": {},
   "outputs": [
    {
     "data": {
      "application/vnd.plotly.v1+json": {
       "config": {
        "plotlyServerURL": "https://plot.ly"
       },
       "data": [
        {
         "hovertemplate": "Lap=%{x}<br>Laptime=%{y}<extra></extra>",
         "legendgroup": "",
         "marker": {
          "color": "blue",
          "symbol": "circle"
         },
         "mode": "markers",
         "name": "",
         "orientation": "v",
         "showlegend": false,
         "type": "scatter",
         "x": {
          "_inputArray": {
           "0": 1,
           "1": 2,
           "10": 11,
           "100": 101,
           "101": 102,
           "102": 103,
           "103": 104,
           "104": 105,
           "105": 106,
           "106": 107,
           "107": 108,
           "108": 109,
           "109": 110,
           "11": 12,
           "110": 111,
           "111": 112,
           "112": 113,
           "113": 114,
           "114": 115,
           "115": 116,
           "116": 117,
           "117": 118,
           "118": 119,
           "119": 120,
           "12": 13,
           "120": 121,
           "121": 122,
           "122": 123,
           "123": 124,
           "124": 125,
           "125": 143,
           "126": 144,
           "127": 145,
           "128": 146,
           "129": 147,
           "13": 14,
           "130": 148,
           "131": 149,
           "132": 150,
           "133": 151,
           "134": 152,
           "135": 153,
           "136": 154,
           "137": 155,
           "138": 156,
           "139": 157,
           "14": 15,
           "140": 158,
           "141": 159,
           "142": 160,
           "143": 161,
           "144": 162,
           "145": 163,
           "146": 164,
           "147": 165,
           "148": 166,
           "149": 167,
           "15": 16,
           "150": 168,
           "151": 169,
           "152": 170,
           "153": 171,
           "154": 172,
           "155": 173,
           "156": 174,
           "157": 175,
           "158": 176,
           "159": 177,
           "16": 17,
           "160": 189,
           "161": 190,
           "162": 191,
           "163": 192,
           "164": 193,
           "165": 194,
           "166": 195,
           "167": 196,
           "168": 197,
           "169": 198,
           "17": 18,
           "170": 199,
           "171": 200,
           "172": 201,
           "173": 202,
           "174": 203,
           "175": 204,
           "176": 205,
           "177": 206,
           "178": 207,
           "179": 208,
           "18": 19,
           "180": 209,
           "181": 210,
           "182": 211,
           "183": 212,
           "184": 213,
           "185": 214,
           "186": 215,
           "187": 216,
           "188": 217,
           "189": 218,
           "19": 20,
           "190": 219,
           "191": 220,
           "192": 221,
           "193": 222,
           "194": 223,
           "195": 224,
           "196": 225,
           "197": 226,
           "198": 227,
           "199": 228,
           "2": 3,
           "20": 21,
           "200": 229,
           "201": 230,
           "202": 231,
           "203": 232,
           "204": 233,
           "205": 234,
           "206": 235,
           "207": 236,
           "208": 237,
           "209": 238,
           "21": 22,
           "210": 239,
           "211": 240,
           "212": 241,
           "213": 242,
           "214": 243,
           "215": 244,
           "216": 245,
           "217": 246,
           "218": 247,
           "219": 248,
           "22": 23,
           "220": 249,
           "221": 250,
           "222": 266,
           "223": 267,
           "224": 268,
           "225": 269,
           "226": 270,
           "227": 271,
           "228": 272,
           "229": 273,
           "23": 24,
           "230": 274,
           "231": 275,
           "232": 276,
           "233": 277,
           "234": 278,
           "235": 279,
           "236": 280,
           "237": 281,
           "238": 282,
           "239": 283,
           "24": 25,
           "240": 284,
           "241": 285,
           "242": 286,
           "243": 287,
           "244": 288,
           "245": 289,
           "246": 290,
           "247": 291,
           "248": 292,
           "249": 293,
           "25": 26,
           "250": 294,
           "251": 295,
           "252": 296,
           "253": 297,
           "254": 298,
           "255": 299,
           "256": 300,
           "257": 301,
           "258": 302,
           "259": 303,
           "26": 27,
           "260": 304,
           "261": 305,
           "262": 306,
           "263": 307,
           "264": 308,
           "265": 309,
           "266": 310,
           "267": 311,
           "268": 312,
           "269": 313,
           "27": 28,
           "270": 314,
           "271": 315,
           "272": 316,
           "273": 317,
           "274": 318,
           "275": 319,
           "276": 320,
           "277": 321,
           "278": 322,
           "279": 323,
           "28": 29,
           "280": 324,
           "281": 325,
           "282": 326,
           "283": 327,
           "284": 328,
           "285": 329,
           "286": 330,
           "287": 331,
           "288": 332,
           "289": 333,
           "29": 30,
           "290": 334,
           "291": 335,
           "292": 336,
           "293": 337,
           "294": 338,
           "295": 339,
           "296": 340,
           "297": 341,
           "298": 342,
           "299": 343,
           "3": 4,
           "30": 31,
           "300": 344,
           "301": 345,
           "302": 346,
           "303": 347,
           "304": 348,
           "305": 349,
           "306": 350,
           "307": 351,
           "308": 352,
           "309": 353,
           "31": 32,
           "310": 354,
           "311": 355,
           "312": 356,
           "313": 357,
           "314": 358,
           "315": 359,
           "316": 360,
           "317": 361,
           "318": 362,
           "319": 363,
           "32": 33,
           "320": 364,
           "321": 365,
           "322": 366,
           "323": 367,
           "324": 368,
           "325": 369,
           "326": 370,
           "327": 371,
           "328": 372,
           "329": 373,
           "33": 34,
           "330": 374,
           "331": 375,
           "332": 376,
           "333": 377,
           "334": 378,
           "335": 379,
           "336": 380,
           "337": 381,
           "338": 382,
           "339": 383,
           "34": 35,
           "340": 384,
           "341": 385,
           "342": 386,
           "343": 387,
           "344": 388,
           "345": 389,
           "346": 392,
           "347": 393,
           "348": 394,
           "349": 395,
           "35": 36,
           "350": 396,
           "351": 397,
           "352": 398,
           "353": 399,
           "354": 400,
           "355": 401,
           "356": 402,
           "357": 403,
           "358": 404,
           "359": 405,
           "36": 37,
           "360": 406,
           "361": 407,
           "362": 408,
           "363": 409,
           "364": 410,
           "365": 411,
           "366": 412,
           "367": 413,
           "368": 414,
           "369": 415,
           "37": 38,
           "370": 416,
           "371": 417,
           "372": 418,
           "373": 419,
           "374": 420,
           "375": 421,
           "376": 422,
           "377": 423,
           "378": 424,
           "379": 425,
           "38": 39,
           "380": 426,
           "381": 427,
           "382": 428,
           "383": 429,
           "384": 430,
           "385": 431,
           "386": 432,
           "387": 433,
           "388": 434,
           "389": 435,
           "39": 40,
           "390": 436,
           "391": 437,
           "392": 438,
           "393": 439,
           "394": 440,
           "395": 441,
           "396": 442,
           "397": 443,
           "398": 444,
           "399": 445,
           "4": 5,
           "40": 41,
           "400": 446,
           "401": 447,
           "402": 448,
           "403": 449,
           "404": 450,
           "405": 451,
           "406": 452,
           "407": 453,
           "408": 454,
           "409": 455,
           "41": 42,
           "410": 456,
           "411": 457,
           "412": 458,
           "413": 459,
           "414": 460,
           "415": 461,
           "416": 462,
           "417": 463,
           "418": 464,
           "419": 465,
           "42": 43,
           "420": 466,
           "421": 467,
           "422": 468,
           "423": 469,
           "424": 470,
           "425": 471,
           "426": 472,
           "427": 473,
           "428": 474,
           "429": 475,
           "43": 44,
           "430": 476,
           "431": 477,
           "432": 478,
           "433": 479,
           "434": 480,
           "435": 481,
           "436": 482,
           "437": 483,
           "438": 484,
           "439": 485,
           "44": 45,
           "440": 486,
           "441": 487,
           "442": 488,
           "443": 489,
           "444": 490,
           "445": 491,
           "446": 492,
           "447": 493,
           "448": 494,
           "449": 495,
           "45": 46,
           "450": 496,
           "451": 497,
           "452": 498,
           "453": 499,
           "454": 500,
           "46": 47,
           "47": 48,
           "48": 49,
           "49": 50,
           "5": 6,
           "50": 51,
           "51": 52,
           "52": 53,
           "53": 54,
           "54": 55,
           "55": 56,
           "56": 57,
           "57": 58,
           "58": 59,
           "59": 60,
           "6": 7,
           "60": 61,
           "61": 62,
           "62": 63,
           "63": 64,
           "64": 65,
           "65": 66,
           "66": 67,
           "67": 68,
           "68": 69,
           "69": 70,
           "7": 8,
           "70": 71,
           "71": 72,
           "72": 73,
           "73": 74,
           "74": 75,
           "75": 76,
           "76": 77,
           "77": 78,
           "78": 79,
           "79": 80,
           "8": 9,
           "80": 81,
           "81": 82,
           "82": 83,
           "83": 84,
           "84": 85,
           "85": 86,
           "86": 87,
           "87": 88,
           "88": 89,
           "89": 90,
           "9": 10,
           "90": 91,
           "91": 92,
           "92": 93,
           "93": 94,
           "94": 95,
           "95": 96,
           "96": 97,
           "97": 98,
           "98": 99,
           "99": 100,
           "bdata": "AQACAAMABAAFAAYABwAIAAkACgALAAwADQAOAA8AEAARABIAEwAUABUAFgAXABgAGQAaABsAHAAdAB4AHwAgACEAIgAjACQAJQAmACcAKAApACoAKwAsAC0ALgAvADAAMQAyADMANAA1ADYANwA4ADkAOgA7ADwAPQA+AD8AQABBAEIAQwBEAEUARgBHAEgASQBKAEsATABNAE4ATwBQAFEAUgBTAFQAVQBWAFcAWABZAFoAWwBcAF0AXgBfAGAAYQBiAGMAZABlAGYAZwBoAGkAagBrAGwAbQBuAG8AcABxAHIAcwB0AHUAdgB3AHgAeQB6AHsAfAB9AI8AkACRAJIAkwCUAJUAlgCXAJgAmQCaAJsAnACdAJ4AnwCgAKEAogCjAKQApQCmAKcAqACpAKoAqwCsAK0ArgCvALAAsQC9AL4AvwDAAMEAwgDDAMQAxQDGAMcAyADJAMoAywDMAM0AzgDPANAA0QDSANMA1ADVANYA1wDYANkA2gDbANwA3QDeAN8A4ADhAOIA4wDkAOUA5gDnAOgA6QDqAOsA7ADtAO4A7wDwAPEA8gDzAPQA9QD2APcA+AD5APoACgELAQwBDQEOAQ8BEAERARIBEwEUARUBFgEXARgBGQEaARsBHAEdAR4BHwEgASEBIgEjASQBJQEmAScBKAEpASoBKwEsAS0BLgEvATABMQEyATMBNAE1ATYBNwE4ATkBOgE7ATwBPQE+AT8BQAFBAUIBQwFEAUUBRgFHAUgBSQFKAUsBTAFNAU4BTwFQAVEBUgFTAVQBVQFWAVcBWAFZAVoBWwFcAV0BXgFfAWABYQFiAWMBZAFlAWYBZwFoAWkBagFrAWwBbQFuAW8BcAFxAXIBcwF0AXUBdgF3AXgBeQF6AXsBfAF9AX4BfwGAAYEBggGDAYQBhQGIAYkBigGLAYwBjQGOAY8BkAGRAZIBkwGUAZUBlgGXAZgBmQGaAZsBnAGdAZ4BnwGgAaEBogGjAaQBpQGmAacBqAGpAaoBqwGsAa0BrgGvAbABsQGyAbMBtAG1AbYBtwG4AbkBugG7AbwBvQG+Ab8BwAHBAcIBwwHEAcUBxgHHAcgByQHKAcsBzAHNAc4BzwHQAdEB0gHTAdQB1QHWAdcB2AHZAdoB2wHcAd0B3gHfAeAB4QHiAeMB5AHlAeYB5wHoAekB6gHrAewB7QHuAe8B8AHxAfIB8wH0AQ==",
           "dtype": "i2",
           "shape": "455"
          },
          "bdata": "AQACAAMABAAFAAYABwAIAAkACgALAAwADQAOAA8AEAARABIAEwAUABUAFgAXABgAGQAaABsAHAAdAB4AHwAgACEAIgAjACQAJQAmACcAKAApACoAKwAsAC0ALgAvADAAMQAyADMANAA1ADYANwA4ADkAOgA7ADwAPQA+AD8AQABBAEIAQwBEAEUARgBHAEgASQBKAEsATABNAE4ATwBQAFEAUgBTAFQAVQBWAFcAWABZAFoAWwBcAF0AXgBfAGAAYQBiAGMAZABlAGYAZwBoAGkAagBrAGwAbQBuAG8AcABxAHIAcwB0AHUAdgB3AHgAeQB6AHsAfAB9AI8AkACRAJIAkwCUAJUAlgCXAJgAmQCaAJsAnACdAJ4AnwCgAKEAogCjAKQApQCmAKcAqACpAKoAqwCsAK0ArgCvALAAsQC9AL4AvwDAAMEAwgDDAMQAxQDGAMcAyADJAMoAywDMAM0AzgDPANAA0QDSANMA1ADVANYA1wDYANkA2gDbANwA3QDeAN8A4ADhAOIA4wDkAOUA5gDnAOgA6QDqAOsA7ADtAO4A7wDwAPEA8gDzAPQA9QD2APcA+AD5APoACgELAQwBDQEOAQ8BEAERARIBEwEUARUBFgEXARgBGQEaARsBHAEdAR4BHwEgASEBIgEjASQBJQEmAScBKAEpASoBKwEsAS0BLgEvATABMQEyATMBNAE1ATYBNwE4ATkBOgE7ATwBPQE+AT8BQAFBAUIBQwFEAUUBRgFHAUgBSQFKAUsBTAFNAU4BTwFQAVEBUgFTAVQBVQFWAVcBWAFZAVoBWwFcAV0BXgFfAWABYQFiAWMBZAFlAWYBZwFoAWkBagFrAWwBbQFuAW8BcAFxAXIBcwF0AXUBdgF3AXgBeQF6AXsBfAF9AX4BfwGAAYEBggGDAYQBhQGIAYkBigGLAYwBjQGOAY8BkAGRAZIBkwGUAZUBlgGXAZgBmQGaAZsBnAGdAZ4BnwGgAaEBogGjAaQBpQGmAacBqAGpAaoBqwGsAa0BrgGvAbABsQGyAbMBtAG1AbYBtwG4AbkBugG7AbwBvQG+Ab8BwAHBAcIBwwHEAcUBxgHHAcgByQHKAcsBzAHNAc4BzwHQAdEB0gHTAdQB1QHWAdcB2AHZAdoB2wHcAd0B3gHfAeAB4QHiAeMB5AHlAeYB5wHoAekB6gHrAewB7QHuAe8B8AHxAfIB8wH0AQ==",
          "dtype": "i2"
         },
         "xaxis": "x",
         "y": {
          "_inputArray": {
           "0": 16.463,
           "1": 15.831,
           "10": 16.178,
           "100": 15.814,
           "101": 15.93,
           "102": 15.877,
           "103": 15.849,
           "104": 15.783,
           "105": 15.824,
           "106": 15.762,
           "107": 15.719,
           "108": 15.767,
           "109": 15.825,
           "11": 16.236,
           "110": 15.867,
           "111": 16.167,
           "112": 15.9,
           "113": 16.06,
           "114": 16.052,
           "115": 16.033,
           "116": 16.031,
           "117": 15.92,
           "118": 15.98,
           "119": 16.235,
           "12": 16.287,
           "120": 16.014,
           "121": 15.905,
           "122": 15.882,
           "123": 15.898,
           "124": 15.974,
           "125": 16.359,
           "126": 15.386,
           "127": 15.597,
           "128": 15.653,
           "129": 15.624,
           "13": 16.3,
           "130": 15.743,
           "131": 15.72,
           "132": 15.701,
           "133": 15.707,
           "134": 15.734,
           "135": 15.802,
           "136": 15.686,
           "137": 15.702,
           "138": 15.782,
           "139": 15.688,
           "14": 16.348,
           "140": 15.589,
           "141": 15.628,
           "142": 15.688,
           "143": 15.509,
           "144": 15.543,
           "145": 15.545,
           "146": 15.612,
           "147": 15.903,
           "148": 15.69,
           "149": 15.767,
           "15": 16.377,
           "150": 15.891,
           "151": 15.925,
           "152": 15.935,
           "153": 15.994,
           "154": 15.924,
           "155": 15.997,
           "156": 15.958,
           "157": 16.007,
           "158": 15.852,
           "159": 15.905,
           "16": 16.403,
           "160": 16.021,
           "161": 15.6,
           "162": 15.557,
           "163": 15.595,
           "164": 15.601,
           "165": 15.605,
           "166": 15.664,
           "167": 15.632,
           "168": 15.594,
           "169": 15.683,
           "17": 16.437,
           "170": 15.682,
           "171": 15.66,
           "172": 15.557,
           "173": 15.561,
           "174": 15.496,
           "175": 15.484,
           "176": 15.53,
           "177": 15.525,
           "178": 15.533,
           "179": 15.489,
           "18": 16.492,
           "180": 15.54,
           "181": 15.617,
           "182": 15.671,
           "183": 15.683,
           "184": 15.758,
           "185": 15.881,
           "186": 15.867,
           "187": 15.959,
           "188": 16.002,
           "189": 15.924,
           "19": 16.439,
           "190": 15.919,
           "191": 15.905,
           "192": 15.936,
           "193": 15.991,
           "194": 15.877,
           "195": 15.89,
           "196": 15.935,
           "197": 15.868,
           "198": 16.039,
           "199": 15.864,
           "2": 15.848,
           "20": 16.619,
           "200": 15.731,
           "201": 15.896,
           "202": 15.949,
           "203": 15.957,
           "204": 16.069,
           "205": 15.935,
           "206": 15.83,
           "207": 15.862,
           "208": 15.811,
           "209": 15.897,
           "21": 16.424,
           "210": 15.95,
           "211": 16.034,
           "212": 16.043,
           "213": 16.034,
           "214": 16.048,
           "215": 15.971,
           "216": 15.883,
           "217": 15.909,
           "218": 16.091,
           "219": 16.067,
           "22": 16.466,
           "220": 15.996,
           "221": 15.974,
           "222": 16.018,
           "223": 15.423,
           "224": 15.572,
           "225": 15.608,
           "226": 15.516,
           "227": 15.582,
           "228": 15.615,
           "229": 15.688,
           "23": 16.516,
           "230": 15.672,
           "231": 15.727,
           "232": 15.69,
           "233": 15.755,
           "234": 15.777,
           "235": 15.774,
           "236": 15.704,
           "237": 15.531,
           "238": 15.568,
           "239": 15.547,
           "24": 16.451,
           "240": 15.591,
           "241": 15.535,
           "242": 15.469,
           "243": 15.572,
           "244": 15.622,
           "245": 15.629,
           "246": 15.634,
           "247": 15.67,
           "248": 15.772,
           "249": 15.71,
           "25": 16.429,
           "250": 15.971,
           "251": 15.909,
           "252": 15.98,
           "253": 15.989,
           "254": 16.049,
           "255": 16.189,
           "256": 16.111,
           "257": 16.02,
           "258": 15.977,
           "259": 15.926,
           "26": 16.635,
           "260": 15.966,
           "261": 15.947,
           "262": 16.099,
           "263": 15.853,
           "264": 15.898,
           "265": 15.894,
           "266": 15.817,
           "267": 15.832,
           "268": 15.993,
           "269": 15.875,
           "27": 16.363,
           "270": 15.966,
           "271": 16.02,
           "272": 15.983,
           "273": 16.108,
           "274": 15.939,
           "275": 15.94,
           "276": 15.936,
           "277": 15.88,
           "278": 15.974,
           "279": 15.869,
           "28": 16.364,
           "280": 15.863,
           "281": 15.835,
           "282": 15.882,
           "283": 15.842,
           "284": 15.841,
           "285": 15.864,
           "286": 15.81,
           "287": 15.832,
           "288": 15.842,
           "289": 15.738,
           "29": 16.482,
           "290": 15.863,
           "291": 15.931,
           "292": 15.85,
           "293": 15.931,
           "294": 15.997,
           "295": 15.913,
           "296": 16.01,
           "297": 15.859,
           "298": 15.946,
           "299": 16.162,
           "3": 15.856,
           "30": 16.418,
           "300": 16.048,
           "301": 15.919,
           "302": 15.964,
           "303": 15.843,
           "304": 15.857,
           "305": 15.85,
           "306": 15.917,
           "307": 15.816,
           "308": 15.952,
           "309": 15.869,
           "31": 16.356,
           "310": 15.864,
           "311": 15.873,
           "312": 15.827,
           "313": 15.917,
           "314": 15.932,
           "315": 16.105,
           "316": 16.193,
           "317": 16.133,
           "318": 16.11,
           "319": 16.1,
           "32": 16.363,
           "320": 16.133,
           "321": 16.028,
           "322": 16.014,
           "323": 15.971,
           "324": 16.006,
           "325": 15.916,
           "326": 15.934,
           "327": 15.931,
           "328": 16.031,
           "329": 15.949,
           "33": 16.344,
           "330": 15.87,
           "331": 15.88,
           "332": 15.97,
           "333": 15.969,
           "334": 15.847,
           "335": 15.813,
           "336": 16.112,
           "337": 15.863,
           "338": 15.91,
           "339": 15.867,
           "34": 16.392,
           "340": 15.835,
           "341": 15.996,
           "342": 15.779,
           "343": 15.815,
           "344": 15.955,
           "345": 15.974,
           "346": 15.645,
           "347": 15.501,
           "348": 15.593,
           "349": 15.732,
           "35": 16.292,
           "350": 15.702,
           "351": 15.558,
           "352": 15.604,
           "353": 15.507,
           "354": 15.622,
           "355": 15.64,
           "356": 15.554,
           "357": 15.653,
           "358": 15.687,
           "359": 15.63,
           "36": 16.188,
           "360": 15.72,
           "361": 15.811,
           "362": 15.773,
           "363": 16.053,
           "364": 16.048,
           "365": 15.795,
           "366": 15.873,
           "367": 16.113,
           "368": 15.976,
           "369": 15.989,
           "37": 16.241,
           "370": 15.819,
           "371": 15.738,
           "372": 15.873,
           "373": 15.875,
           "374": 15.8,
           "375": 15.793,
           "376": 15.834,
           "377": 15.873,
           "378": 15.85,
           "379": 15.874,
           "38": 16.166,
           "380": 15.879,
           "381": 15.954,
           "382": 15.87,
           "383": 15.91,
           "384": 15.925,
           "385": 15.943,
           "386": 15.944,
           "387": 15.937,
           "388": 15.834,
           "389": 16.077,
           "39": 16.085,
           "390": 15.901,
           "391": 15.947,
           "392": 15.88,
           "393": 15.897,
           "394": 16.003,
           "395": 15.922,
           "396": 15.868,
           "397": 15.892,
           "398": 15.966,
           "399": 16.104,
           "4": 15.969,
           "40": 16.172,
           "400": 15.944,
           "401": 16.08,
           "402": 15.889,
           "403": 16.15,
           "404": 16.026,
           "405": 16.125,
           "406": 16.078,
           "407": 15.934,
           "408": 15.843,
           "409": 15.818,
           "41": 16.003,
           "410": 15.902,
           "411": 15.878,
           "412": 15.859,
           "413": 15.935,
           "414": 15.979,
           "415": 16.033,
           "416": 16.096,
           "417": 16.038,
           "418": 15.704,
           "419": 15.73,
           "42": 15.997,
           "420": 15.899,
           "421": 15.839,
           "422": 15.904,
           "423": 15.887,
           "424": 15.834,
           "425": 15.854,
           "426": 15.877,
           "427": 15.828,
           "428": 15.927,
           "429": 15.983,
           "43": 15.986,
           "430": 15.977,
           "431": 15.974,
           "432": 16.012,
           "433": 15.927,
           "434": 15.944,
           "435": 15.978,
           "436": 15.945,
           "437": 15.949,
           "438": 15.973,
           "439": 15.941,
           "44": 15.892,
           "440": 15.988,
           "441": 16.158,
           "442": 16.058,
           "443": 15.885,
           "444": 16.125,
           "445": 16.213,
           "446": 15.844,
           "447": 16.262,
           "448": 15.881,
           "449": 15.894,
           "45": 15.913,
           "450": 16.134,
           "451": 15.932,
           "452": 16.028,
           "453": 16.051,
           "454": 16.302,
           "46": 15.954,
           "47": 15.913,
           "48": 15.939,
           "49": 15.932,
           "5": 15.978,
           "50": 15.944,
           "51": 15.883,
           "52": 15.89,
           "53": 15.865,
           "54": 15.746,
           "55": 15.789,
           "56": 15.799,
           "57": 15.742,
           "58": 15.846,
           "59": 16.015,
           "6": 16.083,
           "60": 15.824,
           "61": 15.827,
           "62": 15.835,
           "63": 16.069,
           "64": 16.089,
           "65": 16.014,
           "66": 15.975,
           "67": 16.041,
           "68": 15.942,
           "69": 15.989,
           "7": 15.977,
           "70": 15.931,
           "71": 15.986,
           "72": 15.984,
           "73": 15.966,
           "74": 15.911,
           "75": 15.983,
           "76": 15.984,
           "77": 15.996,
           "78": 15.921,
           "79": 15.867,
           "8": 16.118,
           "80": 15.935,
           "81": 15.827,
           "82": 15.983,
           "83": 15.979,
           "84": 15.897,
           "85": 15.865,
           "86": 15.889,
           "87": 16.038,
           "88": 16.045,
           "89": 16.105,
           "9": 16.121,
           "90": 16.224,
           "91": 16.137,
           "92": 15.882,
           "93": 15.829,
           "94": 15.698,
           "95": 15.733,
           "96": 15.787,
           "97": 15.762,
           "98": 15.898,
           "99": 15.908,
           "bdata": "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",
           "dtype": "f8",
           "shape": "455"
          },
          "bdata": "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",
          "dtype": "f8"
         },
         "yaxis": "y"
        },
        {
         "hovertemplate": "<b>Rolling mean trendline</b><br><br>Lap=%{x}<br>Laptime=%{y} <b>(trend)</b><extra></extra>",
         "legendgroup": "",
         "line": {
          "color": "red"
         },
         "marker": {
          "color": "blue",
          "symbol": "circle"
         },
         "mode": "lines",
         "name": "",
         "showlegend": false,
         "type": "scatter",
         "x": {
          "_inputArray": {
           "0": 1,
           "1": 2,
           "10": 11,
           "100": 101,
           "101": 102,
           "102": 103,
           "103": 104,
           "104": 105,
           "105": 106,
           "106": 107,
           "107": 108,
           "108": 109,
           "109": 110,
           "11": 12,
           "110": 111,
           "111": 112,
           "112": 113,
           "113": 114,
           "114": 115,
           "115": 116,
           "116": 117,
           "117": 118,
           "118": 119,
           "119": 120,
           "12": 13,
           "120": 121,
           "121": 122,
           "122": 123,
           "123": 124,
           "124": 125,
           "125": 143,
           "126": 144,
           "127": 145,
           "128": 146,
           "129": 147,
           "13": 14,
           "130": 148,
           "131": 149,
           "132": 150,
           "133": 151,
           "134": 152,
           "135": 153,
           "136": 154,
           "137": 155,
           "138": 156,
           "139": 157,
           "14": 15,
           "140": 158,
           "141": 159,
           "142": 160,
           "143": 161,
           "144": 162,
           "145": 163,
           "146": 164,
           "147": 165,
           "148": 166,
           "149": 167,
           "15": 16,
           "150": 168,
           "151": 169,
           "152": 170,
           "153": 171,
           "154": 172,
           "155": 173,
           "156": 174,
           "157": 175,
           "158": 176,
           "159": 177,
           "16": 17,
           "160": 189,
           "161": 190,
           "162": 191,
           "163": 192,
           "164": 193,
           "165": 194,
           "166": 195,
           "167": 196,
           "168": 197,
           "169": 198,
           "17": 18,
           "170": 199,
           "171": 200,
           "172": 201,
           "173": 202,
           "174": 203,
           "175": 204,
           "176": 205,
           "177": 206,
           "178": 207,
           "179": 208,
           "18": 19,
           "180": 209,
           "181": 210,
           "182": 211,
           "183": 212,
           "184": 213,
           "185": 214,
           "186": 215,
           "187": 216,
           "188": 217,
           "189": 218,
           "19": 20,
           "190": 219,
           "191": 220,
           "192": 221,
           "193": 222,
           "194": 223,
           "195": 224,
           "196": 225,
           "197": 226,
           "198": 227,
           "199": 228,
           "2": 3,
           "20": 21,
           "200": 229,
           "201": 230,
           "202": 231,
           "203": 232,
           "204": 233,
           "205": 234,
           "206": 235,
           "207": 236,
           "208": 237,
           "209": 238,
           "21": 22,
           "210": 239,
           "211": 240,
           "212": 241,
           "213": 242,
           "214": 243,
           "215": 244,
           "216": 245,
           "217": 246,
           "218": 247,
           "219": 248,
           "22": 23,
           "220": 249,
           "221": 250,
           "222": 266,
           "223": 267,
           "224": 268,
           "225": 269,
           "226": 270,
           "227": 271,
           "228": 272,
           "229": 273,
           "23": 24,
           "230": 274,
           "231": 275,
           "232": 276,
           "233": 277,
           "234": 278,
           "235": 279,
           "236": 280,
           "237": 281,
           "238": 282,
           "239": 283,
           "24": 25,
           "240": 284,
           "241": 285,
           "242": 286,
           "243": 287,
           "244": 288,
           "245": 289,
           "246": 290,
           "247": 291,
           "248": 292,
           "249": 293,
           "25": 26,
           "250": 294,
           "251": 295,
           "252": 296,
           "253": 297,
           "254": 298,
           "255": 299,
           "256": 300,
           "257": 301,
           "258": 302,
           "259": 303,
           "26": 27,
           "260": 304,
           "261": 305,
           "262": 306,
           "263": 307,
           "264": 308,
           "265": 309,
           "266": 310,
           "267": 311,
           "268": 312,
           "269": 313,
           "27": 28,
           "270": 314,
           "271": 315,
           "272": 316,
           "273": 317,
           "274": 318,
           "275": 319,
           "276": 320,
           "277": 321,
           "278": 322,
           "279": 323,
           "28": 29,
           "280": 324,
           "281": 325,
           "282": 326,
           "283": 327,
           "284": 328,
           "285": 329,
           "286": 330,
           "287": 331,
           "288": 332,
           "289": 333,
           "29": 30,
           "290": 334,
           "291": 335,
           "292": 336,
           "293": 337,
           "294": 338,
           "295": 339,
           "296": 340,
           "297": 341,
           "298": 342,
           "299": 343,
           "3": 4,
           "30": 31,
           "300": 344,
           "301": 345,
           "302": 346,
           "303": 347,
           "304": 348,
           "305": 349,
           "306": 350,
           "307": 351,
           "308": 352,
           "309": 353,
           "31": 32,
           "310": 354,
           "311": 355,
           "312": 356,
           "313": 357,
           "314": 358,
           "315": 359,
           "316": 360,
           "317": 361,
           "318": 362,
           "319": 363,
           "32": 33,
           "320": 364,
           "321": 365,
           "322": 366,
           "323": 367,
           "324": 368,
           "325": 369,
           "326": 370,
           "327": 371,
           "328": 372,
           "329": 373,
           "33": 34,
           "330": 374,
           "331": 375,
           "332": 376,
           "333": 377,
           "334": 378,
           "335": 379,
           "336": 380,
           "337": 381,
           "338": 382,
           "339": 383,
           "34": 35,
           "340": 384,
           "341": 385,
           "342": 386,
           "343": 387,
           "344": 388,
           "345": 389,
           "346": 392,
           "347": 393,
           "348": 394,
           "349": 395,
           "35": 36,
           "350": 396,
           "351": 397,
           "352": 398,
           "353": 399,
           "354": 400,
           "355": 401,
           "356": 402,
           "357": 403,
           "358": 404,
           "359": 405,
           "36": 37,
           "360": 406,
           "361": 407,
           "362": 408,
           "363": 409,
           "364": 410,
           "365": 411,
           "366": 412,
           "367": 413,
           "368": 414,
           "369": 415,
           "37": 38,
           "370": 416,
           "371": 417,
           "372": 418,
           "373": 419,
           "374": 420,
           "375": 421,
           "376": 422,
           "377": 423,
           "378": 424,
           "379": 425,
           "38": 39,
           "380": 426,
           "381": 427,
           "382": 428,
           "383": 429,
           "384": 430,
           "385": 431,
           "386": 432,
           "387": 433,
           "388": 434,
           "389": 435,
           "39": 40,
           "390": 436,
           "391": 437,
           "392": 438,
           "393": 439,
           "394": 440,
           "395": 441,
           "396": 442,
           "397": 443,
           "398": 444,
           "399": 445,
           "4": 5,
           "40": 41,
           "400": 446,
           "401": 447,
           "402": 448,
           "403": 449,
           "404": 450,
           "405": 451,
           "406": 452,
           "407": 453,
           "408": 454,
           "409": 455,
           "41": 42,
           "410": 456,
           "411": 457,
           "412": 458,
           "413": 459,
           "414": 460,
           "415": 461,
           "416": 462,
           "417": 463,
           "418": 464,
           "419": 465,
           "42": 43,
           "420": 466,
           "421": 467,
           "422": 468,
           "423": 469,
           "424": 470,
           "425": 471,
           "426": 472,
           "427": 473,
           "428": 474,
           "429": 475,
           "43": 44,
           "430": 476,
           "431": 477,
           "432": 478,
           "433": 479,
           "434": 480,
           "435": 481,
           "436": 482,
           "437": 483,
           "438": 484,
           "439": 485,
           "44": 45,
           "440": 486,
           "441": 487,
           "442": 488,
           "443": 489,
           "444": 490,
           "445": 491,
           "446": 492,
           "447": 493,
           "448": 494,
           "449": 495,
           "45": 46,
           "450": 496,
           "451": 497,
           "452": 498,
           "453": 499,
           "454": 500,
           "46": 47,
           "47": 48,
           "48": 49,
           "49": 50,
           "5": 6,
           "50": 51,
           "51": 52,
           "52": 53,
           "53": 54,
           "54": 55,
           "55": 56,
           "56": 57,
           "57": 58,
           "58": 59,
           "59": 60,
           "6": 7,
           "60": 61,
           "61": 62,
           "62": 63,
           "63": 64,
           "64": 65,
           "65": 66,
           "66": 67,
           "67": 68,
           "68": 69,
           "69": 70,
           "7": 8,
           "70": 71,
           "71": 72,
           "72": 73,
           "73": 74,
           "74": 75,
           "75": 76,
           "76": 77,
           "77": 78,
           "78": 79,
           "79": 80,
           "8": 9,
           "80": 81,
           "81": 82,
           "82": 83,
           "83": 84,
           "84": 85,
           "85": 86,
           "86": 87,
           "87": 88,
           "88": 89,
           "89": 90,
           "9": 10,
           "90": 91,
           "91": 92,
           "92": 93,
           "93": 94,
           "94": 95,
           "95": 96,
           "96": 97,
           "97": 98,
           "98": 99,
           "99": 100,
           "bdata": "AQACAAMABAAFAAYABwAIAAkACgALAAwADQAOAA8AEAARABIAEwAUABUAFgAXABgAGQAaABsAHAAdAB4AHwAgACEAIgAjACQAJQAmACcAKAApACoAKwAsAC0ALgAvADAAMQAyADMANAA1ADYANwA4ADkAOgA7ADwAPQA+AD8AQABBAEIAQwBEAEUARgBHAEgASQBKAEsATABNAE4ATwBQAFEAUgBTAFQAVQBWAFcAWABZAFoAWwBcAF0AXgBfAGAAYQBiAGMAZABlAGYAZwBoAGkAagBrAGwAbQBuAG8AcABxAHIAcwB0AHUAdgB3AHgAeQB6AHsAfAB9AI8AkACRAJIAkwCUAJUAlgCXAJgAmQCaAJsAnACdAJ4AnwCgAKEAogCjAKQApQCmAKcAqACpAKoAqwCsAK0ArgCvALAAsQC9AL4AvwDAAMEAwgDDAMQAxQDGAMcAyADJAMoAywDMAM0AzgDPANAA0QDSANMA1ADVANYA1wDYANkA2gDbANwA3QDeAN8A4ADhAOIA4wDkAOUA5gDnAOgA6QDqAOsA7ADtAO4A7wDwAPEA8gDzAPQA9QD2APcA+AD5APoACgELAQwBDQEOAQ8BEAERARIBEwEUARUBFgEXARgBGQEaARsBHAEdAR4BHwEgASEBIgEjASQBJQEmAScBKAEpASoBKwEsAS0BLgEvATABMQEyATMBNAE1ATYBNwE4ATkBOgE7ATwBPQE+AT8BQAFBAUIBQwFEAUUBRgFHAUgBSQFKAUsBTAFNAU4BTwFQAVEBUgFTAVQBVQFWAVcBWAFZAVoBWwFcAV0BXgFfAWABYQFiAWMBZAFlAWYBZwFoAWkBagFrAWwBbQFuAW8BcAFxAXIBcwF0AXUBdgF3AXgBeQF6AXsBfAF9AX4BfwGAAYEBggGDAYQBhQGIAYkBigGLAYwBjQGOAY8BkAGRAZIBkwGUAZUBlgGXAZgBmQGaAZsBnAGdAZ4BnwGgAaEBogGjAaQBpQGmAacBqAGpAaoBqwGsAa0BrgGvAbABsQGyAbMBtAG1AbYBtwG4AbkBugG7AbwBvQG+Ab8BwAHBAcIBwwHEAcUBxgHHAcgByQHKAcsBzAHNAc4BzwHQAdEB0gHTAdQB1QHWAdcB2AHZAdoB2wHcAd0B3gHfAeAB4QHiAeMB5AHlAeYB5wHoAekB6gHrAewB7QHuAe8B8AHxAfIB8wH0AQ==",
           "dtype": "i2",
           "shape": "455"
          },
          "bdata": "AQACAAMABAAFAAYABwAIAAkACgALAAwADQAOAA8AEAARABIAEwAUABUAFgAXABgAGQAaABsAHAAdAB4AHwAgACEAIgAjACQAJQAmACcAKAApACoAKwAsAC0ALgAvADAAMQAyADMANAA1ADYANwA4ADkAOgA7ADwAPQA+AD8AQABBAEIAQwBEAEUARgBHAEgASQBKAEsATABNAE4ATwBQAFEAUgBTAFQAVQBWAFcAWABZAFoAWwBcAF0AXgBfAGAAYQBiAGMAZABlAGYAZwBoAGkAagBrAGwAbQBuAG8AcABxAHIAcwB0AHUAdgB3AHgAeQB6AHsAfAB9AI8AkACRAJIAkwCUAJUAlgCXAJgAmQCaAJsAnACdAJ4AnwCgAKEAogCjAKQApQCmAKcAqACpAKoAqwCsAK0ArgCvALAAsQC9AL4AvwDAAMEAwgDDAMQAxQDGAMcAyADJAMoAywDMAM0AzgDPANAA0QDSANMA1ADVANYA1wDYANkA2gDbANwA3QDeAN8A4ADhAOIA4wDkAOUA5gDnAOgA6QDqAOsA7ADtAO4A7wDwAPEA8gDzAPQA9QD2APcA+AD5APoACgELAQwBDQEOAQ8BEAERARIBEwEUARUBFgEXARgBGQEaARsBHAEdAR4BHwEgASEBIgEjASQBJQEmAScBKAEpASoBKwEsAS0BLgEvATABMQEyATMBNAE1ATYBNwE4ATkBOgE7ATwBPQE+AT8BQAFBAUIBQwFEAUUBRgFHAUgBSQFKAUsBTAFNAU4BTwFQAVEBUgFTAVQBVQFWAVcBWAFZAVoBWwFcAV0BXgFfAWABYQFiAWMBZAFlAWYBZwFoAWkBagFrAWwBbQFuAW8BcAFxAXIBcwF0AXUBdgF3AXgBeQF6AXsBfAF9AX4BfwGAAYEBggGDAYQBhQGIAYkBigGLAYwBjQGOAY8BkAGRAZIBkwGUAZUBlgGXAZgBmQGaAZsBnAGdAZ4BnwGgAaEBogGjAaQBpQGmAacBqAGpAaoBqwGsAa0BrgGvAbABsQGyAbMBtAG1AbYBtwG4AbkBugG7AbwBvQG+Ab8BwAHBAcIBwwHEAcUBxgHHAcgByQHKAcsBzAHNAc4BzwHQAdEB0gHTAdQB1QHWAdcB2AHZAdoB2wHcAd0B3gHfAeAB4QHiAeMB5AHlAeYB5wHoAekB6gHrAewB7QHuAe8B8AHxAfIB8wH0AQ==",
          "dtype": "i2"
         },
         "xaxis": "x",
         "y": {
          "_inputArray": {
           "0": null,
           "1": null,
           "10": 16.139,
           "100": 15.873333333333333,
           "101": 15.883999999999999,
           "102": 15.873666666666665,
           "103": 15.88533333333333,
           "104": 15.83633333333333,
           "105": 15.818666666666665,
           "106": 15.789666666666667,
           "107": 15.76833333333333,
           "108": 15.749333333333333,
           "109": 15.770333333333332,
           "11": 16.178333333333335,
           "110": 15.819666666666665,
           "111": 15.953000000000001,
           "112": 15.978,
           "113": 16.042333333333335,
           "114": 16.004,
           "115": 16.048333333333336,
           "116": 16.038666666666668,
           "117": 15.994666666666667,
           "118": 15.976999999999999,
           "119": 16.044999999999998,
           "12": 16.233666666666668,
           "120": 16.076333333333334,
           "121": 16.051333333333332,
           "122": 15.933666666666667,
           "123": 15.895000000000001,
           "124": 15.918,
           "125": 16.077,
           "126": 15.90633333333333,
           "127": 15.780666666666667,
           "128": 15.545333333333332,
           "129": 15.624666666666668,
           "13": 16.27433333333333,
           "130": 15.673333333333332,
           "131": 15.695666666666668,
           "132": 15.721333333333334,
           "133": 15.709333333333333,
           "134": 15.714,
           "135": 15.747666666666667,
           "136": 15.740666666666668,
           "137": 15.729999999999999,
           "138": 15.723333333333334,
           "139": 15.723999999999998,
           "14": 16.311666666666667,
           "140": 15.686333333333335,
           "141": 15.635,
           "142": 15.635,
           "143": 15.608333333333334,
           "144": 15.58,
           "145": 15.532333333333334,
           "146": 15.566666666666668,
           "147": 15.686666666666667,
           "148": 15.735,
           "149": 15.786666666666667,
           "15": 16.341666666666665,
           "150": 15.782666666666666,
           "151": 15.860999999999999,
           "152": 15.917000000000002,
           "153": 15.951333333333332,
           "154": 15.950999999999999,
           "155": 15.971666666666666,
           "156": 15.959666666666665,
           "157": 15.987333333333334,
           "158": 15.939000000000002,
           "159": 15.921333333333335,
           "16": 16.375999999999998,
           "160": 15.926,
           "161": 15.841999999999999,
           "162": 15.725999999999999,
           "163": 15.583999999999998,
           "164": 15.584333333333333,
           "165": 15.600333333333333,
           "166": 15.623333333333333,
           "167": 15.633666666666665,
           "168": 15.629999999999997,
           "169": 15.636333333333331,
           "17": 16.405666666666665,
           "170": 15.652999999999999,
           "171": 15.674999999999997,
           "172": 15.632999999999997,
           "173": 15.592666666666666,
           "174": 15.537999999999998,
           "175": 15.513666666666666,
           "176": 15.50333333333333,
           "177": 15.512999999999998,
           "178": 15.529333333333332,
           "179": 15.515666666666666,
           "18": 16.444,
           "180": 15.520666666666665,
           "181": 15.548666666666668,
           "182": 15.609333333333332,
           "183": 15.656999999999998,
           "184": 15.703999999999999,
           "185": 15.774,
           "186": 15.835333333333333,
           "187": 15.902333333333331,
           "188": 15.942666666666666,
           "189": 15.961666666666664,
           "19": 16.456,
           "190": 15.948333333333332,
           "191": 15.915999999999999,
           "192": 15.92,
           "193": 15.943999999999997,
           "194": 15.934666666666665,
           "195": 15.919333333333332,
           "196": 15.900666666666666,
           "197": 15.897666666666666,
           "198": 15.947333333333333,
           "199": 15.923666666666668,
           "2": 16.047333333333334,
           "20": 16.516666666666666,
           "200": 15.878,
           "201": 15.830333333333334,
           "202": 15.858666666666664,
           "203": 15.933999999999997,
           "204": 15.991666666666665,
           "205": 15.987,
           "206": 15.944666666666665,
           "207": 15.875666666666666,
           "208": 15.834333333333332,
           "209": 15.856666666666664,
           "21": 16.494,
           "210": 15.885999999999997,
           "211": 15.960333333333331,
           "212": 16.008999999999997,
           "213": 16.037,
           "214": 16.041666666666668,
           "215": 16.017666666666663,
           "216": 15.967333333333329,
           "217": 15.921,
           "218": 15.960999999999999,
           "219": 16.022333333333332,
           "22": 16.503,
           "220": 16.051333333333336,
           "221": 16.012333333333334,
           "222": 15.996,
           "223": 15.805,
           "224": 15.671,
           "225": 15.534333333333334,
           "226": 15.565333333333333,
           "227": 15.568666666666667,
           "228": 15.571,
           "229": 15.628333333333336,
           "23": 16.468666666666667,
           "230": 15.658333333333333,
           "231": 15.695666666666668,
           "232": 15.696333333333333,
           "233": 15.723999999999998,
           "234": 15.740666666666668,
           "235": 15.768666666666666,
           "236": 15.751666666666665,
           "237": 15.669666666666666,
           "238": 15.600999999999999,
           "239": 15.548666666666668,
           "24": 16.477666666666668,
           "240": 15.568666666666667,
           "241": 15.557666666666668,
           "242": 15.531666666666666,
           "243": 15.52533333333333,
           "244": 15.554333333333332,
           "245": 15.607666666666667,
           "246": 15.628333333333332,
           "247": 15.644333333333334,
           "248": 15.692,
           "249": 15.717333333333334,
           "25": 16.465333333333334,
           "250": 15.817666666666668,
           "251": 15.863333333333335,
           "252": 15.953333333333333,
           "253": 15.959333333333333,
           "254": 16.006,
           "255": 16.075666666666667,
           "256": 16.116333333333333,
           "257": 16.106666666666666,
           "258": 16.036,
           "259": 15.974333333333334,
           "26": 16.505,
           "260": 15.956333333333333,
           "261": 15.946333333333333,
           "262": 16.004,
           "263": 15.966333333333333,
           "264": 15.950000000000001,
           "265": 15.881666666666666,
           "266": 15.869666666666665,
           "267": 15.847666666666669,
           "268": 15.880666666666668,
           "269": 15.9,
           "27": 16.475666666666665,
           "270": 15.944666666666668,
           "271": 15.953666666666665,
           "272": 15.989666666666665,
           "273": 16.037000000000003,
           "274": 16.01,
           "275": 15.995666666666665,
           "276": 15.938333333333333,
           "277": 15.918666666666667,
           "278": 15.930000000000001,
           "279": 15.907666666666666,
           "28": 16.454000000000004,
           "280": 15.902000000000001,
           "281": 15.855666666666666,
           "282": 15.86,
           "283": 15.853,
           "284": 15.854999999999999,
           "285": 15.849000000000002,
           "286": 15.838333333333333,
           "287": 15.835333333333333,
           "288": 15.828000000000001,
           "289": 15.804,
           "29": 16.403000000000002,
           "290": 15.814333333333332,
           "291": 15.844,
           "292": 15.881333333333332,
           "293": 15.904000000000002,
           "294": 15.926,
           "295": 15.946999999999997,
           "296": 15.973333333333334,
           "297": 15.927333333333335,
           "298": 15.938333333333333,
           "299": 15.988999999999999,
           "3": 15.844999999999999,
           "30": 16.421333333333333,
           "300": 16.051999999999996,
           "301": 16.043,
           "302": 15.976999999999999,
           "303": 15.908666666666667,
           "304": 15.888,
           "305": 15.85,
           "306": 15.874666666666664,
           "307": 15.860999999999999,
           "308": 15.895000000000001,
           "309": 15.879,
           "31": 16.418666666666667,
           "310": 15.895000000000001,
           "311": 15.868666666666668,
           "312": 15.854666666666667,
           "313": 15.872333333333332,
           "314": 15.892000000000001,
           "315": 15.984666666666667,
           "316": 16.076666666666668,
           "317": 16.143666666666665,
           "318": 16.145333333333333,
           "319": 16.11433333333333,
           "32": 16.379,
           "320": 16.114333333333335,
           "321": 16.087,
           "322": 16.058333333333334,
           "323": 16.004333333333335,
           "324": 15.997,
           "325": 15.964333333333334,
           "326": 15.952,
           "327": 15.927,
           "328": 15.965333333333334,
           "329": 15.970333333333334,
           "33": 16.354333333333333,
           "330": 15.949999999999998,
           "331": 15.899666666666667,
           "332": 15.906666666666666,
           "333": 15.939666666666668,
           "334": 15.928666666666667,
           "335": 15.876333333333333,
           "336": 15.924,
           "337": 15.929333333333332,
           "338": 15.961666666666666,
           "339": 15.88,
           "34": 16.366333333333333,
           "340": 15.87066666666667,
           "341": 15.899333333333336,
           "342": 15.870000000000003,
           "343": 15.863333333333335,
           "344": 15.849666666666666,
           "345": 15.914666666666669,
           "346": 15.858000000000002,
           "347": 15.706666666666669,
           "348": 15.579666666666668,
           "349": 15.60866666666667,
           "35": 16.34266666666667,
           "350": 15.675666666666666,
           "351": 15.664000000000001,
           "352": 15.621333333333334,
           "353": 15.556333333333335,
           "354": 15.577666666666667,
           "355": 15.589666666666668,
           "356": 15.605333333333334,
           "357": 15.61566666666667,
           "358": 15.631333333333336,
           "359": 15.656666666666666,
           "36": 16.290666666666667,
           "360": 15.679000000000002,
           "361": 15.720333333333336,
           "362": 15.768,
           "363": 15.879000000000003,
           "364": 15.958000000000004,
           "365": 15.965333333333334,
           "366": 15.905333333333337,
           "367": 15.927000000000001,
           "368": 15.987333333333334,
           "369": 16.026000000000003,
           "37": 16.240333333333336,
           "370": 15.928000000000003,
           "371": 15.848666666666668,
           "372": 15.810000000000002,
           "373": 15.828666666666669,
           "374": 15.849333333333336,
           "375": 15.82266666666667,
           "376": 15.809000000000003,
           "377": 15.833333333333334,
           "378": 15.852333333333334,
           "379": 15.86566666666667,
           "38": 16.198333333333334,
           "380": 15.86766666666667,
           "381": 15.902333333333337,
           "382": 15.901000000000002,
           "383": 15.911333333333337,
           "384": 15.90166666666667,
           "385": 15.926000000000002,
           "386": 15.937333333333337,
           "387": 15.941333333333334,
           "388": 15.905000000000003,
           "389": 15.949333333333335,
           "39": 16.163999999999998,
           "390": 15.937333333333337,
           "391": 15.975000000000001,
           "392": 15.909333333333336,
           "393": 15.908000000000001,
           "394": 15.92666666666667,
           "395": 15.940666666666667,
           "396": 15.931000000000003,
           "397": 15.894000000000004,
           "398": 15.908666666666669,
           "399": 15.987333333333334,
           "4": 15.891,
           "40": 16.141000000000002,
           "400": 16.00466666666667,
           "401": 16.04266666666667,
           "402": 15.971000000000004,
           "403": 16.039666666666665,
           "404": 16.02166666666667,
           "405": 16.100333333333335,
           "406": 16.076333333333338,
           "407": 16.04566666666667,
           "408": 15.951666666666668,
           "409": 15.865000000000002,
           "41": 16.08666666666667,
           "410": 15.854333333333336,
           "411": 15.866000000000001,
           "412": 15.87966666666667,
           "413": 15.890666666666668,
           "414": 15.924333333333335,
           "415": 15.982333333333335,
           "416": 16.036,
           "417": 16.055666666666667,
           "418": 15.946000000000003,
           "419": 15.824000000000003,
           "42": 16.057333333333332,
           "420": 15.777666666666669,
           "421": 15.822666666666668,
           "422": 15.880666666666668,
           "423": 15.876666666666667,
           "424": 15.875,
           "425": 15.858333333333334,
           "426": 15.855000000000002,
           "427": 15.853000000000002,
           "428": 15.877333333333334,
           "429": 15.912666666666667,
           "43": 15.995333333333335,
           "430": 15.962333333333335,
           "431": 15.978000000000002,
           "432": 15.987666666666668,
           "433": 15.971000000000002,
           "434": 15.961,
           "435": 15.949666666666667,
           "436": 15.955666666666668,
           "437": 15.957333333333333,
           "438": 15.955666666666668,
           "439": 15.954333333333333,
           "44": 15.958333333333334,
           "440": 15.967333333333334,
           "441": 16.029,
           "442": 16.067999999999998,
           "443": 16.033666666666665,
           "444": 16.022666666666666,
           "445": 16.074333333333332,
           "446": 16.060666666666666,
           "447": 16.106333333333335,
           "448": 15.995666666666667,
           "449": 16.012333333333334,
           "45": 15.930333333333332,
           "450": 15.969666666666667,
           "451": 15.986666666666666,
           "452": 16.031333333333333,
           "453": 16.003666666666664,
           "454": 16.127,
           "46": 15.919666666666666,
           "47": 15.926666666666668,
           "48": 15.935333333333332,
           "49": 15.927999999999999,
           "5": 15.934333333333333,
           "50": 15.938333333333333,
           "51": 15.919666666666666,
           "52": 15.905666666666667,
           "53": 15.879333333333333,
           "54": 15.833666666666668,
           "55": 15.799999999999999,
           "56": 15.777999999999999,
           "57": 15.776666666666666,
           "58": 15.795666666666667,
           "59": 15.867666666666667,
           "6": 16.01,
           "60": 15.895000000000001,
           "61": 15.888666666666666,
           "62": 15.828666666666669,
           "63": 15.910333333333334,
           "64": 15.997666666666666,
           "65": 16.057333333333332,
           "66": 16.026,
           "67": 16.01,
           "68": 15.985999999999999,
           "69": 15.990666666666668,
           "7": 16.012666666666664,
           "70": 15.953999999999999,
           "71": 15.968666666666666,
           "72": 15.966999999999999,
           "73": 15.978666666666667,
           "74": 15.953666666666663,
           "75": 15.953333333333333,
           "76": 15.959333333333332,
           "77": 15.987666666666664,
           "78": 15.966999999999999,
           "79": 15.927999999999997,
           "8": 16.05933333333333,
           "80": 15.907666666666666,
           "81": 15.876333333333333,
           "82": 15.915,
           "83": 15.929666666666664,
           "84": 15.952999999999998,
           "85": 15.913666666666666,
           "86": 15.883666666666665,
           "87": 15.930666666666667,
           "88": 15.990666666666664,
           "89": 16.06266666666667,
           "9": 16.072,
           "90": 16.124666666666666,
           "91": 16.15533333333333,
           "92": 16.081,
           "93": 15.949333333333334,
           "94": 15.802999999999999,
           "95": 15.753333333333332,
           "96": 15.739333333333335,
           "97": 15.760666666666665,
           "98": 15.815666666666665,
           "99": 15.856,
           "bdata": "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",
           "dtype": "f8",
           "shape": "455"
          },
          "bdata": "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",
          "dtype": "f8"
         },
         "yaxis": "y"
        }
       ],
       "layout": {
        "autosize": true,
        "legend": {
         "tracegroupgap": 0
        },
        "paper_bgcolor": "lightgray",
        "plot_bgcolor": "lightgray",
        "shapes": [
         {
          "line": {
           "color": "black",
           "width": 0.5
          },
          "type": "line",
          "x0": 0,
          "x1": 1,
          "xref": "x domain",
          "y0": 15.386,
          "y1": 15.386,
          "yref": "y"
         }
        ],
        "template": {
         "data": {
          "bar": [
           {
            "error_x": {
             "color": "#2a3f5f"
            },
            "error_y": {
             "color": "#2a3f5f"
            },
            "marker": {
             "line": {
              "color": "#E5ECF6",
              "width": 0.5
             },
             "pattern": {
              "fillmode": "overlay",
              "size": 10,
              "solidity": 0.2
             }
            },
            "type": "bar"
           }
          ],
          "barpolar": [
           {
            "marker": {
             "line": {
              "color": "#E5ECF6",
              "width": 0.5
             },
             "pattern": {
              "fillmode": "overlay",
              "size": 10,
              "solidity": 0.2
             }
            },
            "type": "barpolar"
           }
          ],
          "carpet": [
           {
            "aaxis": {
             "endlinecolor": "#2a3f5f",
             "gridcolor": "white",
             "linecolor": "white",
             "minorgridcolor": "white",
             "startlinecolor": "#2a3f5f"
            },
            "baxis": {
             "endlinecolor": "#2a3f5f",
             "gridcolor": "white",
             "linecolor": "white",
             "minorgridcolor": "white",
             "startlinecolor": "#2a3f5f"
            },
            "type": "carpet"
           }
          ],
          "choropleth": [
           {
            "colorbar": {
             "outlinewidth": 0,
             "ticks": ""
            },
            "type": "choropleth"
           }
          ],
          "contour": [
           {
            "colorbar": {
             "outlinewidth": 0,
             "ticks": ""
            },
            "colorscale": [
             [
              0,
              "#0d0887"
             ],
             [
              0.1111111111111111,
              "#46039f"
             ],
             [
              0.2222222222222222,
              "#7201a8"
             ],
             [
              0.3333333333333333,
              "#9c179e"
             ],
             [
              0.4444444444444444,
              "#bd3786"
             ],
             [
              0.5555555555555556,
              "#d8576b"
             ],
             [
              0.6666666666666666,
              "#ed7953"
             ],
             [
              0.7777777777777778,
              "#fb9f3a"
             ],
             [
              0.8888888888888888,
              "#fdca26"
             ],
             [
              1,
              "#f0f921"
             ]
            ],
            "type": "contour"
           }
          ],
          "contourcarpet": [
           {
            "colorbar": {
             "outlinewidth": 0,
             "ticks": ""
            },
            "type": "contourcarpet"
           }
          ],
          "heatmap": [
           {
            "colorbar": {
             "outlinewidth": 0,
             "ticks": ""
            },
            "colorscale": [
             [
              0,
              "#0d0887"
             ],
             [
              0.1111111111111111,
              "#46039f"
             ],
             [
              0.2222222222222222,
              "#7201a8"
             ],
             [
              0.3333333333333333,
              "#9c179e"
             ],
             [
              0.4444444444444444,
              "#bd3786"
             ],
             [
              0.5555555555555556,
              "#d8576b"
             ],
             [
              0.6666666666666666,
              "#ed7953"
             ],
             [
              0.7777777777777778,
              "#fb9f3a"
             ],
             [
              0.8888888888888888,
              "#fdca26"
             ],
             [
              1,
              "#f0f921"
             ]
            ],
            "type": "heatmap"
           }
          ],
          "histogram": [
           {
            "marker": {
             "pattern": {
              "fillmode": "overlay",
              "size": 10,
              "solidity": 0.2
             }
            },
            "type": "histogram"
           }
          ],
          "histogram2d": [
           {
            "colorbar": {
             "outlinewidth": 0,
             "ticks": ""
            },
            "colorscale": [
             [
              0,
              "#0d0887"
             ],
             [
              0.1111111111111111,
              "#46039f"
             ],
             [
              0.2222222222222222,
              "#7201a8"
             ],
             [
              0.3333333333333333,
              "#9c179e"
             ],
             [
              0.4444444444444444,
              "#bd3786"
             ],
             [
              0.5555555555555556,
              "#d8576b"
             ],
             [
              0.6666666666666666,
              "#ed7953"
             ],
             [
              0.7777777777777778,
              "#fb9f3a"
             ],
             [
              0.8888888888888888,
              "#fdca26"
             ],
             [
              1,
              "#f0f921"
             ]
            ],
            "type": "histogram2d"
           }
          ],
          "histogram2dcontour": [
           {
            "colorbar": {
             "outlinewidth": 0,
             "ticks": ""
            },
            "colorscale": [
             [
              0,
              "#0d0887"
             ],
             [
              0.1111111111111111,
              "#46039f"
             ],
             [
              0.2222222222222222,
              "#7201a8"
             ],
             [
              0.3333333333333333,
              "#9c179e"
             ],
             [
              0.4444444444444444,
              "#bd3786"
             ],
             [
              0.5555555555555556,
              "#d8576b"
             ],
             [
              0.6666666666666666,
              "#ed7953"
             ],
             [
              0.7777777777777778,
              "#fb9f3a"
             ],
             [
              0.8888888888888888,
              "#fdca26"
             ],
             [
              1,
              "#f0f921"
             ]
            ],
            "type": "histogram2dcontour"
           }
          ],
          "mesh3d": [
           {
            "colorbar": {
             "outlinewidth": 0,
             "ticks": ""
            },
            "type": "mesh3d"
           }
          ],
          "parcoords": [
           {
            "line": {
             "colorbar": {
              "outlinewidth": 0,
              "ticks": ""
             }
            },
            "type": "parcoords"
           }
          ],
          "pie": [
           {
            "automargin": true,
            "type": "pie"
           }
          ],
          "scatter": [
           {
            "fillpattern": {
             "fillmode": "overlay",
             "size": 10,
             "solidity": 0.2
            },
            "type": "scatter"
           }
          ],
          "scatter3d": [
           {
            "line": {
             "colorbar": {
              "outlinewidth": 0,
              "ticks": ""
             }
            },
            "marker": {
             "colorbar": {
              "outlinewidth": 0,
              "ticks": ""
             }
            },
            "type": "scatter3d"
           }
          ],
          "scattercarpet": [
           {
            "marker": {
             "colorbar": {
              "outlinewidth": 0,
              "ticks": ""
             }
            },
            "type": "scattercarpet"
           }
          ],
          "scattergeo": [
           {
            "marker": {
             "colorbar": {
              "outlinewidth": 0,
              "ticks": ""
             }
            },
            "type": "scattergeo"
           }
          ],
          "scattergl": [
           {
            "marker": {
             "colorbar": {
              "outlinewidth": 0,
              "ticks": ""
             }
            },
            "type": "scattergl"
           }
          ],
          "scattermap": [
           {
            "marker": {
             "colorbar": {
              "outlinewidth": 0,
              "ticks": ""
             }
            },
            "type": "scattermap"
           }
          ],
          "scattermapbox": [
           {
            "marker": {
             "colorbar": {
              "outlinewidth": 0,
              "ticks": ""
             }
            },
            "type": "scattermapbox"
           }
          ],
          "scatterpolar": [
           {
            "marker": {
             "colorbar": {
              "outlinewidth": 0,
              "ticks": ""
             }
            },
            "type": "scatterpolar"
           }
          ],
          "scatterpolargl": [
           {
            "marker": {
             "colorbar": {
              "outlinewidth": 0,
              "ticks": ""
             }
            },
            "type": "scatterpolargl"
           }
          ],
          "scatterternary": [
           {
            "marker": {
             "colorbar": {
              "outlinewidth": 0,
              "ticks": ""
             }
            },
            "type": "scatterternary"
           }
          ],
          "surface": [
           {
            "colorbar": {
             "outlinewidth": 0,
             "ticks": ""
            },
            "colorscale": [
             [
              0,
              "#0d0887"
             ],
             [
              0.1111111111111111,
              "#46039f"
             ],
             [
              0.2222222222222222,
              "#7201a8"
             ],
             [
              0.3333333333333333,
              "#9c179e"
             ],
             [
              0.4444444444444444,
              "#bd3786"
             ],
             [
              0.5555555555555556,
              "#d8576b"
             ],
             [
              0.6666666666666666,
              "#ed7953"
             ],
             [
              0.7777777777777778,
              "#fb9f3a"
             ],
             [
              0.8888888888888888,
              "#fdca26"
             ],
             [
              1,
              "#f0f921"
             ]
            ],
            "type": "surface"
           }
          ],
          "table": [
           {
            "cells": {
             "fill": {
              "color": "#EBF0F8"
             },
             "line": {
              "color": "white"
             }
            },
            "header": {
             "fill": {
              "color": "#C8D4E3"
             },
             "line": {
              "color": "white"
             }
            },
            "type": "table"
           }
          ]
         },
         "layout": {
          "annotationdefaults": {
           "arrowcolor": "#2a3f5f",
           "arrowhead": 0,
           "arrowwidth": 1
          },
          "autotypenumbers": "strict",
          "coloraxis": {
           "colorbar": {
            "outlinewidth": 0,
            "ticks": ""
           }
          },
          "colorscale": {
           "diverging": [
            [
             0,
             "#8e0152"
            ],
            [
             0.1,
             "#c51b7d"
            ],
            [
             0.2,
             "#de77ae"
            ],
            [
             0.3,
             "#f1b6da"
            ],
            [
             0.4,
             "#fde0ef"
            ],
            [
             0.5,
             "#f7f7f7"
            ],
            [
             0.6,
             "#e6f5d0"
            ],
            [
             0.7,
             "#b8e186"
            ],
            [
             0.8,
             "#7fbc41"
            ],
            [
             0.9,
             "#4d9221"
            ],
            [
             1,
             "#276419"
            ]
           ],
           "sequential": [
            [
             0,
             "#0d0887"
            ],
            [
             0.1111111111111111,
             "#46039f"
            ],
            [
             0.2222222222222222,
             "#7201a8"
            ],
            [
             0.3333333333333333,
             "#9c179e"
            ],
            [
             0.4444444444444444,
             "#bd3786"
            ],
            [
             0.5555555555555556,
             "#d8576b"
            ],
            [
             0.6666666666666666,
             "#ed7953"
            ],
            [
             0.7777777777777778,
             "#fb9f3a"
            ],
            [
             0.8888888888888888,
             "#fdca26"
            ],
            [
             1,
             "#f0f921"
            ]
           ],
           "sequentialminus": [
            [
             0,
             "#0d0887"
            ],
            [
             0.1111111111111111,
             "#46039f"
            ],
            [
             0.2222222222222222,
             "#7201a8"
            ],
            [
             0.3333333333333333,
             "#9c179e"
            ],
            [
             0.4444444444444444,
             "#bd3786"
            ],
            [
             0.5555555555555556,
             "#d8576b"
            ],
            [
             0.6666666666666666,
             "#ed7953"
            ],
            [
             0.7777777777777778,
             "#fb9f3a"
            ],
            [
             0.8888888888888888,
             "#fdca26"
            ],
            [
             1,
             "#f0f921"
            ]
           ]
          },
          "colorway": [
           "#636efa",
           "#EF553B",
           "#00cc96",
           "#ab63fa",
           "#FFA15A",
           "#19d3f3",
           "#FF6692",
           "#B6E880",
           "#FF97FF",
           "#FECB52"
          ],
          "font": {
           "color": "#2a3f5f"
          },
          "geo": {
           "bgcolor": "white",
           "lakecolor": "white",
           "landcolor": "#E5ECF6",
           "showlakes": true,
           "showland": true,
           "subunitcolor": "white"
          },
          "hoverlabel": {
           "align": "left"
          },
          "hovermode": "closest",
          "mapbox": {
           "style": "light"
          },
          "paper_bgcolor": "white",
          "plot_bgcolor": "#E5ECF6",
          "polar": {
           "angularaxis": {
            "gridcolor": "white",
            "linecolor": "white",
            "ticks": ""
           },
           "bgcolor": "#E5ECF6",
           "radialaxis": {
            "gridcolor": "white",
            "linecolor": "white",
            "ticks": ""
           }
          },
          "scene": {
           "xaxis": {
            "backgroundcolor": "#E5ECF6",
            "gridcolor": "white",
            "gridwidth": 2,
            "linecolor": "white",
            "showbackground": true,
            "ticks": "",
            "zerolinecolor": "white"
           },
           "yaxis": {
            "backgroundcolor": "#E5ECF6",
            "gridcolor": "white",
            "gridwidth": 2,
            "linecolor": "white",
            "showbackground": true,
            "ticks": "",
            "zerolinecolor": "white"
           },
           "zaxis": {
            "backgroundcolor": "#E5ECF6",
            "gridcolor": "white",
            "gridwidth": 2,
            "linecolor": "white",
            "showbackground": true,
            "ticks": "",
            "zerolinecolor": "white"
           }
          },
          "shapedefaults": {
           "line": {
            "color": "#2a3f5f"
           }
          },
          "ternary": {
           "aaxis": {
            "gridcolor": "white",
            "linecolor": "white",
            "ticks": ""
           },
           "baxis": {
            "gridcolor": "white",
            "linecolor": "white",
            "ticks": ""
           },
           "bgcolor": "#E5ECF6",
           "caxis": {
            "gridcolor": "white",
            "linecolor": "white",
            "ticks": ""
           }
          },
          "title": {
           "x": 0.05
          },
          "xaxis": {
           "automargin": true,
           "gridcolor": "white",
           "linecolor": "white",
           "ticks": "",
           "title": {
            "standoff": 15
           },
           "zerolinecolor": "white",
           "zerolinewidth": 2
          },
          "yaxis": {
           "automargin": true,
           "gridcolor": "white",
           "linecolor": "white",
           "ticks": "",
           "title": {
            "standoff": 15
           },
           "zerolinecolor": "white",
           "zerolinewidth": 2
          }
         }
        },
        "title": {
         "text": "Food City 500 @ Bristol Motor Speedway: Kyle Larson -- Laptimes by Lap"
        },
        "xaxis": {
         "anchor": "y",
         "autorange": true,
         "domain": [
          0,
          1
         ],
         "range": [
          -31.06739811912226,
          532.0673981191222
         ],
         "title": {
          "text": "Lap"
         },
         "type": "linear"
        },
        "yaxis": {
         "anchor": "x",
         "autorange": true,
         "domain": [
          0,
          1
         ],
         "range": [
          16.738072815533982,
          15.282927184466018
         ],
         "title": {
          "text": "Laptime"
         },
         "type": "linear"
        }
       }
      }
     },
     "metadata": {},
     "output_type": "display_data"
    }
   ],
   "source": [
    "laptime = race_laps_filtered['LapTime']\n",
    "lap = race_laps_filtered['Lap']\n",
    "title = race + ': ' + driver\n",
    "\n",
    "\n",
    "\n",
    "fig = px.scatter(x=lap, y=laptime, title=title + ' -- Laptimes by Lap', labels={'x':'Lap','y':'Laptime'}, trendline='rolling', trendline_options=dict(window=3), trendline_color_override='red')\n",
    "fig.update_layout(paper_bgcolor='lightgray', plot_bgcolor='lightgray', yaxis=dict(autorange='reversed'))\n",
    "fig.update_traces(marker=dict(color='blue'))\n",
    "fig.add_hline(y=laptime.min(), line_width=0.5, line_color=\"black\")\n",
    "#print(fig)\n",
    "fig.show()"
   ]
  },
  {
   "cell_type": "code",
   "execution_count": 8,
   "id": "59656dbe-8732-4c2e-bd43-e11a557d5ed0",
   "metadata": {},
   "outputs": [
    {
     "data": {
      "application/vnd.plotly.v1+json": {
       "config": {
        "plotlyServerURL": "https://plot.ly"
       },
       "data": [
        {
         "bingroup": "x",
         "hovertemplate": "LapTime=%{x}<br>count=%{y}<extra></extra>",
         "legendgroup": "",
         "marker": {
          "color": "#636efa",
          "pattern": {
           "shape": ""
          }
         },
         "name": "",
         "orientation": "v",
         "showlegend": false,
         "type": "histogram",
         "x": {
          "_inputArray": {
           "0": 16.463,
           "1": 15.831,
           "10": 16.178,
           "100": 15.814,
           "101": 15.93,
           "102": 15.877,
           "103": 15.849,
           "104": 15.783,
           "105": 15.824,
           "106": 15.762,
           "107": 15.719,
           "108": 15.767,
           "109": 15.825,
           "11": 16.236,
           "110": 15.867,
           "111": 16.167,
           "112": 15.9,
           "113": 16.06,
           "114": 16.052,
           "115": 16.033,
           "116": 16.031,
           "117": 15.92,
           "118": 15.98,
           "119": 16.235,
           "12": 16.287,
           "120": 16.014,
           "121": 15.905,
           "122": 15.882,
           "123": 15.898,
           "124": 15.974,
           "125": 16.359,
           "126": 15.386,
           "127": 15.597,
           "128": 15.653,
           "129": 15.624,
           "13": 16.3,
           "130": 15.743,
           "131": 15.72,
           "132": 15.701,
           "133": 15.707,
           "134": 15.734,
           "135": 15.802,
           "136": 15.686,
           "137": 15.702,
           "138": 15.782,
           "139": 15.688,
           "14": 16.348,
           "140": 15.589,
           "141": 15.628,
           "142": 15.688,
           "143": 15.509,
           "144": 15.543,
           "145": 15.545,
           "146": 15.612,
           "147": 15.903,
           "148": 15.69,
           "149": 15.767,
           "15": 16.377,
           "150": 15.891,
           "151": 15.925,
           "152": 15.935,
           "153": 15.994,
           "154": 15.924,
           "155": 15.997,
           "156": 15.958,
           "157": 16.007,
           "158": 15.852,
           "159": 15.905,
           "16": 16.403,
           "160": 16.021,
           "161": 15.6,
           "162": 15.557,
           "163": 15.595,
           "164": 15.601,
           "165": 15.605,
           "166": 15.664,
           "167": 15.632,
           "168": 15.594,
           "169": 15.683,
           "17": 16.437,
           "170": 15.682,
           "171": 15.66,
           "172": 15.557,
           "173": 15.561,
           "174": 15.496,
           "175": 15.484,
           "176": 15.53,
           "177": 15.525,
           "178": 15.533,
           "179": 15.489,
           "18": 16.492,
           "180": 15.54,
           "181": 15.617,
           "182": 15.671,
           "183": 15.683,
           "184": 15.758,
           "185": 15.881,
           "186": 15.867,
           "187": 15.959,
           "188": 16.002,
           "189": 15.924,
           "19": 16.439,
           "190": 15.919,
           "191": 15.905,
           "192": 15.936,
           "193": 15.991,
           "194": 15.877,
           "195": 15.89,
           "196": 15.935,
           "197": 15.868,
           "198": 16.039,
           "199": 15.864,
           "2": 15.848,
           "20": 16.619,
           "200": 15.731,
           "201": 15.896,
           "202": 15.949,
           "203": 15.957,
           "204": 16.069,
           "205": 15.935,
           "206": 15.83,
           "207": 15.862,
           "208": 15.811,
           "209": 15.897,
           "21": 16.424,
           "210": 15.95,
           "211": 16.034,
           "212": 16.043,
           "213": 16.034,
           "214": 16.048,
           "215": 15.971,
           "216": 15.883,
           "217": 15.909,
           "218": 16.091,
           "219": 16.067,
           "22": 16.466,
           "220": 15.996,
           "221": 15.974,
           "222": 16.018,
           "223": 15.423,
           "224": 15.572,
           "225": 15.608,
           "226": 15.516,
           "227": 15.582,
           "228": 15.615,
           "229": 15.688,
           "23": 16.516,
           "230": 15.672,
           "231": 15.727,
           "232": 15.69,
           "233": 15.755,
           "234": 15.777,
           "235": 15.774,
           "236": 15.704,
           "237": 15.531,
           "238": 15.568,
           "239": 15.547,
           "24": 16.451,
           "240": 15.591,
           "241": 15.535,
           "242": 15.469,
           "243": 15.572,
           "244": 15.622,
           "245": 15.629,
           "246": 15.634,
           "247": 15.67,
           "248": 15.772,
           "249": 15.71,
           "25": 16.429,
           "250": 15.971,
           "251": 15.909,
           "252": 15.98,
           "253": 15.989,
           "254": 16.049,
           "255": 16.189,
           "256": 16.111,
           "257": 16.02,
           "258": 15.977,
           "259": 15.926,
           "26": 16.635,
           "260": 15.966,
           "261": 15.947,
           "262": 16.099,
           "263": 15.853,
           "264": 15.898,
           "265": 15.894,
           "266": 15.817,
           "267": 15.832,
           "268": 15.993,
           "269": 15.875,
           "27": 16.363,
           "270": 15.966,
           "271": 16.02,
           "272": 15.983,
           "273": 16.108,
           "274": 15.939,
           "275": 15.94,
           "276": 15.936,
           "277": 15.88,
           "278": 15.974,
           "279": 15.869,
           "28": 16.364,
           "280": 15.863,
           "281": 15.835,
           "282": 15.882,
           "283": 15.842,
           "284": 15.841,
           "285": 15.864,
           "286": 15.81,
           "287": 15.832,
           "288": 15.842,
           "289": 15.738,
           "29": 16.482,
           "290": 15.863,
           "291": 15.931,
           "292": 15.85,
           "293": 15.931,
           "294": 15.997,
           "295": 15.913,
           "296": 16.01,
           "297": 15.859,
           "298": 15.946,
           "299": 16.162,
           "3": 15.856,
           "30": 16.418,
           "300": 16.048,
           "301": 15.919,
           "302": 15.964,
           "303": 15.843,
           "304": 15.857,
           "305": 15.85,
           "306": 15.917,
           "307": 15.816,
           "308": 15.952,
           "309": 15.869,
           "31": 16.356,
           "310": 15.864,
           "311": 15.873,
           "312": 15.827,
           "313": 15.917,
           "314": 15.932,
           "315": 16.105,
           "316": 16.193,
           "317": 16.133,
           "318": 16.11,
           "319": 16.1,
           "32": 16.363,
           "320": 16.133,
           "321": 16.028,
           "322": 16.014,
           "323": 15.971,
           "324": 16.006,
           "325": 15.916,
           "326": 15.934,
           "327": 15.931,
           "328": 16.031,
           "329": 15.949,
           "33": 16.344,
           "330": 15.87,
           "331": 15.88,
           "332": 15.97,
           "333": 15.969,
           "334": 15.847,
           "335": 15.813,
           "336": 16.112,
           "337": 15.863,
           "338": 15.91,
           "339": 15.867,
           "34": 16.392,
           "340": 15.835,
           "341": 15.996,
           "342": 15.779,
           "343": 15.815,
           "344": 15.955,
           "345": 15.974,
           "346": 15.645,
           "347": 15.501,
           "348": 15.593,
           "349": 15.732,
           "35": 16.292,
           "350": 15.702,
           "351": 15.558,
           "352": 15.604,
           "353": 15.507,
           "354": 15.622,
           "355": 15.64,
           "356": 15.554,
           "357": 15.653,
           "358": 15.687,
           "359": 15.63,
           "36": 16.188,
           "360": 15.72,
           "361": 15.811,
           "362": 15.773,
           "363": 16.053,
           "364": 16.048,
           "365": 15.795,
           "366": 15.873,
           "367": 16.113,
           "368": 15.976,
           "369": 15.989,
           "37": 16.241,
           "370": 15.819,
           "371": 15.738,
           "372": 15.873,
           "373": 15.875,
           "374": 15.8,
           "375": 15.793,
           "376": 15.834,
           "377": 15.873,
           "378": 15.85,
           "379": 15.874,
           "38": 16.166,
           "380": 15.879,
           "381": 15.954,
           "382": 15.87,
           "383": 15.91,
           "384": 15.925,
           "385": 15.943,
           "386": 15.944,
           "387": 15.937,
           "388": 15.834,
           "389": 16.077,
           "39": 16.085,
           "390": 15.901,
           "391": 15.947,
           "392": 15.88,
           "393": 15.897,
           "394": 16.003,
           "395": 15.922,
           "396": 15.868,
           "397": 15.892,
           "398": 15.966,
           "399": 16.104,
           "4": 15.969,
           "40": 16.172,
           "400": 15.944,
           "401": 16.08,
           "402": 15.889,
           "403": 16.15,
           "404": 16.026,
           "405": 16.125,
           "406": 16.078,
           "407": 15.934,
           "408": 15.843,
           "409": 15.818,
           "41": 16.003,
           "410": 15.902,
           "411": 15.878,
           "412": 15.859,
           "413": 15.935,
           "414": 15.979,
           "415": 16.033,
           "416": 16.096,
           "417": 16.038,
           "418": 15.704,
           "419": 15.73,
           "42": 15.997,
           "420": 15.899,
           "421": 15.839,
           "422": 15.904,
           "423": 15.887,
           "424": 15.834,
           "425": 15.854,
           "426": 15.877,
           "427": 15.828,
           "428": 15.927,
           "429": 15.983,
           "43": 15.986,
           "430": 15.977,
           "431": 15.974,
           "432": 16.012,
           "433": 15.927,
           "434": 15.944,
           "435": 15.978,
           "436": 15.945,
           "437": 15.949,
           "438": 15.973,
           "439": 15.941,
           "44": 15.892,
           "440": 15.988,
           "441": 16.158,
           "442": 16.058,
           "443": 15.885,
           "444": 16.125,
           "445": 16.213,
           "446": 15.844,
           "447": 16.262,
           "448": 15.881,
           "449": 15.894,
           "45": 15.913,
           "450": 16.134,
           "451": 15.932,
           "452": 16.028,
           "453": 16.051,
           "454": 16.302,
           "46": 15.954,
           "47": 15.913,
           "48": 15.939,
           "49": 15.932,
           "5": 15.978,
           "50": 15.944,
           "51": 15.883,
           "52": 15.89,
           "53": 15.865,
           "54": 15.746,
           "55": 15.789,
           "56": 15.799,
           "57": 15.742,
           "58": 15.846,
           "59": 16.015,
           "6": 16.083,
           "60": 15.824,
           "61": 15.827,
           "62": 15.835,
           "63": 16.069,
           "64": 16.089,
           "65": 16.014,
           "66": 15.975,
           "67": 16.041,
           "68": 15.942,
           "69": 15.989,
           "7": 15.977,
           "70": 15.931,
           "71": 15.986,
           "72": 15.984,
           "73": 15.966,
           "74": 15.911,
           "75": 15.983,
           "76": 15.984,
           "77": 15.996,
           "78": 15.921,
           "79": 15.867,
           "8": 16.118,
           "80": 15.935,
           "81": 15.827,
           "82": 15.983,
           "83": 15.979,
           "84": 15.897,
           "85": 15.865,
           "86": 15.889,
           "87": 16.038,
           "88": 16.045,
           "89": 16.105,
           "9": 16.121,
           "90": 16.224,
           "91": 16.137,
           "92": 15.882,
           "93": 15.829,
           "94": 15.698,
           "95": 15.733,
           "96": 15.787,
           "97": 15.762,
           "98": 15.898,
           "99": 15.908,
           "bdata": "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",
           "dtype": "f8",
           "shape": "455"
          },
          "bdata": "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",
          "dtype": "f8"
         },
         "xaxis": "x",
         "yaxis": "y"
        }
       ],
       "layout": {
        "autosize": true,
        "barmode": "relative",
        "legend": {
         "tracegroupgap": 0
        },
        "template": {
         "data": {
          "bar": [
           {
            "error_x": {
             "color": "#2a3f5f"
            },
            "error_y": {
             "color": "#2a3f5f"
            },
            "marker": {
             "line": {
              "color": "#E5ECF6",
              "width": 0.5
             },
             "pattern": {
              "fillmode": "overlay",
              "size": 10,
              "solidity": 0.2
             }
            },
            "type": "bar"
           }
          ],
          "barpolar": [
           {
            "marker": {
             "line": {
              "color": "#E5ECF6",
              "width": 0.5
             },
             "pattern": {
              "fillmode": "overlay",
              "size": 10,
              "solidity": 0.2
             }
            },
            "type": "barpolar"
           }
          ],
          "carpet": [
           {
            "aaxis": {
             "endlinecolor": "#2a3f5f",
             "gridcolor": "white",
             "linecolor": "white",
             "minorgridcolor": "white",
             "startlinecolor": "#2a3f5f"
            },
            "baxis": {
             "endlinecolor": "#2a3f5f",
             "gridcolor": "white",
             "linecolor": "white",
             "minorgridcolor": "white",
             "startlinecolor": "#2a3f5f"
            },
            "type": "carpet"
           }
          ],
          "choropleth": [
           {
            "colorbar": {
             "outlinewidth": 0,
             "ticks": ""
            },
            "type": "choropleth"
           }
          ],
          "contour": [
           {
            "colorbar": {
             "outlinewidth": 0,
             "ticks": ""
            },
            "colorscale": [
             [
              0,
              "#0d0887"
             ],
             [
              0.1111111111111111,
              "#46039f"
             ],
             [
              0.2222222222222222,
              "#7201a8"
             ],
             [
              0.3333333333333333,
              "#9c179e"
             ],
             [
              0.4444444444444444,
              "#bd3786"
             ],
             [
              0.5555555555555556,
              "#d8576b"
             ],
             [
              0.6666666666666666,
              "#ed7953"
             ],
             [
              0.7777777777777778,
              "#fb9f3a"
             ],
             [
              0.8888888888888888,
              "#fdca26"
             ],
             [
              1,
              "#f0f921"
             ]
            ],
            "type": "contour"
           }
          ],
          "contourcarpet": [
           {
            "colorbar": {
             "outlinewidth": 0,
             "ticks": ""
            },
            "type": "contourcarpet"
           }
          ],
          "heatmap": [
           {
            "colorbar": {
             "outlinewidth": 0,
             "ticks": ""
            },
            "colorscale": [
             [
              0,
              "#0d0887"
             ],
             [
              0.1111111111111111,
              "#46039f"
             ],
             [
              0.2222222222222222,
              "#7201a8"
             ],
             [
              0.3333333333333333,
              "#9c179e"
             ],
             [
              0.4444444444444444,
              "#bd3786"
             ],
             [
              0.5555555555555556,
              "#d8576b"
             ],
             [
              0.6666666666666666,
              "#ed7953"
             ],
             [
              0.7777777777777778,
              "#fb9f3a"
             ],
             [
              0.8888888888888888,
              "#fdca26"
             ],
             [
              1,
              "#f0f921"
             ]
            ],
            "type": "heatmap"
           }
          ],
          "histogram": [
           {
            "marker": {
             "pattern": {
              "fillmode": "overlay",
              "size": 10,
              "solidity": 0.2
             }
            },
            "type": "histogram"
           }
          ],
          "histogram2d": [
           {
            "colorbar": {
             "outlinewidth": 0,
             "ticks": ""
            },
            "colorscale": [
             [
              0,
              "#0d0887"
             ],
             [
              0.1111111111111111,
              "#46039f"
             ],
             [
              0.2222222222222222,
              "#7201a8"
             ],
             [
              0.3333333333333333,
              "#9c179e"
             ],
             [
              0.4444444444444444,
              "#bd3786"
             ],
             [
              0.5555555555555556,
              "#d8576b"
             ],
             [
              0.6666666666666666,
              "#ed7953"
             ],
             [
              0.7777777777777778,
              "#fb9f3a"
             ],
             [
              0.8888888888888888,
              "#fdca26"
             ],
             [
              1,
              "#f0f921"
             ]
            ],
            "type": "histogram2d"
           }
          ],
          "histogram2dcontour": [
           {
            "colorbar": {
             "outlinewidth": 0,
             "ticks": ""
            },
            "colorscale": [
             [
              0,
              "#0d0887"
             ],
             [
              0.1111111111111111,
              "#46039f"
             ],
             [
              0.2222222222222222,
              "#7201a8"
             ],
             [
              0.3333333333333333,
              "#9c179e"
             ],
             [
              0.4444444444444444,
              "#bd3786"
             ],
             [
              0.5555555555555556,
              "#d8576b"
             ],
             [
              0.6666666666666666,
              "#ed7953"
             ],
             [
              0.7777777777777778,
              "#fb9f3a"
             ],
             [
              0.8888888888888888,
              "#fdca26"
             ],
             [
              1,
              "#f0f921"
             ]
            ],
            "type": "histogram2dcontour"
           }
          ],
          "mesh3d": [
           {
            "colorbar": {
             "outlinewidth": 0,
             "ticks": ""
            },
            "type": "mesh3d"
           }
          ],
          "parcoords": [
           {
            "line": {
             "colorbar": {
              "outlinewidth": 0,
              "ticks": ""
             }
            },
            "type": "parcoords"
           }
          ],
          "pie": [
           {
            "automargin": true,
            "type": "pie"
           }
          ],
          "scatter": [
           {
            "fillpattern": {
             "fillmode": "overlay",
             "size": 10,
             "solidity": 0.2
            },
            "type": "scatter"
           }
          ],
          "scatter3d": [
           {
            "line": {
             "colorbar": {
              "outlinewidth": 0,
              "ticks": ""
             }
            },
            "marker": {
             "colorbar": {
              "outlinewidth": 0,
              "ticks": ""
             }
            },
            "type": "scatter3d"
           }
          ],
          "scattercarpet": [
           {
            "marker": {
             "colorbar": {
              "outlinewidth": 0,
              "ticks": ""
             }
            },
            "type": "scattercarpet"
           }
          ],
          "scattergeo": [
           {
            "marker": {
             "colorbar": {
              "outlinewidth": 0,
              "ticks": ""
             }
            },
            "type": "scattergeo"
           }
          ],
          "scattergl": [
           {
            "marker": {
             "colorbar": {
              "outlinewidth": 0,
              "ticks": ""
             }
            },
            "type": "scattergl"
           }
          ],
          "scattermap": [
           {
            "marker": {
             "colorbar": {
              "outlinewidth": 0,
              "ticks": ""
             }
            },
            "type": "scattermap"
           }
          ],
          "scattermapbox": [
           {
            "marker": {
             "colorbar": {
              "outlinewidth": 0,
              "ticks": ""
             }
            },
            "type": "scattermapbox"
           }
          ],
          "scatterpolar": [
           {
            "marker": {
             "colorbar": {
              "outlinewidth": 0,
              "ticks": ""
             }
            },
            "type": "scatterpolar"
           }
          ],
          "scatterpolargl": [
           {
            "marker": {
             "colorbar": {
              "outlinewidth": 0,
              "ticks": ""
             }
            },
            "type": "scatterpolargl"
           }
          ],
          "scatterternary": [
           {
            "marker": {
             "colorbar": {
              "outlinewidth": 0,
              "ticks": ""
             }
            },
            "type": "scatterternary"
           }
          ],
          "surface": [
           {
            "colorbar": {
             "outlinewidth": 0,
             "ticks": ""
            },
            "colorscale": [
             [
              0,
              "#0d0887"
             ],
             [
              0.1111111111111111,
              "#46039f"
             ],
             [
              0.2222222222222222,
              "#7201a8"
             ],
             [
              0.3333333333333333,
              "#9c179e"
             ],
             [
              0.4444444444444444,
              "#bd3786"
             ],
             [
              0.5555555555555556,
              "#d8576b"
             ],
             [
              0.6666666666666666,
              "#ed7953"
             ],
             [
              0.7777777777777778,
              "#fb9f3a"
             ],
             [
              0.8888888888888888,
              "#fdca26"
             ],
             [
              1,
              "#f0f921"
             ]
            ],
            "type": "surface"
           }
          ],
          "table": [
           {
            "cells": {
             "fill": {
              "color": "#EBF0F8"
             },
             "line": {
              "color": "white"
             }
            },
            "header": {
             "fill": {
              "color": "#C8D4E3"
             },
             "line": {
              "color": "white"
             }
            },
            "type": "table"
           }
          ]
         },
         "layout": {
          "annotationdefaults": {
           "arrowcolor": "#2a3f5f",
           "arrowhead": 0,
           "arrowwidth": 1
          },
          "autotypenumbers": "strict",
          "coloraxis": {
           "colorbar": {
            "outlinewidth": 0,
            "ticks": ""
           }
          },
          "colorscale": {
           "diverging": [
            [
             0,
             "#8e0152"
            ],
            [
             0.1,
             "#c51b7d"
            ],
            [
             0.2,
             "#de77ae"
            ],
            [
             0.3,
             "#f1b6da"
            ],
            [
             0.4,
             "#fde0ef"
            ],
            [
             0.5,
             "#f7f7f7"
            ],
            [
             0.6,
             "#e6f5d0"
            ],
            [
             0.7,
             "#b8e186"
            ],
            [
             0.8,
             "#7fbc41"
            ],
            [
             0.9,
             "#4d9221"
            ],
            [
             1,
             "#276419"
            ]
           ],
           "sequential": [
            [
             0,
             "#0d0887"
            ],
            [
             0.1111111111111111,
             "#46039f"
            ],
            [
             0.2222222222222222,
             "#7201a8"
            ],
            [
             0.3333333333333333,
             "#9c179e"
            ],
            [
             0.4444444444444444,
             "#bd3786"
            ],
            [
             0.5555555555555556,
             "#d8576b"
            ],
            [
             0.6666666666666666,
             "#ed7953"
            ],
            [
             0.7777777777777778,
             "#fb9f3a"
            ],
            [
             0.8888888888888888,
             "#fdca26"
            ],
            [
             1,
             "#f0f921"
            ]
           ],
           "sequentialminus": [
            [
             0,
             "#0d0887"
            ],
            [
             0.1111111111111111,
             "#46039f"
            ],
            [
             0.2222222222222222,
             "#7201a8"
            ],
            [
             0.3333333333333333,
             "#9c179e"
            ],
            [
             0.4444444444444444,
             "#bd3786"
            ],
            [
             0.5555555555555556,
             "#d8576b"
            ],
            [
             0.6666666666666666,
             "#ed7953"
            ],
            [
             0.7777777777777778,
             "#fb9f3a"
            ],
            [
             0.8888888888888888,
             "#fdca26"
            ],
            [
             1,
             "#f0f921"
            ]
           ]
          },
          "colorway": [
           "#636efa",
           "#EF553B",
           "#00cc96",
           "#ab63fa",
           "#FFA15A",
           "#19d3f3",
           "#FF6692",
           "#B6E880",
           "#FF97FF",
           "#FECB52"
          ],
          "font": {
           "color": "#2a3f5f"
          },
          "geo": {
           "bgcolor": "white",
           "lakecolor": "white",
           "landcolor": "#E5ECF6",
           "showlakes": true,
           "showland": true,
           "subunitcolor": "white"
          },
          "hoverlabel": {
           "align": "left"
          },
          "hovermode": "closest",
          "mapbox": {
           "style": "light"
          },
          "paper_bgcolor": "white",
          "plot_bgcolor": "#E5ECF6",
          "polar": {
           "angularaxis": {
            "gridcolor": "white",
            "linecolor": "white",
            "ticks": ""
           },
           "bgcolor": "#E5ECF6",
           "radialaxis": {
            "gridcolor": "white",
            "linecolor": "white",
            "ticks": ""
           }
          },
          "scene": {
           "xaxis": {
            "backgroundcolor": "#E5ECF6",
            "gridcolor": "white",
            "gridwidth": 2,
            "linecolor": "white",
            "showbackground": true,
            "ticks": "",
            "zerolinecolor": "white"
           },
           "yaxis": {
            "backgroundcolor": "#E5ECF6",
            "gridcolor": "white",
            "gridwidth": 2,
            "linecolor": "white",
            "showbackground": true,
            "ticks": "",
            "zerolinecolor": "white"
           },
           "zaxis": {
            "backgroundcolor": "#E5ECF6",
            "gridcolor": "white",
            "gridwidth": 2,
            "linecolor": "white",
            "showbackground": true,
            "ticks": "",
            "zerolinecolor": "white"
           }
          },
          "shapedefaults": {
           "line": {
            "color": "#2a3f5f"
           }
          },
          "ternary": {
           "aaxis": {
            "gridcolor": "white",
            "linecolor": "white",
            "ticks": ""
           },
           "baxis": {
            "gridcolor": "white",
            "linecolor": "white",
            "ticks": ""
           },
           "bgcolor": "#E5ECF6",
           "caxis": {
            "gridcolor": "white",
            "linecolor": "white",
            "ticks": ""
           }
          },
          "title": {
           "x": 0.05
          },
          "xaxis": {
           "automargin": true,
           "gridcolor": "white",
           "linecolor": "white",
           "ticks": "",
           "title": {
            "standoff": 15
           },
           "zerolinecolor": "white",
           "zerolinewidth": 2
          },
          "yaxis": {
           "automargin": true,
           "gridcolor": "white",
           "linecolor": "white",
           "ticks": "",
           "title": {
            "standoff": 15
           },
           "zerolinecolor": "white",
           "zerolinewidth": 2
          }
         }
        },
        "title": {
         "text": "Food City 500 @ Bristol Motor Speedway: Kyle Larson -- Laptime Histogram"
        },
        "xaxis": {
         "anchor": "y",
         "autorange": true,
         "domain": [
          0,
          1
         ],
         "range": [
          15.350000000000001,
          16.65
         ],
         "title": {
          "text": "LapTime"
         },
         "type": "linear"
        },
        "yaxis": {
         "anchor": "x",
         "autorange": true,
         "domain": [
          0,
          1
         ],
         "range": [
          0,
          73.6842105263158
         ],
         "title": {
          "text": "count"
         }
        }
       }
      }
     },
     "metadata": {},
     "output_type": "display_data"
    }
   ],
   "source": [
    "fig = px.histogram(race_laps_filtered, x=laptime, title=title + ' -- Laptime Histogram', labels={'x':'Lap','y':'Laptime'})\n",
    "fig.show()"
   ]
  },
  {
   "cell_type": "code",
   "execution_count": null,
   "id": "7080835a-ef4d-4e85-a754-090d75114ed9",
   "metadata": {},
   "outputs": [],
   "source": []
  },
  {
   "cell_type": "code",
   "execution_count": 9,
   "id": "9649a0b9-56bb-4f60-81b2-61d04083b487",
   "metadata": {},
   "outputs": [
    {
     "name": "stdout",
     "output_type": "stream",
     "text": [
      "Kyle Larson\n",
      "   Lap  LapTime LapSpeed  RunningPos\n",
      "0    0      NaN     None           3\n",
      "1    1   16.463  116.552           5\n",
      "2    2   15.831  121.205           5\n",
      "3    3   15.848  121.075           5\n",
      "4    4   15.856  121.014           5\n"
     ]
    }
   ],
   "source": [
    "# pull lap times from api\n",
    "#url = f'https://cf.nascar.com/cacher/2025/1/{race_id}/lap-times.json'\n",
    "#json = requests.get(url).json()\n",
    "\n",
    "# collect lap times and filter for yellows and pit stops\n",
    "#race_laps = pd.json_normalize(json['laps'][driver_id]['Laps'])\n",
    "\n",
    "print(driver)\n",
    "print(race_laps.head())"
   ]
  },
  {
   "cell_type": "code",
   "execution_count": 39,
   "id": "fa9db768-7d64-4f05-9cc1-56633d8ec088",
   "metadata": {},
   "outputs": [
    {
     "name": "stdout",
     "output_type": "stream",
     "text": [
      "[['driver_name', 'start_pos', 'high_pos', 'low_pos', 'end_pos', 'pos_change'], ['Kyle Larson', 3, 1, 15, 1, 2], ['Denny Hamlin', 4, 2, 18, 2, 2], ['Ty Gibbs', 6, 3, 21, 3, 3], ['Chase Briscoe', 14, 3, 18, 4, 10], ['Ryan Blaney', 5, 1, 14, 5, 0], ['William Byron', 26, 4, 26, 6, 20], ['Ross Chastain', 35, 4, 36, 7, 28], ['Christopher Bell', 7, 3, 23, 8, -1], ['AJ Allmendinger', 8, 5, 22, 9, -1], ['Austin Dillon', 17, 4, 22, 10, 7], ['Carson Hocevar', 9, 1, 22, 11, -2], ['Josh Berry', 11, 3, 20, 12, -1], ['Justin Haley', 10, 2, 18, 13, -3], ['Kyle Busch', 15, 5, 24, 14, 1], ['Chase Elliott', 20, 5, 22, 15, 5], ['Brad Keselowsk', 16, 4, 24, 16, 0], ['Austin Cindric', 21, 16, 24, 17, 4], ['Tyler Reddick', 27, 2, 29, 18, 9], ['Bubba Wallace', 22, 3, 25, 19, 3], ['Ryan Preece', 29, 1, 30, 20, 9], ['John Hunter Nemechek', 32, 19, 35, 21, 11], ['Ricky Stenhouse Jr.', 2, 2, 27, 22, -20], ['Noah Gragson', 31, 23, 35, 23, 8], ['Joey Logano', 38, 24, 38, 24, 14], ['Chris Buescher', 24, 22, 35, 25, -1], ['Erik Jones', 28, 25, 37, 26, 2], ['Zane Smith', 18, 8, 29, 27, -9], ['Riley Herbst', 25, 25, 32, 28, -3], ['Cole Custer', 33, 28, 36, 29, 4], ['Michael McDowell', 13, 13, 38, 30, -17], ['Jesse Love', 19, 19, 37, 31, -12], ['Ty Dillon', 12, 9, 32, 32, -20], ['Daniel Suarez', 23, 23, 33, 33, -10], ['Corey LaJoie', 37, 23, 38, 34, 3], ['Todd Gilliland', 30, 25, 37, 35, -5], ['Cody Ware', 34, 31, 39, 36, -2], ['Alex Bowman', 1, 1, 31, 31, -30], ['Shane Van Gisbergen', 36, 33, 39, 38, -2], ['Josh Bilick', 39, 36, 39, 38, 1]]\n",
      "['Josh Bilick', 39, 36, 39, 38, 1]\n"
     ]
    }
   ],
   "source": [
    "running_position = []\n",
    "running_position.append(['driver_name', 'start_pos', 'high_pos', 'low_pos', 'end_pos', 'pos_change'])\n",
    "\n",
    "for i in np.arange(len(driver_list)):\n",
    "    # pull lap times from api\n",
    "    url = f'https://cf.nascar.com/cacher/2025/1/{race_id}/lap-times.json'\n",
    "    json = requests.get(url).json()\n",
    "    \n",
    "    # collect dataframes for laps and driver name\n",
    "    laps = pd.json_normalize(json['laps'][i]['Laps'])\n",
    "    driver_name = pd.json_normalize(json['laps'][i])\n",
    "\n",
    "    # put all the drivers together\n",
    "    \n",
    "\n",
    "    driver_name = driver_name['FullName'][0].lstrip('* ').rstrip('(i) #')\n",
    "    start_pos = laps['RunningPos'].head(1)[0].item()\n",
    "    high_pos = laps['RunningPos'].min().item()\n",
    "    low_pos = laps['RunningPos'].max().item()\n",
    "    end_pos = laps['RunningPos'].tail(1).to_numpy()[0].item()\n",
    "    pos_change = start_pos - end_pos\n",
    "    \n",
    "\n",
    "    new_driver = [driver_name, start_pos, high_pos, low_pos, end_pos, pos_change]\n",
    "\n",
    "    #running_position_start = np.vstack((running_position, new_driver))\n",
    "    #running_position_updated = np.vstack((running_position_start, new_driver))\n",
    "\n",
    "    running_position.append(new_driver)\n",
    "\n",
    "print(running_position)\n",
    "print(new_driver)"
   ]
  },
  {
   "cell_type": "code",
   "execution_count": 40,
   "id": "02db08c2-d4b1-400f-b7be-df8d5a786f6c",
   "metadata": {},
   "outputs": [
    {
     "name": "stdout",
     "output_type": "stream",
     "text": [
      "             driver_name  start_pos  high_pos  low_pos  end_pos  pos_change\n",
      "0            Kyle Larson          3         1       15        1           2\n",
      "1           Denny Hamlin          4         2       18        2           2\n",
      "2               Ty Gibbs          6         3       21        3           3\n",
      "3          Chase Briscoe         14         3       18        4          10\n",
      "4            Ryan Blaney          5         1       14        5           0\n",
      "5          William Byron         26         4       26        6          20\n",
      "6          Ross Chastain         35         4       36        7          28\n",
      "7       Christopher Bell          7         3       23        8          -1\n",
      "8        AJ Allmendinger          8         5       22        9          -1\n",
      "9          Austin Dillon         17         4       22       10           7\n",
      "10        Carson Hocevar          9         1       22       11          -2\n",
      "11            Josh Berry         11         3       20       12          -1\n",
      "12          Justin Haley         10         2       18       13          -3\n",
      "13            Kyle Busch         15         5       24       14           1\n",
      "14         Chase Elliott         20         5       22       15           5\n",
      "15        Brad Keselowsk         16         4       24       16           0\n",
      "16        Austin Cindric         21        16       24       17           4\n",
      "17         Tyler Reddick         27         2       29       18           9\n",
      "18         Bubba Wallace         22         3       25       19           3\n",
      "19           Ryan Preece         29         1       30       20           9\n",
      "20  John Hunter Nemechek         32        19       35       21          11\n",
      "21   Ricky Stenhouse Jr.          2         2       27       22         -20\n",
      "22          Noah Gragson         31        23       35       23           8\n",
      "23           Joey Logano         38        24       38       24          14\n",
      "24        Chris Buescher         24        22       35       25          -1\n",
      "25            Erik Jones         28        25       37       26           2\n",
      "26            Zane Smith         18         8       29       27          -9\n",
      "27          Riley Herbst         25        25       32       28          -3\n",
      "28           Cole Custer         33        28       36       29           4\n",
      "29      Michael McDowell         13        13       38       30         -17\n",
      "30            Jesse Love         19        19       37       31         -12\n",
      "31             Ty Dillon         12         9       32       32         -20\n",
      "32         Daniel Suarez         23        23       33       33         -10\n",
      "33          Corey LaJoie         37        23       38       34           3\n",
      "34        Todd Gilliland         30        25       37       35          -5\n",
      "35             Cody Ware         34        31       39       36          -2\n",
      "36           Alex Bowman          1         1       31       31         -30\n",
      "37   Shane Van Gisbergen         36        33       39       38          -2\n",
      "38           Josh Bilick         39        36       39       38           1\n"
     ]
    }
   ],
   "source": [
    "df = pd.DataFrame(running_position[1:], columns=running_position[0])\n",
    "\n",
    "print(df)"
   ]
  },
  {
   "cell_type": "code",
   "execution_count": 41,
   "id": "30d39f10-df6b-485c-b30f-2b6acdcdb5e4",
   "metadata": {},
   "outputs": [
    {
     "name": "stdout",
     "output_type": "stream",
     "text": [
      "     driver_name  start_pos  high_pos  low_pos  end_pos  pos_change\n",
      "0    Kyle Larson          3         1       15        1           2\n",
      "1   Denny Hamlin          4         2       18        2           2\n",
      "2       Ty Gibbs          6         3       21        3           3\n",
      "3  Chase Briscoe         14         3       18        4          10\n",
      "4    Ryan Blaney          5         1       14        5           0\n"
     ]
    },
    {
     "data": {
      "application/vnd.plotly.v1+json": {
       "config": {
        "plotlyServerURL": "https://plot.ly"
       },
       "data": [
        {
         "close": {
          "_inputArray": {
           "0": 1,
           "1": 2,
           "10": 11,
           "11": 12,
           "12": 13,
           "13": 14,
           "14": 15,
           "15": 16,
           "16": 17,
           "17": 18,
           "18": 19,
           "19": 20,
           "2": 3,
           "20": 21,
           "21": 22,
           "22": 23,
           "23": 24,
           "24": 25,
           "25": 26,
           "26": 27,
           "27": 28,
           "28": 29,
           "29": 30,
           "3": 4,
           "30": 31,
           "31": 32,
           "32": 33,
           "33": 34,
           "34": 35,
           "35": 36,
           "36": 31,
           "37": 38,
           "38": 38,
           "4": 5,
           "5": 6,
           "6": 7,
           "7": 8,
           "8": 9,
           "9": 10,
           "bdata": "AQIDBAUGBwgJCgsMDQ4PEBESExQVFhcYGRobHB0eHyAhIiMkHyYm",
           "dtype": "i1",
           "shape": "39"
          },
          "bdata": "AQIDBAUGBwgJCgsMDQ4PEBESExQVFhcYGRobHB0eHyAhIiMkHyYm",
          "dtype": "i1"
         },
         "decreasing": {
          "line": {
           "color": "green"
          }
         },
         "high": {
          "_inputArray": {
           "0": 15,
           "1": 18,
           "10": 22,
           "11": 20,
           "12": 18,
           "13": 24,
           "14": 22,
           "15": 24,
           "16": 24,
           "17": 29,
           "18": 25,
           "19": 30,
           "2": 21,
           "20": 35,
           "21": 27,
           "22": 35,
           "23": 38,
           "24": 35,
           "25": 37,
           "26": 29,
           "27": 32,
           "28": 36,
           "29": 38,
           "3": 18,
           "30": 37,
           "31": 32,
           "32": 33,
           "33": 38,
           "34": 37,
           "35": 39,
           "36": 31,
           "37": 39,
           "38": 39,
           "4": 14,
           "5": 26,
           "6": 36,
           "7": 23,
           "8": 22,
           "9": 22,
           "bdata": "DxIVEg4aJBcWFhYUEhgWGBgdGR4jGyMmIyUdICQmJSAhJiUnHycn",
           "dtype": "i1",
           "shape": "39"
          },
          "bdata": "DxIVEg4aJBcWFhYUEhgWGBgdGR4jGyMmIyUdICQmJSAhJiUnHycn",
          "dtype": "i1"
         },
         "increasing": {
          "line": {
           "color": "red"
          }
         },
         "low": {
          "_inputArray": {
           "0": 1,
           "1": 2,
           "10": 1,
           "11": 3,
           "12": 2,
           "13": 5,
           "14": 5,
           "15": 4,
           "16": 16,
           "17": 2,
           "18": 3,
           "19": 1,
           "2": 3,
           "20": 19,
           "21": 2,
           "22": 23,
           "23": 24,
           "24": 22,
           "25": 25,
           "26": 8,
           "27": 25,
           "28": 28,
           "29": 13,
           "3": 3,
           "30": 19,
           "31": 9,
           "32": 23,
           "33": 23,
           "34": 25,
           "35": 31,
           "36": 1,
           "37": 33,
           "38": 36,
           "4": 1,
           "5": 4,
           "6": 4,
           "7": 3,
           "8": 5,
           "9": 4,
           "bdata": "AQIDAwEEBAMFBAEDAgUFBBACAwETAhcYFhkIGRwNEwkXFxkfASEk",
           "dtype": "i1",
           "shape": "39"
          },
          "bdata": "AQIDAwEEBAMFBAEDAgUFBBACAwETAhcYFhkIGRwNEwkXFxkfASEk",
          "dtype": "i1"
         },
         "open": {
          "_inputArray": {
           "0": 3,
           "1": 4,
           "10": 9,
           "11": 11,
           "12": 10,
           "13": 15,
           "14": 20,
           "15": 16,
           "16": 21,
           "17": 27,
           "18": 22,
           "19": 29,
           "2": 6,
           "20": 32,
           "21": 2,
           "22": 31,
           "23": 38,
           "24": 24,
           "25": 28,
           "26": 18,
           "27": 25,
           "28": 33,
           "29": 13,
           "3": 14,
           "30": 19,
           "31": 12,
           "32": 23,
           "33": 37,
           "34": 30,
           "35": 34,
           "36": 1,
           "37": 36,
           "38": 39,
           "4": 5,
           "5": 26,
           "6": 35,
           "7": 7,
           "8": 8,
           "9": 17,
           "bdata": "AwQGDgUaIwcIEQkLCg8UEBUbFh0gAh8mGBwSGSENEwwXJR4iASQn",
           "dtype": "i1",
           "shape": "39"
          },
          "bdata": "AwQGDgUaIwcIEQkLCg8UEBUbFh0gAh8mGBwSGSENEwwXJR4iASQn",
          "dtype": "i1"
         },
         "type": "ohlc",
         "x": [
          "Kyle Larson",
          "Denny Hamlin",
          "Ty Gibbs",
          "Chase Briscoe",
          "Ryan Blaney",
          "William Byron",
          "Ross Chastain",
          "Christopher Bell",
          "AJ Allmendinger",
          "Austin Dillon",
          "Carson Hocevar",
          "Josh Berry",
          "Justin Haley",
          "Kyle Busch",
          "Chase Elliott",
          "Brad Keselowsk",
          "Austin Cindric",
          "Tyler Reddick",
          "Bubba Wallace",
          "Ryan Preece",
          "John Hunter Nemechek",
          "Ricky Stenhouse Jr.",
          "Noah Gragson",
          "Joey Logano",
          "Chris Buescher",
          "Erik Jones",
          "Zane Smith",
          "Riley Herbst",
          "Cole Custer",
          "Michael McDowell",
          "Jesse Love",
          "Ty Dillon",
          "Daniel Suarez",
          "Corey LaJoie",
          "Todd Gilliland",
          "Cody Ware",
          "Alex Bowman",
          "Shane Van Gisbergen",
          "Josh Bilick"
         ]
        }
       ],
       "layout": {
        "autosize": true,
        "template": {
         "data": {
          "bar": [
           {
            "error_x": {
             "color": "#2a3f5f"
            },
            "error_y": {
             "color": "#2a3f5f"
            },
            "marker": {
             "line": {
              "color": "#E5ECF6",
              "width": 0.5
             },
             "pattern": {
              "fillmode": "overlay",
              "size": 10,
              "solidity": 0.2
             }
            },
            "type": "bar"
           }
          ],
          "barpolar": [
           {
            "marker": {
             "line": {
              "color": "#E5ECF6",
              "width": 0.5
             },
             "pattern": {
              "fillmode": "overlay",
              "size": 10,
              "solidity": 0.2
             }
            },
            "type": "barpolar"
           }
          ],
          "carpet": [
           {
            "aaxis": {
             "endlinecolor": "#2a3f5f",
             "gridcolor": "white",
             "linecolor": "white",
             "minorgridcolor": "white",
             "startlinecolor": "#2a3f5f"
            },
            "baxis": {
             "endlinecolor": "#2a3f5f",
             "gridcolor": "white",
             "linecolor": "white",
             "minorgridcolor": "white",
             "startlinecolor": "#2a3f5f"
            },
            "type": "carpet"
           }
          ],
          "choropleth": [
           {
            "colorbar": {
             "outlinewidth": 0,
             "ticks": ""
            },
            "type": "choropleth"
           }
          ],
          "contour": [
           {
            "colorbar": {
             "outlinewidth": 0,
             "ticks": ""
            },
            "colorscale": [
             [
              0,
              "#0d0887"
             ],
             [
              0.1111111111111111,
              "#46039f"
             ],
             [
              0.2222222222222222,
              "#7201a8"
             ],
             [
              0.3333333333333333,
              "#9c179e"
             ],
             [
              0.4444444444444444,
              "#bd3786"
             ],
             [
              0.5555555555555556,
              "#d8576b"
             ],
             [
              0.6666666666666666,
              "#ed7953"
             ],
             [
              0.7777777777777778,
              "#fb9f3a"
             ],
             [
              0.8888888888888888,
              "#fdca26"
             ],
             [
              1,
              "#f0f921"
             ]
            ],
            "type": "contour"
           }
          ],
          "contourcarpet": [
           {
            "colorbar": {
             "outlinewidth": 0,
             "ticks": ""
            },
            "type": "contourcarpet"
           }
          ],
          "heatmap": [
           {
            "colorbar": {
             "outlinewidth": 0,
             "ticks": ""
            },
            "colorscale": [
             [
              0,
              "#0d0887"
             ],
             [
              0.1111111111111111,
              "#46039f"
             ],
             [
              0.2222222222222222,
              "#7201a8"
             ],
             [
              0.3333333333333333,
              "#9c179e"
             ],
             [
              0.4444444444444444,
              "#bd3786"
             ],
             [
              0.5555555555555556,
              "#d8576b"
             ],
             [
              0.6666666666666666,
              "#ed7953"
             ],
             [
              0.7777777777777778,
              "#fb9f3a"
             ],
             [
              0.8888888888888888,
              "#fdca26"
             ],
             [
              1,
              "#f0f921"
             ]
            ],
            "type": "heatmap"
           }
          ],
          "histogram": [
           {
            "marker": {
             "pattern": {
              "fillmode": "overlay",
              "size": 10,
              "solidity": 0.2
             }
            },
            "type": "histogram"
           }
          ],
          "histogram2d": [
           {
            "colorbar": {
             "outlinewidth": 0,
             "ticks": ""
            },
            "colorscale": [
             [
              0,
              "#0d0887"
             ],
             [
              0.1111111111111111,
              "#46039f"
             ],
             [
              0.2222222222222222,
              "#7201a8"
             ],
             [
              0.3333333333333333,
              "#9c179e"
             ],
             [
              0.4444444444444444,
              "#bd3786"
             ],
             [
              0.5555555555555556,
              "#d8576b"
             ],
             [
              0.6666666666666666,
              "#ed7953"
             ],
             [
              0.7777777777777778,
              "#fb9f3a"
             ],
             [
              0.8888888888888888,
              "#fdca26"
             ],
             [
              1,
              "#f0f921"
             ]
            ],
            "type": "histogram2d"
           }
          ],
          "histogram2dcontour": [
           {
            "colorbar": {
             "outlinewidth": 0,
             "ticks": ""
            },
            "colorscale": [
             [
              0,
              "#0d0887"
             ],
             [
              0.1111111111111111,
              "#46039f"
             ],
             [
              0.2222222222222222,
              "#7201a8"
             ],
             [
              0.3333333333333333,
              "#9c179e"
             ],
             [
              0.4444444444444444,
              "#bd3786"
             ],
             [
              0.5555555555555556,
              "#d8576b"
             ],
             [
              0.6666666666666666,
              "#ed7953"
             ],
             [
              0.7777777777777778,
              "#fb9f3a"
             ],
             [
              0.8888888888888888,
              "#fdca26"
             ],
             [
              1,
              "#f0f921"
             ]
            ],
            "type": "histogram2dcontour"
           }
          ],
          "mesh3d": [
           {
            "colorbar": {
             "outlinewidth": 0,
             "ticks": ""
            },
            "type": "mesh3d"
           }
          ],
          "parcoords": [
           {
            "line": {
             "colorbar": {
              "outlinewidth": 0,
              "ticks": ""
             }
            },
            "type": "parcoords"
           }
          ],
          "pie": [
           {
            "automargin": true,
            "type": "pie"
           }
          ],
          "scatter": [
           {
            "fillpattern": {
             "fillmode": "overlay",
             "size": 10,
             "solidity": 0.2
            },
            "type": "scatter"
           }
          ],
          "scatter3d": [
           {
            "line": {
             "colorbar": {
              "outlinewidth": 0,
              "ticks": ""
             }
            },
            "marker": {
             "colorbar": {
              "outlinewidth": 0,
              "ticks": ""
             }
            },
            "type": "scatter3d"
           }
          ],
          "scattercarpet": [
           {
            "marker": {
             "colorbar": {
              "outlinewidth": 0,
              "ticks": ""
             }
            },
            "type": "scattercarpet"
           }
          ],
          "scattergeo": [
           {
            "marker": {
             "colorbar": {
              "outlinewidth": 0,
              "ticks": ""
             }
            },
            "type": "scattergeo"
           }
          ],
          "scattergl": [
           {
            "marker": {
             "colorbar": {
              "outlinewidth": 0,
              "ticks": ""
             }
            },
            "type": "scattergl"
           }
          ],
          "scattermap": [
           {
            "marker": {
             "colorbar": {
              "outlinewidth": 0,
              "ticks": ""
             }
            },
            "type": "scattermap"
           }
          ],
          "scattermapbox": [
           {
            "marker": {
             "colorbar": {
              "outlinewidth": 0,
              "ticks": ""
             }
            },
            "type": "scattermapbox"
           }
          ],
          "scatterpolar": [
           {
            "marker": {
             "colorbar": {
              "outlinewidth": 0,
              "ticks": ""
             }
            },
            "type": "scatterpolar"
           }
          ],
          "scatterpolargl": [
           {
            "marker": {
             "colorbar": {
              "outlinewidth": 0,
              "ticks": ""
             }
            },
            "type": "scatterpolargl"
           }
          ],
          "scatterternary": [
           {
            "marker": {
             "colorbar": {
              "outlinewidth": 0,
              "ticks": ""
             }
            },
            "type": "scatterternary"
           }
          ],
          "surface": [
           {
            "colorbar": {
             "outlinewidth": 0,
             "ticks": ""
            },
            "colorscale": [
             [
              0,
              "#0d0887"
             ],
             [
              0.1111111111111111,
              "#46039f"
             ],
             [
              0.2222222222222222,
              "#7201a8"
             ],
             [
              0.3333333333333333,
              "#9c179e"
             ],
             [
              0.4444444444444444,
              "#bd3786"
             ],
             [
              0.5555555555555556,
              "#d8576b"
             ],
             [
              0.6666666666666666,
              "#ed7953"
             ],
             [
              0.7777777777777778,
              "#fb9f3a"
             ],
             [
              0.8888888888888888,
              "#fdca26"
             ],
             [
              1,
              "#f0f921"
             ]
            ],
            "type": "surface"
           }
          ],
          "table": [
           {
            "cells": {
             "fill": {
              "color": "#EBF0F8"
             },
             "line": {
              "color": "white"
             }
            },
            "header": {
             "fill": {
              "color": "#C8D4E3"
             },
             "line": {
              "color": "white"
             }
            },
            "type": "table"
           }
          ]
         },
         "layout": {
          "annotationdefaults": {
           "arrowcolor": "#2a3f5f",
           "arrowhead": 0,
           "arrowwidth": 1
          },
          "autotypenumbers": "strict",
          "coloraxis": {
           "colorbar": {
            "outlinewidth": 0,
            "ticks": ""
           }
          },
          "colorscale": {
           "diverging": [
            [
             0,
             "#8e0152"
            ],
            [
             0.1,
             "#c51b7d"
            ],
            [
             0.2,
             "#de77ae"
            ],
            [
             0.3,
             "#f1b6da"
            ],
            [
             0.4,
             "#fde0ef"
            ],
            [
             0.5,
             "#f7f7f7"
            ],
            [
             0.6,
             "#e6f5d0"
            ],
            [
             0.7,
             "#b8e186"
            ],
            [
             0.8,
             "#7fbc41"
            ],
            [
             0.9,
             "#4d9221"
            ],
            [
             1,
             "#276419"
            ]
           ],
           "sequential": [
            [
             0,
             "#0d0887"
            ],
            [
             0.1111111111111111,
             "#46039f"
            ],
            [
             0.2222222222222222,
             "#7201a8"
            ],
            [
             0.3333333333333333,
             "#9c179e"
            ],
            [
             0.4444444444444444,
             "#bd3786"
            ],
            [
             0.5555555555555556,
             "#d8576b"
            ],
            [
             0.6666666666666666,
             "#ed7953"
            ],
            [
             0.7777777777777778,
             "#fb9f3a"
            ],
            [
             0.8888888888888888,
             "#fdca26"
            ],
            [
             1,
             "#f0f921"
            ]
           ],
           "sequentialminus": [
            [
             0,
             "#0d0887"
            ],
            [
             0.1111111111111111,
             "#46039f"
            ],
            [
             0.2222222222222222,
             "#7201a8"
            ],
            [
             0.3333333333333333,
             "#9c179e"
            ],
            [
             0.4444444444444444,
             "#bd3786"
            ],
            [
             0.5555555555555556,
             "#d8576b"
            ],
            [
             0.6666666666666666,
             "#ed7953"
            ],
            [
             0.7777777777777778,
             "#fb9f3a"
            ],
            [
             0.8888888888888888,
             "#fdca26"
            ],
            [
             1,
             "#f0f921"
            ]
           ]
          },
          "colorway": [
           "#636efa",
           "#EF553B",
           "#00cc96",
           "#ab63fa",
           "#FFA15A",
           "#19d3f3",
           "#FF6692",
           "#B6E880",
           "#FF97FF",
           "#FECB52"
          ],
          "font": {
           "color": "#2a3f5f"
          },
          "geo": {
           "bgcolor": "white",
           "lakecolor": "white",
           "landcolor": "#E5ECF6",
           "showlakes": true,
           "showland": true,
           "subunitcolor": "white"
          },
          "hoverlabel": {
           "align": "left"
          },
          "hovermode": "closest",
          "mapbox": {
           "style": "light"
          },
          "paper_bgcolor": "white",
          "plot_bgcolor": "#E5ECF6",
          "polar": {
           "angularaxis": {
            "gridcolor": "white",
            "linecolor": "white",
            "ticks": ""
           },
           "bgcolor": "#E5ECF6",
           "radialaxis": {
            "gridcolor": "white",
            "linecolor": "white",
            "ticks": ""
           }
          },
          "scene": {
           "xaxis": {
            "backgroundcolor": "#E5ECF6",
            "gridcolor": "white",
            "gridwidth": 2,
            "linecolor": "white",
            "showbackground": true,
            "ticks": "",
            "zerolinecolor": "white"
           },
           "yaxis": {
            "backgroundcolor": "#E5ECF6",
            "gridcolor": "white",
            "gridwidth": 2,
            "linecolor": "white",
            "showbackground": true,
            "ticks": "",
            "zerolinecolor": "white"
           },
           "zaxis": {
            "backgroundcolor": "#E5ECF6",
            "gridcolor": "white",
            "gridwidth": 2,
            "linecolor": "white",
            "showbackground": true,
            "ticks": "",
            "zerolinecolor": "white"
           }
          },
          "shapedefaults": {
           "line": {
            "color": "#2a3f5f"
           }
          },
          "ternary": {
           "aaxis": {
            "gridcolor": "white",
            "linecolor": "white",
            "ticks": ""
           },
           "baxis": {
            "gridcolor": "white",
            "linecolor": "white",
            "ticks": ""
           },
           "bgcolor": "#E5ECF6",
           "caxis": {
            "gridcolor": "white",
            "linecolor": "white",
            "ticks": ""
           }
          },
          "title": {
           "x": 0.05
          },
          "xaxis": {
           "automargin": true,
           "gridcolor": "white",
           "linecolor": "white",
           "ticks": "",
           "title": {
            "standoff": 15
           },
           "zerolinecolor": "white",
           "zerolinewidth": 2
          },
          "yaxis": {
           "automargin": true,
           "gridcolor": "white",
           "linecolor": "white",
           "ticks": "",
           "title": {
            "standoff": 15
           },
           "zerolinecolor": "white",
           "zerolinewidth": 2
          }
         }
        },
        "xaxis": {
         "autorange": true,
         "range": [
          -0.5,
          38.5
         ],
         "rangeslider": {
          "visible": false,
          "yaxis": {}
         },
         "type": "category"
        },
        "yaxis": {
         "autorange": true,
         "range": [
          41.111111111111114,
          -1.1111111111111112
         ]
        }
       }
      },
      "image/png": "[encoded data removed]"
     },
     "metadata": {},
     "output_type": "display_data"
    }
   ],
   "source": [
    "print(df.head())\n",
    "\n",
    "fig = go.Figure(data=go.Ohlc(x=df['driver_name'], open=df['start_pos'], high=df['low_pos'], low=df['high_pos'], close=df['end_pos'], increasing={'line': {'color': 'red'}}, decreasing={'line': {'color': 'green'}}))\n",
    "fig.update(layout_xaxis_rangeslider_visible=False)\n",
    "fig.update_layout(yaxis=dict(autorange=\"reversed\"))\n",
    "fig.show()"
   ]
  },
  {
   "cell_type": "code",
   "execution_count": 42,
   "id": "f949bd07-c731-4e4f-9043-a21e506872ca",
   "metadata": {},
   "outputs": [
    {
     "name": "stdout",
     "output_type": "stream",
     "text": [
      "     driver_name  start_pos  high_pos  low_pos  end_pos  pos_change\n",
      "0    Kyle Larson          3         1       15        1           2\n",
      "1   Denny Hamlin          4         2       18        2           2\n",
      "2       Ty Gibbs          6         3       21        3           3\n",
      "3  Chase Briscoe         14         3       18        4          10\n",
      "4    Ryan Blaney          5         1       14        5           0\n"
     ]
    }
   ],
   "source": [
    "print(df.head())"
   ]
  },
  {
   "cell_type": "code",
   "execution_count": 43,
   "id": "9afed681-57db-4b87-953b-1904f2d41424",
   "metadata": {},
   "outputs": [
    {
     "data": {
      "application/vnd.plotly.v1+json": {
       "config": {
        "plotlyServerURL": "https://plot.ly"
       },
       "data": [
        {
         "hovertemplate": "Driver Starting Position=%{x}<br>Position Change=%{y}<extra></extra>",
         "legendgroup": "",
         "marker": {
          "color": [
           "green",
           "green",
           "green",
           "green",
           "green",
           "green",
           "green",
           "red",
           "red",
           "green",
           "red",
           "red",
           "red",
           "green",
           "green",
           "green",
           "green",
           "green",
           "green",
           "green",
           "green",
           "red",
           "green",
           "green",
           "red",
           "green",
           "red",
           "red",
           "green",
           "red",
           "red",
           "red",
           "red",
           "green",
           "red",
           "red",
           "red",
           "red",
           "green"
          ],
          "pattern": {
           "shape": ""
          }
         },
         "name": "",
         "orientation": "v",
         "showlegend": false,
         "textposition": "auto",
         "type": "bar",
         "x": [
          "Kyle Larson",
          "Denny Hamlin",
          "Ty Gibbs",
          "Chase Briscoe",
          "Ryan Blaney",
          "William Byron",
          "Ross Chastain",
          "Christopher Bell",
          "AJ Allmendinger",
          "Austin Dillon",
          "Carson Hocevar",
          "Josh Berry",
          "Justin Haley",
          "Kyle Busch",
          "Chase Elliott",
          "Brad Keselowsk",
          "Austin Cindric",
          "Tyler Reddick",
          "Bubba Wallace",
          "Ryan Preece",
          "John Hunter Nemechek",
          "Ricky Stenhouse Jr.",
          "Noah Gragson",
          "Joey Logano",
          "Chris Buescher",
          "Erik Jones",
          "Zane Smith",
          "Riley Herbst",
          "Cole Custer",
          "Michael McDowell",
          "Jesse Love",
          "Ty Dillon",
          "Daniel Suarez",
          "Corey LaJoie",
          "Todd Gilliland",
          "Cody Ware",
          "Alex Bowman",
          "Shane Van Gisbergen",
          "Josh Bilick"
         ],
         "xaxis": "x",
         "y": {
          "_inputArray": {
           "0": 2,
           "1": 2,
           "10": -2,
           "11": -1,
           "12": -3,
           "13": 1,
           "14": 5,
           "15": 0,
           "16": 4,
           "17": 9,
           "18": 3,
           "19": 9,
           "2": 3,
           "20": 11,
           "21": -20,
           "22": 8,
           "23": 14,
           "24": -1,
           "25": 2,
           "26": -9,
           "27": -3,
           "28": 4,
           "29": -17,
           "3": 10,
           "30": -12,
           "31": -20,
           "32": -10,
           "33": 3,
           "34": -5,
           "35": -2,
           "36": -30,
           "37": -2,
           "38": 1,
           "4": 0,
           "5": 20,
           "6": 28,
           "7": -1,
           "8": -1,
           "9": 7,
           "bdata": "AgIDCgAUHP//B/7//QEFAAQJAwkL7AgO/wL3/QTv9Oz2A/v+4v4B",
           "dtype": "i1",
           "shape": "39"
          },
          "bdata": "AgIDCgAUHP//B/7//QEFAAQJAwkL7AgO/wL3/QTv9Oz2A/v+4v4B",
          "dtype": "i1"
         },
         "yaxis": "y"
        }
       ],
       "layout": {
        "autosize": true,
        "barmode": "relative",
        "legend": {
         "tracegroupgap": 0
        },
        "paper_bgcolor": "lightgray",
        "plot_bgcolor": "lightgray",
        "shapes": [
         {
          "line": {
           "color": "black",
           "width": 0.5
          },
          "type": "line",
          "x0": 0,
          "x1": 1,
          "xref": "x domain",
          "y0": 0,
          "y1": 0,
          "yref": "y"
         }
        ],
        "template": {
         "data": {
          "bar": [
           {
            "error_x": {
             "color": "#2a3f5f"
            },
            "error_y": {
             "color": "#2a3f5f"
            },
            "marker": {
             "line": {
              "color": "#E5ECF6",
              "width": 0.5
             },
             "pattern": {
              "fillmode": "overlay",
              "size": 10,
              "solidity": 0.2
             }
            },
            "type": "bar"
           }
          ],
          "barpolar": [
           {
            "marker": {
             "line": {
              "color": "#E5ECF6",
              "width": 0.5
             },
             "pattern": {
              "fillmode": "overlay",
              "size": 10,
              "solidity": 0.2
             }
            },
            "type": "barpolar"
           }
          ],
          "carpet": [
           {
            "aaxis": {
             "endlinecolor": "#2a3f5f",
             "gridcolor": "white",
             "linecolor": "white",
             "minorgridcolor": "white",
             "startlinecolor": "#2a3f5f"
            },
            "baxis": {
             "endlinecolor": "#2a3f5f",
             "gridcolor": "white",
             "linecolor": "white",
             "minorgridcolor": "white",
             "startlinecolor": "#2a3f5f"
            },
            "type": "carpet"
           }
          ],
          "choropleth": [
           {
            "colorbar": {
             "outlinewidth": 0,
             "ticks": ""
            },
            "type": "choropleth"
           }
          ],
          "contour": [
           {
            "colorbar": {
             "outlinewidth": 0,
             "ticks": ""
            },
            "colorscale": [
             [
              0,
              "#0d0887"
             ],
             [
              0.1111111111111111,
              "#46039f"
             ],
             [
              0.2222222222222222,
              "#7201a8"
             ],
             [
              0.3333333333333333,
              "#9c179e"
             ],
             [
              0.4444444444444444,
              "#bd3786"
             ],
             [
              0.5555555555555556,
              "#d8576b"
             ],
             [
              0.6666666666666666,
              "#ed7953"
             ],
             [
              0.7777777777777778,
              "#fb9f3a"
             ],
             [
              0.8888888888888888,
              "#fdca26"
             ],
             [
              1,
              "#f0f921"
             ]
            ],
            "type": "contour"
           }
          ],
          "contourcarpet": [
           {
            "colorbar": {
             "outlinewidth": 0,
             "ticks": ""
            },
            "type": "contourcarpet"
           }
          ],
          "heatmap": [
           {
            "colorbar": {
             "outlinewidth": 0,
             "ticks": ""
            },
            "colorscale": [
             [
              0,
              "#0d0887"
             ],
             [
              0.1111111111111111,
              "#46039f"
             ],
             [
              0.2222222222222222,
              "#7201a8"
             ],
             [
              0.3333333333333333,
              "#9c179e"
             ],
             [
              0.4444444444444444,
              "#bd3786"
             ],
             [
              0.5555555555555556,
              "#d8576b"
             ],
             [
              0.6666666666666666,
              "#ed7953"
             ],
             [
              0.7777777777777778,
              "#fb9f3a"
             ],
             [
              0.8888888888888888,
              "#fdca26"
             ],
             [
              1,
              "#f0f921"
             ]
            ],
            "type": "heatmap"
           }
          ],
          "histogram": [
           {
            "marker": {
             "pattern": {
              "fillmode": "overlay",
              "size": 10,
              "solidity": 0.2
             }
            },
            "type": "histogram"
           }
          ],
          "histogram2d": [
           {
            "colorbar": {
             "outlinewidth": 0,
             "ticks": ""
            },
            "colorscale": [
             [
              0,
              "#0d0887"
             ],
             [
              0.1111111111111111,
              "#46039f"
             ],
             [
              0.2222222222222222,
              "#7201a8"
             ],
             [
              0.3333333333333333,
              "#9c179e"
             ],
             [
              0.4444444444444444,
              "#bd3786"
             ],
             [
              0.5555555555555556,
              "#d8576b"
             ],
             [
              0.6666666666666666,
              "#ed7953"
             ],
             [
              0.7777777777777778,
              "#fb9f3a"
             ],
             [
              0.8888888888888888,
              "#fdca26"
             ],
             [
              1,
              "#f0f921"
             ]
            ],
            "type": "histogram2d"
           }
          ],
          "histogram2dcontour": [
           {
            "colorbar": {
             "outlinewidth": 0,
             "ticks": ""
            },
            "colorscale": [
             [
              0,
              "#0d0887"
             ],
             [
              0.1111111111111111,
              "#46039f"
             ],
             [
              0.2222222222222222,
              "#7201a8"
             ],
             [
              0.3333333333333333,
              "#9c179e"
             ],
             [
              0.4444444444444444,
              "#bd3786"
             ],
             [
              0.5555555555555556,
              "#d8576b"
             ],
             [
              0.6666666666666666,
              "#ed7953"
             ],
             [
              0.7777777777777778,
              "#fb9f3a"
             ],
             [
              0.8888888888888888,
              "#fdca26"
             ],
             [
              1,
              "#f0f921"
             ]
            ],
            "type": "histogram2dcontour"
           }
          ],
          "mesh3d": [
           {
            "colorbar": {
             "outlinewidth": 0,
             "ticks": ""
            },
            "type": "mesh3d"
           }
          ],
          "parcoords": [
           {
            "line": {
             "colorbar": {
              "outlinewidth": 0,
              "ticks": ""
             }
            },
            "type": "parcoords"
           }
          ],
          "pie": [
           {
            "automargin": true,
            "type": "pie"
           }
          ],
          "scatter": [
           {
            "fillpattern": {
             "fillmode": "overlay",
             "size": 10,
             "solidity": 0.2
            },
            "type": "scatter"
           }
          ],
          "scatter3d": [
           {
            "line": {
             "colorbar": {
              "outlinewidth": 0,
              "ticks": ""
             }
            },
            "marker": {
             "colorbar": {
              "outlinewidth": 0,
              "ticks": ""
             }
            },
            "type": "scatter3d"
           }
          ],
          "scattercarpet": [
           {
            "marker": {
             "colorbar": {
              "outlinewidth": 0,
              "ticks": ""
             }
            },
            "type": "scattercarpet"
           }
          ],
          "scattergeo": [
           {
            "marker": {
             "colorbar": {
              "outlinewidth": 0,
              "ticks": ""
             }
            },
            "type": "scattergeo"
           }
          ],
          "scattergl": [
           {
            "marker": {
             "colorbar": {
              "outlinewidth": 0,
              "ticks": ""
             }
            },
            "type": "scattergl"
           }
          ],
          "scattermap": [
           {
            "marker": {
             "colorbar": {
              "outlinewidth": 0,
              "ticks": ""
             }
            },
            "type": "scattermap"
           }
          ],
          "scattermapbox": [
           {
            "marker": {
             "colorbar": {
              "outlinewidth": 0,
              "ticks": ""
             }
            },
            "type": "scattermapbox"
           }
          ],
          "scatterpolar": [
           {
            "marker": {
             "colorbar": {
              "outlinewidth": 0,
              "ticks": ""
             }
            },
            "type": "scatterpolar"
           }
          ],
          "scatterpolargl": [
           {
            "marker": {
             "colorbar": {
              "outlinewidth": 0,
              "ticks": ""
             }
            },
            "type": "scatterpolargl"
           }
          ],
          "scatterternary": [
           {
            "marker": {
             "colorbar": {
              "outlinewidth": 0,
              "ticks": ""
             }
            },
            "type": "scatterternary"
           }
          ],
          "surface": [
           {
            "colorbar": {
             "outlinewidth": 0,
             "ticks": ""
            },
            "colorscale": [
             [
              0,
              "#0d0887"
             ],
             [
              0.1111111111111111,
              "#46039f"
             ],
             [
              0.2222222222222222,
              "#7201a8"
             ],
             [
              0.3333333333333333,
              "#9c179e"
             ],
             [
              0.4444444444444444,
              "#bd3786"
             ],
             [
              0.5555555555555556,
              "#d8576b"
             ],
             [
              0.6666666666666666,
              "#ed7953"
             ],
             [
              0.7777777777777778,
              "#fb9f3a"
             ],
             [
              0.8888888888888888,
              "#fdca26"
             ],
             [
              1,
              "#f0f921"
             ]
            ],
            "type": "surface"
           }
          ],
          "table": [
           {
            "cells": {
             "fill": {
              "color": "#EBF0F8"
             },
             "line": {
              "color": "white"
             }
            },
            "header": {
             "fill": {
              "color": "#C8D4E3"
             },
             "line": {
              "color": "white"
             }
            },
            "type": "table"
           }
          ]
         },
         "layout": {
          "annotationdefaults": {
           "arrowcolor": "#2a3f5f",
           "arrowhead": 0,
           "arrowwidth": 1
          },
          "autotypenumbers": "strict",
          "coloraxis": {
           "colorbar": {
            "outlinewidth": 0,
            "ticks": ""
           }
          },
          "colorscale": {
           "diverging": [
            [
             0,
             "#8e0152"
            ],
            [
             0.1,
             "#c51b7d"
            ],
            [
             0.2,
             "#de77ae"
            ],
            [
             0.3,
             "#f1b6da"
            ],
            [
             0.4,
             "#fde0ef"
            ],
            [
             0.5,
             "#f7f7f7"
            ],
            [
             0.6,
             "#e6f5d0"
            ],
            [
             0.7,
             "#b8e186"
            ],
            [
             0.8,
             "#7fbc41"
            ],
            [
             0.9,
             "#4d9221"
            ],
            [
             1,
             "#276419"
            ]
           ],
           "sequential": [
            [
             0,
             "#0d0887"
            ],
            [
             0.1111111111111111,
             "#46039f"
            ],
            [
             0.2222222222222222,
             "#7201a8"
            ],
            [
             0.3333333333333333,
             "#9c179e"
            ],
            [
             0.4444444444444444,
             "#bd3786"
            ],
            [
             0.5555555555555556,
             "#d8576b"
            ],
            [
             0.6666666666666666,
             "#ed7953"
            ],
            [
             0.7777777777777778,
             "#fb9f3a"
            ],
            [
             0.8888888888888888,
             "#fdca26"
            ],
            [
             1,
             "#f0f921"
            ]
           ],
           "sequentialminus": [
            [
             0,
             "#0d0887"
            ],
            [
             0.1111111111111111,
             "#46039f"
            ],
            [
             0.2222222222222222,
             "#7201a8"
            ],
            [
             0.3333333333333333,
             "#9c179e"
            ],
            [
             0.4444444444444444,
             "#bd3786"
            ],
            [
             0.5555555555555556,
             "#d8576b"
            ],
            [
             0.6666666666666666,
             "#ed7953"
            ],
            [
             0.7777777777777778,
             "#fb9f3a"
            ],
            [
             0.8888888888888888,
             "#fdca26"
            ],
            [
             1,
             "#f0f921"
            ]
           ]
          },
          "colorway": [
           "#636efa",
           "#EF553B",
           "#00cc96",
           "#ab63fa",
           "#FFA15A",
           "#19d3f3",
           "#FF6692",
           "#B6E880",
           "#FF97FF",
           "#FECB52"
          ],
          "font": {
           "color": "#2a3f5f"
          },
          "geo": {
           "bgcolor": "white",
           "lakecolor": "white",
           "landcolor": "#E5ECF6",
           "showlakes": true,
           "showland": true,
           "subunitcolor": "white"
          },
          "hoverlabel": {
           "align": "left"
          },
          "hovermode": "closest",
          "mapbox": {
           "style": "light"
          },
          "paper_bgcolor": "white",
          "plot_bgcolor": "#E5ECF6",
          "polar": {
           "angularaxis": {
            "gridcolor": "white",
            "linecolor": "white",
            "ticks": ""
           },
           "bgcolor": "#E5ECF6",
           "radialaxis": {
            "gridcolor": "white",
            "linecolor": "white",
            "ticks": ""
           }
          },
          "scene": {
           "xaxis": {
            "backgroundcolor": "#E5ECF6",
            "gridcolor": "white",
            "gridwidth": 2,
            "linecolor": "white",
            "showbackground": true,
            "ticks": "",
            "zerolinecolor": "white"
           },
           "yaxis": {
            "backgroundcolor": "#E5ECF6",
            "gridcolor": "white",
            "gridwidth": 2,
            "linecolor": "white",
            "showbackground": true,
            "ticks": "",
            "zerolinecolor": "white"
           },
           "zaxis": {
            "backgroundcolor": "#E5ECF6",
            "gridcolor": "white",
            "gridwidth": 2,
            "linecolor": "white",
            "showbackground": true,
            "ticks": "",
            "zerolinecolor": "white"
           }
          },
          "shapedefaults": {
           "line": {
            "color": "#2a3f5f"
           }
          },
          "ternary": {
           "aaxis": {
            "gridcolor": "white",
            "linecolor": "white",
            "ticks": ""
           },
           "baxis": {
            "gridcolor": "white",
            "linecolor": "white",
            "ticks": ""
           },
           "bgcolor": "#E5ECF6",
           "caxis": {
            "gridcolor": "white",
            "linecolor": "white",
            "ticks": ""
           }
          },
          "title": {
           "x": 0.05
          },
          "xaxis": {
           "automargin": true,
           "gridcolor": "white",
           "linecolor": "white",
           "ticks": "",
           "title": {
            "standoff": 15
           },
           "zerolinecolor": "white",
           "zerolinewidth": 2
          },
          "yaxis": {
           "automargin": true,
           "gridcolor": "white",
           "linecolor": "white",
           "ticks": "",
           "title": {
            "standoff": 15
           },
           "zerolinecolor": "white",
           "zerolinewidth": 2
          }
         }
        },
        "title": {
         "text": "Position Change: Start vs Finish -- Food City 500"
        },
        "xaxis": {
         "anchor": "y",
         "autorange": true,
         "domain": [
          0,
          1
         ],
         "range": [
          -0.5,
          38.5
         ],
         "tickangle": -90,
         "title": {
          "text": "Driver Starting Position"
         },
         "type": "category"
        },
        "yaxis": {
         "anchor": "x",
         "autorange": true,
         "domain": [
          0,
          1
         ],
         "dtick": 5,
         "range": [
          -33.22222222222222,
          31.22222222222222
         ],
         "tick0": -30,
         "tickmode": "linear",
         "title": {
          "text": "Position Change"
         },
         "type": "linear"
        }
       }
      },
      "image/png": "[encoded data removed]"
     },
     "metadata": {},
     "output_type": "display_data"
    }
   ],
   "source": [
    "# bar chart start vs finish positions\n",
    "\n",
    "clrs = ['red' if (x < 0) else 'green' for x in df['pos_change'].astype(int) ]\n",
    "\n",
    "\n",
    "\n",
    "fig = px.bar(x=df['driver_name'], y=df['pos_change'], title=\"Position Change: Start vs Finish -- Food City 500\", labels={\"x\": \"Driver Starting Position\", \"y\": \"Position Change\"})\n",
    "fig.update_layout(paper_bgcolor='lightgray', plot_bgcolor='lightgray', yaxis={'tickmode':'linear', 'tick0':-30, 'dtick':5})\n",
    "fig.update_traces(marker_color=clrs)\n",
    "fig.update_xaxes(tickangle=-90)\n",
    "fig.add_hline(y=0, line_width=0.5, line_color=\"black\")\n",
    "fig.show()"
   ]
  },
  {
   "cell_type": "code",
   "execution_count": null,
   "id": "82118325-50b6-4e63-a939-3ddb823a93ad",
   "metadata": {},
   "outputs": [],
   "source": []
  },
  {
   "cell_type": "code",
   "execution_count": null,
   "id": "713f9f03-c61e-4cb6-92e3-d61bd84edb61",
   "metadata": {},
   "outputs": [],
   "source": []
  },
  {
   "cell_type": "code",
   "execution_count": null,
   "id": "39ef7a1b-fd40-41bf-91de-3cba5ff8e314",
   "metadata": {},
   "outputs": [],
   "source": []
  },
  {
   "cell_type": "code",
   "execution_count": null,
   "id": "65602acd-11f3-4db2-813e-85009e5c8824",
   "metadata": {},
   "outputs": [],
   "source": []
  }
 ],
 "metadata": {
  "kernelspec": {
   "display_name": "Python 3 (ipykernel)",
   "language": "python",
   "name": "python3"
  },
  "language_info": {
   "codemirror_mode": {
    "name": "ipython",
    "version": 3
   },
   "file_extension": ".py",
   "mimetype": "text/x-python",
   "name": "python",
   "nbconvert_exporter": "python",
   "pygments_lexer": "ipython3",
   "version": "3.10.12"
  }
 },
 "nbformat": 4,
 "nbformat_minor": 5
}
