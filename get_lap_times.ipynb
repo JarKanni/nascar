{
 "cells": [
  {
   "cell_type": "code",
   "execution_count": 4,
   "id": "8a3ec38d-1b8e-4d85-be2a-29687d24a0e6",
   "metadata": {},
   "outputs": [],
   "source": [
    "import json\n",
    "import pandas as pd"
   ]
  },
  {
   "cell_type": "code",
   "execution_count": 79,
   "id": "3b5a3fb4-b7e3-4a1c-8a6c-0db29e3562d9",
   "metadata": {},
   "outputs": [],
   "source": [
    "driver_id = 32"
   ]
  },
  {
   "cell_type": "code",
   "execution_count": 80,
   "id": "37538c4d-edd7-4dc6-a342-678e506691a4",
   "metadata": {},
   "outputs": [
    {
     "name": "stdout",
     "output_type": "stream",
     "text": [
      "     Lap  LapTime LapSpeed  RunningPos\n",
      "0      0      NaN     None          23\n",
      "1      1   17.131  112.007          26\n",
      "2      2   16.035  119.663          26\n",
      "3      3   15.971  120.143          25\n",
      "4      4   15.931  120.444          24\n",
      "..   ...      ...      ...         ...\n",
      "490  490   16.626  115.410          33\n",
      "491  491   16.252  118.065          33\n",
      "492  492   16.199  118.452          33\n",
      "493  493   16.169  118.672          33\n",
      "494  494   16.344  117.401          33\n",
      "\n",
      "[495 rows x 4 columns]\n"
     ]
    }
   ],
   "source": [
    "# Get data into dataframe\n",
    "with open('lap-times.json', 'r') as f:\n",
    "    data = json.load(f)\n",
    "\n",
    "\n",
    "df = pd.DataFrame(data['laps'][driver_id]['Laps'])\n",
    "\n",
    "print(df)"
   ]
  },
  {
   "cell_type": "code",
   "execution_count": 81,
   "id": "2bbf55f4-99ee-42f5-9626-f27e502145e0",
   "metadata": {},
   "outputs": [
    {
     "name": "stdout",
     "output_type": "stream",
     "text": [
      "Daniel Suarez\n"
     ]
    }
   ],
   "source": [
    "driver_name = pd.DataFrame(data['laps'][driver_id])\n",
    "driver_name = driver_name['FullName'][driver_id]\n",
    "\n",
    "driver_name = driver_name.lstrip('* ').rstrip(' #')\n",
    "\n",
    "print(driver_name)"
   ]
  },
  {
   "cell_type": "code",
   "execution_count": 82,
   "id": "b9e88e41-8115-444d-8d04-a6a28a90bcfa",
   "metadata": {},
   "outputs": [
    {
     "name": "stdout",
     "output_type": "stream",
     "text": [
      "Daniel Suarez.csv\n"
     ]
    }
   ],
   "source": [
    "driver_name = driver_name + '.csv'\n",
    "\n",
    "print(driver_name)\n",
    "df.to_csv(driver_name)"
   ]
  },
  {
   "cell_type": "code",
   "execution_count": null,
   "id": "017f74fa-b9e6-4a53-b3d2-e75105b0b476",
   "metadata": {},
   "outputs": [],
   "source": []
  },
  {
   "cell_type": "code",
   "execution_count": null,
   "id": "e951cd21-e500-442d-80f0-a8b69f51cf65",
   "metadata": {},
   "outputs": [],
   "source": []
  }
 ],
 "metadata": {
  "kernelspec": {
   "display_name": "Python 3 (ipykernel)",
   "language": "python",
   "name": "python3"
  },
  "language_info": {
   "codemirror_mode": {
    "name": "ipython",
    "version": 3
   },
   "file_extension": ".py",
   "mimetype": "text/x-python",
   "name": "python",
   "nbconvert_exporter": "python",
   "pygments_lexer": "ipython3",
   "version": "3.10.12"
  }
 },
 "nbformat": 4,
 "nbformat_minor": 5
}
