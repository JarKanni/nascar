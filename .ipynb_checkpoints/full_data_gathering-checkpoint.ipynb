{
 "cells": [
  {
   "cell_type": "code",
   "execution_count": 1,
   "id": "a39dbb26-f19e-482a-8576-b7f5da443828",
   "metadata": {},
   "outputs": [],
   "source": [
    "import pandas as pd\n",
    "import requests\n",
    "import matplotlib.pyplot as plt\n",
    "import numpy as np\n",
    "import plotly.express as px\n",
    "\n",
    "# force to show all rows and columns\n",
    "pd.set_option('display.max_rows', None)  # Show all rows\n",
    "pd.set_option('display.max_columns', None)  # Show all columns"
   ]
  },
  {
   "cell_type": "code",
   "execution_count": 63,
   "id": "6835eef6-e67a-4c5a-8cfb-96b54556ce7a",
   "metadata": {},
   "outputs": [],
   "source": [
    "# variables to find race and driver, also cut off time to take out yellow flags and pit stop laps\n",
    "race_id = 5550\n",
    "driver_id = 10\n",
    "lap_time_cutoff = 17"
   ]
  },
  {
   "cell_type": "code",
   "execution_count": 64,
   "id": "3a3e79b6-f83e-45db-b77f-eab84df2b354",
   "metadata": {},
   "outputs": [
    {
     "name": "stdout",
     "output_type": "stream",
     "text": [
      "Food City 500 @ Bristol Motor Speedway\n"
     ]
    }
   ],
   "source": [
    "# Find race name and location\n",
    "\n",
    "url = 'https://cf.nascar.com/cacher/2025/race_list_basic.json'\n",
    "json = requests.get(url).json()\n",
    "race = pd.json_normalize(json['series_1'])\n",
    "race = race[['race_id', 'track_name', 'race_name']].set_index('race_id')\n",
    "race = race.loc[race_id]\n",
    "location = race.values[0]\n",
    "name = race.values[1]\n",
    "race = name + ' @ ' + location\n",
    "\n",
    "print(race)"
   ]
  },
  {
   "cell_type": "code",
   "execution_count": 65,
   "id": "a1238c45-2aa1-44ac-bb59-0b727012a1a8",
   "metadata": {},
   "outputs": [
    {
     "name": "stdout",
     "output_type": "stream",
     "text": [
      "   Number               FullName Manufacturer  NASCARDriverID\n",
      "0       5            Kyle Larson          Chv            4030\n",
      "1      11           Denny Hamlin          Tyt            1361\n",
      "2      54               Ty Gibbs          Tyt            4368\n",
      "3      19          Chase Briscoe          Tyt            4228\n",
      "4      12            Ryan Blaney          Frd            4023\n",
      "5      24          William Byron          Chv            4184\n",
      "6       1          Ross Chastain          Chv            4001\n",
      "7      20       Christopher Bell          Tyt            4153\n",
      "8      16        AJ Allmendinger          Chv            3774\n",
      "9       3          Austin Dillon          Chv            3873\n",
      "10     77         Carson Hocevar          Chv            4326\n",
      "11     21             Josh Berry          Frd            4123\n",
      "12      7           Justin Haley          Chv            4172\n",
      "13      8             Kyle Busch          Chv             454\n",
      "14      9          Chase Elliott          Chv            4062\n",
      "15      6        Brad Keselowski          Frd            1816\n",
      "16      2         Austin Cindric          Frd            4180\n",
      "17     45          Tyler Reddick          Tyt            4065\n",
      "18     23          Bubba Wallace          Tyt            4025\n",
      "19     60            Ryan Preece          Frd            4070\n",
      "20     42   John Hunter Nemechek          Tyt            4092\n",
      "21     47    Ricky Stenhouse Jr.          Chv            3888\n",
      "22      4           Noah Gragson          Frd            4224\n",
      "23     22            Joey Logano          Frd            3859\n",
      "24     17         Chris Buescher          Frd            3989\n",
      "25     43             Erik Jones          Tyt            4059\n",
      "26     38             Zane Smith          Frd            4272\n",
      "27     35         Riley Herbst #          Tyt            4269\n",
      "28     41            Cole Custer          Frd            4104\n",
      "29     71       Michael McDowell          Chv            3832\n",
      "30     33        * Jesse Love(i)          Chv            4463\n",
      "31     10              Ty Dillon          Chv            4013\n",
      "32     99          Daniel Suarez          Chv            4113\n",
      "33     01         * Corey LaJoie          Frd            4096\n",
      "34     34         Todd Gilliland          Frd            4231\n",
      "35     51              Cody Ware          Frd            4125\n",
      "36     48            Alex Bowman          Chv            4045\n",
      "37     88  Shane Van Gisbergen #          Chv            4469\n",
      "38     66      * Josh Bilicki(i)          Frd            4213\n"
     ]
    }
   ],
   "source": [
    "# Find driver info by index number (ex: Suarez is 17)\n",
    "url = f'https://cf.nascar.com/cacher/2025/1/{race_id}/lap-times.json'\n",
    "json = requests.get(url).json()\n",
    "driver = pd.json_normalize(json['laps'])\n",
    "\n",
    "print(driver[['Number','FullName','Manufacturer','NASCARDriverID']])"
   ]
  },
  {
   "cell_type": "code",
   "execution_count": 66,
   "id": "de0175cf-e8d6-4737-8c84-2498c7627b4a",
   "metadata": {},
   "outputs": [
    {
     "name": "stdout",
     "output_type": "stream",
     "text": [
      "Carson Hocevar\n",
      "Food City 500 @ Bristol Motor Speedway\n"
     ]
    }
   ],
   "source": [
    "# Find driver name by index\n",
    "# race is Bristol Food City 500\n",
    "\n",
    "\n",
    "url = f'https://cf.nascar.com/cacher/2025/1/{race_id}/lap-times.json'\n",
    "json = requests.get(url).json()\n",
    "\n",
    "race_laps = pd.json_normalize(json['laps'][driver_id]['Laps'])\n",
    "race_laps_filtered = race_laps[race_laps['LapTime'] < lap_time_cutoff]\n",
    "\n",
    "driver = pd.json_normalize(json['laps'][driver_id])\n",
    "driver = driver['FullName'].iloc[0]\n",
    "\n",
    "\n",
    "print(driver)\n",
    "print(race)"
   ]
  },
  {
   "cell_type": "code",
   "execution_count": 67,
   "id": "850faf0e-d06e-47d5-8912-7c23ed0ddc54",
   "metadata": {},
   "outputs": [
    {
     "name": "stdout",
     "output_type": "stream",
     "text": [
      "    Lap  LapTime LapSpeed  RunningPos\n",
      "1     1   16.455  116.609          10\n",
      "2     2   15.753  121.805           9\n",
      "3     3   15.838  121.152           9\n",
      "4     4   15.875  120.869           9\n",
      "5     5   15.944  120.346           9\n",
      "6     6   16.000  119.925           8\n",
      "7     7   16.101  119.173           8\n",
      "8     8   16.008  119.865           8\n",
      "9     9   16.087  119.276           7\n",
      "10   10   16.149  118.819           7\n"
     ]
    }
   ],
   "source": [
    "print(race_laps_filtered.head(10))"
   ]
  },
  {
   "cell_type": "code",
   "execution_count": 75,
   "id": "9369c15f-2b26-4b46-8935-5420674838ff",
   "metadata": {},
   "outputs": [
    {
     "name": "stdout",
     "output_type": "stream",
     "text": [
      "Carson Hocevar, Food City 500 @ Bristol Motor Speedway\n",
      "Min Lap:  15.5\n",
      "Ave Lap:  15.9433\n",
      "Max Lap:  16.557 \n",
      "\n",
      "Averages:\n",
      " LapTime        15.9433\n",
      "LapSpeed      120.3670\n",
      "RunningPos      6.8945\n",
      "dtype: float64 \n",
      "\n",
      "\n",
      "Started: P-9 \n",
      "Ended: P-11\n"
     ]
    }
   ],
   "source": [
    "# driver laps\n",
    "# take out yellow flag laps by lap_time_cutoff\n",
    "# post fixed averages\n",
    "\n",
    "start_pos = race_laps['RunningPos'].head(1).to_numpy()\n",
    "start_pos = start_pos[0]\n",
    "end_pos = race_laps['RunningPos'].tail(1).to_numpy()\n",
    "end_pos = end_pos[0]\n",
    "\n",
    "print(driver + ', ' + race)\n",
    "print('Min Lap: ', race_laps_filtered['LapTime'].min())\n",
    "print('Ave Lap: ', round(race_laps_filtered['LapTime'].astype(float).mean(), 4))\n",
    "print('Max Lap: ', race_laps_filtered['LapTime'].max(), '\\n')\n",
    "print('Averages:\\n', round(race_laps_filtered[['LapTime','LapSpeed','RunningPos']].astype(float).mean(), 4), '\\n\\n')\n",
    "print(f'Started: P-{start_pos} \\nEnded: P-{end_pos}')"
   ]
  },
  {
   "cell_type": "markdown",
   "id": "aa8b7221-c432-4bc7-bbdc-66b996652b62",
   "metadata": {},
   "source": [
    "## plotly chart: tire degredation with cleaned lap data"
   ]
  },
  {
   "cell_type": "code",
   "execution_count": 69,
   "id": "2a7ab0a0-a579-4d1e-8388-9a1fdd6e4f14",
   "metadata": {},
   "outputs": [
    {
     "data": {
      "application/vnd.plotly.v1+json": {
       "config": {
        "plotlyServerURL": "https://plot.ly"
       },
       "data": [
        {
         "hovertemplate": "Lap=%{x}<br>Laptime=%{y}<extra></extra>",
         "legendgroup": "",
         "marker": {
          "color": "blue",
          "symbol": "circle"
         },
         "mode": "markers",
         "name": "",
         "orientation": "v",
         "showlegend": false,
         "type": "scatter",
         "x": {
          "_inputArray": {
           "0": 1,
           "1": 2,
           "10": 11,
           "100": 101,
           "101": 102,
           "102": 103,
           "103": 104,
           "104": 105,
           "105": 106,
           "106": 107,
           "107": 108,
           "108": 109,
           "109": 110,
           "11": 12,
           "110": 111,
           "111": 112,
           "112": 113,
           "113": 114,
           "114": 115,
           "115": 116,
           "116": 117,
           "117": 118,
           "118": 119,
           "119": 120,
           "12": 13,
           "120": 121,
           "121": 122,
           "122": 123,
           "123": 124,
           "124": 125,
           "125": 143,
           "126": 144,
           "127": 145,
           "128": 146,
           "129": 147,
           "13": 14,
           "130": 148,
           "131": 149,
           "132": 150,
           "133": 151,
           "134": 152,
           "135": 153,
           "136": 154,
           "137": 155,
           "138": 156,
           "139": 157,
           "14": 15,
           "140": 158,
           "141": 159,
           "142": 160,
           "143": 161,
           "144": 162,
           "145": 163,
           "146": 164,
           "147": 165,
           "148": 166,
           "149": 167,
           "15": 16,
           "150": 168,
           "151": 169,
           "152": 170,
           "153": 171,
           "154": 172,
           "155": 173,
           "156": 174,
           "157": 175,
           "158": 176,
           "159": 177,
           "16": 17,
           "160": 189,
           "161": 190,
           "162": 191,
           "163": 192,
           "164": 193,
           "165": 194,
           "166": 195,
           "167": 196,
           "168": 197,
           "169": 198,
           "17": 18,
           "170": 199,
           "171": 200,
           "172": 201,
           "173": 202,
           "174": 203,
           "175": 204,
           "176": 205,
           "177": 206,
           "178": 207,
           "179": 208,
           "18": 19,
           "180": 209,
           "181": 210,
           "182": 211,
           "183": 212,
           "184": 213,
           "185": 214,
           "186": 215,
           "187": 216,
           "188": 217,
           "189": 218,
           "19": 20,
           "190": 219,
           "191": 220,
           "192": 221,
           "193": 222,
           "194": 223,
           "195": 224,
           "196": 225,
           "197": 226,
           "198": 227,
           "199": 228,
           "2": 3,
           "20": 21,
           "200": 229,
           "201": 230,
           "202": 231,
           "203": 232,
           "204": 233,
           "205": 234,
           "206": 235,
           "207": 236,
           "208": 237,
           "209": 238,
           "21": 22,
           "210": 239,
           "211": 240,
           "212": 241,
           "213": 242,
           "214": 243,
           "215": 244,
           "216": 245,
           "217": 246,
           "218": 247,
           "219": 248,
           "22": 23,
           "220": 249,
           "221": 250,
           "222": 266,
           "223": 267,
           "224": 268,
           "225": 269,
           "226": 270,
           "227": 271,
           "228": 272,
           "229": 273,
           "23": 24,
           "230": 274,
           "231": 275,
           "232": 276,
           "233": 277,
           "234": 278,
           "235": 279,
           "236": 280,
           "237": 281,
           "238": 282,
           "239": 283,
           "24": 25,
           "240": 284,
           "241": 285,
           "242": 286,
           "243": 287,
           "244": 288,
           "245": 289,
           "246": 290,
           "247": 291,
           "248": 292,
           "249": 293,
           "25": 26,
           "250": 294,
           "251": 295,
           "252": 296,
           "253": 297,
           "254": 298,
           "255": 299,
           "256": 300,
           "257": 301,
           "258": 302,
           "259": 303,
           "26": 27,
           "260": 304,
           "261": 305,
           "262": 306,
           "263": 307,
           "264": 308,
           "265": 309,
           "266": 310,
           "267": 311,
           "268": 312,
           "269": 313,
           "27": 28,
           "270": 314,
           "271": 315,
           "272": 316,
           "273": 317,
           "274": 318,
           "275": 319,
           "276": 320,
           "277": 321,
           "278": 322,
           "279": 323,
           "28": 29,
           "280": 324,
           "281": 325,
           "282": 326,
           "283": 327,
           "284": 328,
           "285": 329,
           "286": 330,
           "287": 331,
           "288": 332,
           "289": 333,
           "29": 30,
           "290": 334,
           "291": 335,
           "292": 336,
           "293": 337,
           "294": 338,
           "295": 339,
           "296": 340,
           "297": 341,
           "298": 342,
           "299": 343,
           "3": 4,
           "30": 31,
           "300": 344,
           "301": 345,
           "302": 346,
           "303": 347,
           "304": 348,
           "305": 349,
           "306": 350,
           "307": 351,
           "308": 352,
           "309": 353,
           "31": 32,
           "310": 354,
           "311": 355,
           "312": 356,
           "313": 357,
           "314": 358,
           "315": 359,
           "316": 360,
           "317": 361,
           "318": 362,
           "319": 363,
           "32": 33,
           "320": 364,
           "321": 365,
           "322": 366,
           "323": 367,
           "324": 368,
           "325": 369,
           "326": 370,
           "327": 371,
           "328": 372,
           "329": 373,
           "33": 34,
           "330": 374,
           "331": 375,
           "332": 376,
           "333": 377,
           "334": 378,
           "335": 379,
           "336": 380,
           "337": 381,
           "338": 382,
           "339": 383,
           "34": 35,
           "340": 384,
           "341": 385,
           "342": 386,
           "343": 387,
           "344": 388,
           "345": 389,
           "346": 390,
           "347": 391,
           "348": 393,
           "349": 394,
           "35": 36,
           "350": 395,
           "351": 396,
           "352": 397,
           "353": 398,
           "354": 399,
           "355": 400,
           "356": 401,
           "357": 402,
           "358": 403,
           "359": 404,
           "36": 37,
           "360": 405,
           "361": 406,
           "362": 407,
           "363": 408,
           "364": 409,
           "365": 410,
           "366": 411,
           "367": 412,
           "368": 413,
           "369": 414,
           "37": 38,
           "370": 415,
           "371": 416,
           "372": 417,
           "373": 418,
           "374": 419,
           "375": 420,
           "376": 421,
           "377": 422,
           "378": 423,
           "379": 424,
           "38": 39,
           "380": 425,
           "381": 426,
           "382": 427,
           "383": 428,
           "384": 429,
           "385": 430,
           "386": 431,
           "387": 432,
           "388": 433,
           "389": 434,
           "39": 40,
           "390": 435,
           "391": 436,
           "392": 437,
           "393": 438,
           "394": 439,
           "395": 440,
           "396": 441,
           "397": 442,
           "398": 443,
           "399": 444,
           "4": 5,
           "40": 41,
           "400": 445,
           "401": 446,
           "402": 447,
           "403": 448,
           "404": 449,
           "405": 450,
           "406": 451,
           "407": 452,
           "408": 453,
           "409": 454,
           "41": 42,
           "410": 455,
           "411": 456,
           "412": 457,
           "413": 458,
           "414": 459,
           "415": 460,
           "416": 461,
           "417": 462,
           "418": 463,
           "419": 464,
           "42": 43,
           "420": 465,
           "421": 466,
           "422": 467,
           "423": 468,
           "424": 469,
           "425": 470,
           "426": 471,
           "427": 472,
           "428": 473,
           "429": 474,
           "43": 44,
           "430": 475,
           "431": 476,
           "432": 477,
           "433": 478,
           "434": 479,
           "435": 480,
           "436": 481,
           "437": 482,
           "438": 483,
           "439": 484,
           "44": 45,
           "440": 485,
           "441": 486,
           "442": 487,
           "443": 488,
           "444": 489,
           "445": 490,
           "446": 491,
           "447": 492,
           "448": 493,
           "449": 494,
           "45": 46,
           "450": 495,
           "451": 496,
           "452": 497,
           "453": 498,
           "454": 499,
           "46": 47,
           "47": 48,
           "48": 49,
           "49": 50,
           "5": 6,
           "50": 51,
           "51": 52,
           "52": 53,
           "53": 54,
           "54": 55,
           "55": 56,
           "56": 57,
           "57": 58,
           "58": 59,
           "59": 60,
           "6": 7,
           "60": 61,
           "61": 62,
           "62": 63,
           "63": 64,
           "64": 65,
           "65": 66,
           "66": 67,
           "67": 68,
           "68": 69,
           "69": 70,
           "7": 8,
           "70": 71,
           "71": 72,
           "72": 73,
           "73": 74,
           "74": 75,
           "75": 76,
           "76": 77,
           "77": 78,
           "78": 79,
           "79": 80,
           "8": 9,
           "80": 81,
           "81": 82,
           "82": 83,
           "83": 84,
           "84": 85,
           "85": 86,
           "86": 87,
           "87": 88,
           "88": 89,
           "89": 90,
           "9": 10,
           "90": 91,
           "91": 92,
           "92": 93,
           "93": 94,
           "94": 95,
           "95": 96,
           "96": 97,
           "97": 98,
           "98": 99,
           "99": 100,
           "bdata": "AQACAAMABAAFAAYABwAIAAkACgALAAwADQAOAA8AEAARABIAEwAUABUAFgAXABgAGQAaABsAHAAdAB4AHwAgACEAIgAjACQAJQAmACcAKAApACoAKwAsAC0ALgAvADAAMQAyADMANAA1ADYANwA4ADkAOgA7ADwAPQA+AD8AQABBAEIAQwBEAEUARgBHAEgASQBKAEsATABNAE4ATwBQAFEAUgBTAFQAVQBWAFcAWABZAFoAWwBcAF0AXgBfAGAAYQBiAGMAZABlAGYAZwBoAGkAagBrAGwAbQBuAG8AcABxAHIAcwB0AHUAdgB3AHgAeQB6AHsAfAB9AI8AkACRAJIAkwCUAJUAlgCXAJgAmQCaAJsAnACdAJ4AnwCgAKEAogCjAKQApQCmAKcAqACpAKoAqwCsAK0ArgCvALAAsQC9AL4AvwDAAMEAwgDDAMQAxQDGAMcAyADJAMoAywDMAM0AzgDPANAA0QDSANMA1ADVANYA1wDYANkA2gDbANwA3QDeAN8A4ADhAOIA4wDkAOUA5gDnAOgA6QDqAOsA7ADtAO4A7wDwAPEA8gDzAPQA9QD2APcA+AD5APoACgELAQwBDQEOAQ8BEAERARIBEwEUARUBFgEXARgBGQEaARsBHAEdAR4BHwEgASEBIgEjASQBJQEmAScBKAEpASoBKwEsAS0BLgEvATABMQEyATMBNAE1ATYBNwE4ATkBOgE7ATwBPQE+AT8BQAFBAUIBQwFEAUUBRgFHAUgBSQFKAUsBTAFNAU4BTwFQAVEBUgFTAVQBVQFWAVcBWAFZAVoBWwFcAV0BXgFfAWABYQFiAWMBZAFlAWYBZwFoAWkBagFrAWwBbQFuAW8BcAFxAXIBcwF0AXUBdgF3AXgBeQF6AXsBfAF9AX4BfwGAAYEBggGDAYQBhQGGAYcBiQGKAYsBjAGNAY4BjwGQAZEBkgGTAZQBlQGWAZcBmAGZAZoBmwGcAZ0BngGfAaABoQGiAaMBpAGlAaYBpwGoAakBqgGrAawBrQGuAa8BsAGxAbIBswG0AbUBtgG3AbgBuQG6AbsBvAG9Ab4BvwHAAcEBwgHDAcQBxQHGAccByAHJAcoBywHMAc0BzgHPAdAB0QHSAdMB1AHVAdYB1wHYAdkB2gHbAdwB3QHeAd8B4AHhAeIB4wHkAeUB5gHnAegB6QHqAesB7AHtAe4B7wHwAfEB8gHzAQ==",
           "dtype": "i2",
           "shape": "455"
          },
          "bdata": "AQACAAMABAAFAAYABwAIAAkACgALAAwADQAOAA8AEAARABIAEwAUABUAFgAXABgAGQAaABsAHAAdAB4AHwAgACEAIgAjACQAJQAmACcAKAApACoAKwAsAC0ALgAvADAAMQAyADMANAA1ADYANwA4ADkAOgA7ADwAPQA+AD8AQABBAEIAQwBEAEUARgBHAEgASQBKAEsATABNAE4ATwBQAFEAUgBTAFQAVQBWAFcAWABZAFoAWwBcAF0AXgBfAGAAYQBiAGMAZABlAGYAZwBoAGkAagBrAGwAbQBuAG8AcABxAHIAcwB0AHUAdgB3AHgAeQB6AHsAfAB9AI8AkACRAJIAkwCUAJUAlgCXAJgAmQCaAJsAnACdAJ4AnwCgAKEAogCjAKQApQCmAKcAqACpAKoAqwCsAK0ArgCvALAAsQC9AL4AvwDAAMEAwgDDAMQAxQDGAMcAyADJAMoAywDMAM0AzgDPANAA0QDSANMA1ADVANYA1wDYANkA2gDbANwA3QDeAN8A4ADhAOIA4wDkAOUA5gDnAOgA6QDqAOsA7ADtAO4A7wDwAPEA8gDzAPQA9QD2APcA+AD5APoACgELAQwBDQEOAQ8BEAERARIBEwEUARUBFgEXARgBGQEaARsBHAEdAR4BHwEgASEBIgEjASQBJQEmAScBKAEpASoBKwEsAS0BLgEvATABMQEyATMBNAE1ATYBNwE4ATkBOgE7ATwBPQE+AT8BQAFBAUIBQwFEAUUBRgFHAUgBSQFKAUsBTAFNAU4BTwFQAVEBUgFTAVQBVQFWAVcBWAFZAVoBWwFcAV0BXgFfAWABYQFiAWMBZAFlAWYBZwFoAWkBagFrAWwBbQFuAW8BcAFxAXIBcwF0AXUBdgF3AXgBeQF6AXsBfAF9AX4BfwGAAYEBggGDAYQBhQGGAYcBiQGKAYsBjAGNAY4BjwGQAZEBkgGTAZQBlQGWAZcBmAGZAZoBmwGcAZ0BngGfAaABoQGiAaMBpAGlAaYBpwGoAakBqgGrAawBrQGuAa8BsAGxAbIBswG0AbUBtgG3AbgBuQG6AbsBvAG9Ab4BvwHAAcEBwgHDAcQBxQHGAccByAHJAcoBywHMAc0BzgHPAdAB0QHSAdMB1AHVAdYB1wHYAdkB2gHbAdwB3QHeAd8B4AHhAeIB4wHkAeUB5gHnAegB6QHqAesB7AHtAe4B7wHwAfEB8gHzAQ==",
          "dtype": "i2"
         },
         "xaxis": "x",
         "y": {
          "_inputArray": {
           "0": 16.455,
           "1": 15.753,
           "10": 16.172,
           "100": 15.935,
           "101": 16.089,
           "102": 15.964,
           "103": 16.199,
           "104": 16.101,
           "105": 15.993,
           "106": 15.88,
           "107": 15.754,
           "108": 15.922,
           "109": 16.013,
           "11": 16.249,
           "110": 15.902,
           "111": 15.867,
           "112": 15.922,
           "113": 15.985,
           "114": 15.89,
           "115": 16.032,
           "116": 15.951,
           "117": 15.872,
           "118": 15.991,
           "119": 15.958,
           "12": 16.299,
           "120": 16.002,
           "121": 15.889,
           "122": 15.956,
           "123": 15.963,
           "124": 16.117,
           "125": 16.024,
           "126": 15.547,
           "127": 15.764,
           "128": 15.901,
           "129": 15.69,
           "13": 16.359,
           "130": 15.795,
           "131": 15.759,
           "132": 15.782,
           "133": 15.739,
           "134": 15.865,
           "135": 15.914,
           "136": 15.837,
           "137": 15.819,
           "138": 15.698,
           "139": 15.797,
           "14": 16.337,
           "140": 15.74,
           "141": 15.829,
           "142": 15.746,
           "143": 15.771,
           "144": 15.679,
           "145": 15.803,
           "146": 15.831,
           "147": 15.742,
           "148": 15.809,
           "149": 15.847,
           "15": 16.352,
           "150": 15.867,
           "151": 15.829,
           "152": 15.842,
           "153": 15.702,
           "154": 15.83,
           "155": 15.726,
           "156": 15.835,
           "157": 15.849,
           "158": 15.867,
           "159": 15.943,
           "16": 16.413,
           "160": 16.204,
           "161": 15.781,
           "162": 15.824,
           "163": 15.655,
           "164": 15.644,
           "165": 15.584,
           "166": 15.555,
           "167": 15.554,
           "168": 15.762,
           "169": 15.697,
           "17": 16.471,
           "170": 15.749,
           "171": 15.736,
           "172": 15.707,
           "173": 15.734,
           "174": 15.796,
           "175": 15.807,
           "176": 15.779,
           "177": 15.736,
           "178": 15.73,
           "179": 15.69,
           "18": 16.493,
           "180": 15.941,
           "181": 15.81,
           "182": 15.785,
           "183": 15.78,
           "184": 15.782,
           "185": 15.815,
           "186": 15.779,
           "187": 15.776,
           "188": 15.832,
           "189": 15.774,
           "19": 16.477,
           "190": 15.815,
           "191": 15.817,
           "192": 15.821,
           "193": 15.841,
           "194": 15.918,
           "195": 15.778,
           "196": 16.067,
           "197": 15.976,
           "198": 16.136,
           "199": 15.928,
           "2": 15.838,
           "20": 16.509,
           "200": 15.793,
           "201": 15.979,
           "202": 15.851,
           "203": 15.864,
           "204": 15.9,
           "205": 15.933,
           "206": 15.929,
           "207": 16.035,
           "208": 15.863,
           "209": 16.063,
           "21": 16.498,
           "210": 16.094,
           "211": 15.892,
           "212": 15.84,
           "213": 16.008,
           "214": 15.849,
           "215": 15.962,
           "216": 15.883,
           "217": 15.896,
           "218": 16.009,
           "219": 15.93,
           "22": 16.428,
           "220": 16.076,
           "221": 16.121,
           "222": 16.145,
           "223": 15.665,
           "224": 15.851,
           "225": 15.673,
           "226": 15.587,
           "227": 15.512,
           "228": 15.636,
           "229": 15.634,
           "23": 16.525,
           "230": 15.662,
           "231": 15.795,
           "232": 15.868,
           "233": 15.883,
           "234": 15.852,
           "235": 15.873,
           "236": 15.842,
           "237": 15.763,
           "238": 15.837,
           "239": 15.845,
           "24": 16.514,
           "240": 15.872,
           "241": 15.91,
           "242": 16.002,
           "243": 15.868,
           "244": 15.802,
           "245": 15.769,
           "246": 15.814,
           "247": 15.822,
           "248": 15.759,
           "249": 15.844,
           "25": 16.557,
           "250": 15.842,
           "251": 15.829,
           "252": 15.741,
           "253": 15.762,
           "254": 15.758,
           "255": 15.878,
           "256": 15.844,
           "257": 15.868,
           "258": 15.837,
           "259": 15.861,
           "26": 16.338,
           "260": 15.84,
           "261": 15.807,
           "262": 15.974,
           "263": 15.91,
           "264": 15.918,
           "265": 15.947,
           "266": 15.928,
           "267": 16.047,
           "268": 15.987,
           "269": 16.027,
           "27": 16.489,
           "270": 16.012,
           "271": 15.985,
           "272": 15.907,
           "273": 15.94,
           "274": 15.795,
           "275": 15.782,
           "276": 15.969,
           "277": 15.901,
           "278": 15.87,
           "279": 15.932,
           "28": 16.368,
           "280": 15.925,
           "281": 16.09,
           "282": 16.148,
           "283": 16.235,
           "284": 15.945,
           "285": 15.911,
           "286": 15.978,
           "287": 15.879,
           "288": 15.945,
           "289": 16.038,
           "29": 16.425,
           "290": 16.115,
           "291": 16.007,
           "292": 15.94,
           "293": 15.877,
           "294": 15.957,
           "295": 15.888,
           "296": 15.983,
           "297": 15.957,
           "298": 16.065,
           "299": 15.908,
           "3": 15.875,
           "30": 16.434,
           "300": 15.82,
           "301": 15.825,
           "302": 15.871,
           "303": 15.987,
           "304": 15.715,
           "305": 15.859,
           "306": 16.137,
           "307": 15.976,
           "308": 15.961,
           "309": 15.862,
           "31": 16.4,
           "310": 15.798,
           "311": 15.858,
           "312": 15.931,
           "313": 15.845,
           "314": 16.193,
           "315": 16.195,
           "316": 15.859,
           "317": 15.878,
           "318": 15.854,
           "319": 15.804,
           "32": 16.425,
           "320": 16.061,
           "321": 16.02,
           "322": 15.997,
           "323": 15.827,
           "324": 15.887,
           "325": 15.911,
           "326": 15.81,
           "327": 15.827,
           "328": 15.985,
           "329": 15.792,
           "33": 16.325,
           "330": 15.864,
           "331": 15.956,
           "332": 15.823,
           "333": 15.891,
           "334": 16.15,
           "335": 15.89,
           "336": 15.849,
           "337": 15.882,
           "338": 15.867,
           "339": 15.852,
           "34": 16.42,
           "340": 15.864,
           "341": 15.982,
           "342": 15.896,
           "343": 15.877,
           "344": 15.857,
           "345": 16.013,
           "346": 16.087,
           "347": 16.116,
           "348": 15.882,
           "349": 15.837,
           "35": 16.325,
           "350": 15.569,
           "351": 15.579,
           "352": 15.59,
           "353": 15.663,
           "354": 15.559,
           "355": 15.5,
           "356": 15.674,
           "357": 15.675,
           "358": 15.739,
           "359": 15.674,
           "36": 16.415,
           "360": 15.668,
           "361": 15.82,
           "362": 15.757,
           "363": 15.789,
           "364": 15.765,
           "365": 15.832,
           "366": 15.813,
           "367": 15.953,
           "368": 16.008,
           "369": 15.962,
           "37": 16.35,
           "370": 15.893,
           "371": 15.894,
           "372": 15.925,
           "373": 15.928,
           "374": 15.976,
           "375": 15.841,
           "376": 15.853,
           "377": 15.899,
           "378": 15.835,
           "379": 15.843,
           "38": 16.392,
           "380": 15.9,
           "381": 15.888,
           "382": 15.881,
           "383": 15.943,
           "384": 15.937,
           "385": 16.035,
           "386": 16.011,
           "387": 15.919,
           "388": 15.881,
           "389": 15.875,
           "39": 16.232,
           "390": 15.885,
           "391": 15.978,
           "392": 15.994,
           "393": 16.099,
           "394": 16.01,
           "395": 15.878,
           "396": 16.042,
           "397": 15.975,
           "398": 15.84,
           "399": 15.947,
           "4": 15.944,
           "40": 16.081,
           "400": 15.886,
           "401": 15.836,
           "402": 15.904,
           "403": 16.029,
           "404": 16.057,
           "405": 16.039,
           "406": 16.146,
           "407": 16.362,
           "408": 15.967,
           "409": 15.901,
           "41": 16.135,
           "410": 15.874,
           "411": 15.918,
           "412": 15.908,
           "413": 15.882,
           "414": 16.023,
           "415": 15.916,
           "416": 15.905,
           "417": 16.018,
           "418": 15.91,
           "419": 15.981,
           "42": 16.098,
           "420": 15.986,
           "421": 15.883,
           "422": 15.913,
           "423": 15.899,
           "424": 16.075,
           "425": 15.836,
           "426": 15.933,
           "427": 16.012,
           "428": 16.053,
           "429": 15.991,
           "43": 16.351,
           "430": 16.002,
           "431": 15.93,
           "432": 15.828,
           "433": 15.845,
           "434": 16.095,
           "435": 16.004,
           "436": 16.133,
           "437": 16.034,
           "438": 16.019,
           "439": 16.009,
           "44": 16.21,
           "440": 16.034,
           "441": 16.169,
           "442": 16.053,
           "443": 16.11,
           "444": 16.091,
           "445": 16.079,
           "446": 16.109,
           "447": 16.111,
           "448": 15.977,
           "449": 16.129,
           "45": 16.19,
           "450": 16.223,
           "451": 15.941,
           "452": 15.902,
           "453": 16.051,
           "454": 16.025,
           "46": 16.331,
           "47": 16.29,
           "48": 16.157,
           "49": 16.054,
           "5": 16,
           "50": 15.979,
           "51": 15.968,
           "52": 15.965,
           "53": 15.959,
           "54": 15.926,
           "55": 15.878,
           "56": 15.856,
           "57": 15.839,
           "58": 15.82,
           "59": 15.956,
           "6": 16.101,
           "60": 16.062,
           "61": 15.818,
           "62": 15.863,
           "63": 15.961,
           "64": 15.932,
           "65": 15.993,
           "66": 16.04,
           "67": 16.034,
           "68": 16.024,
           "69": 15.992,
           "7": 16.008,
           "70": 15.993,
           "71": 16.12,
           "72": 15.978,
           "73": 15.99,
           "74": 15.885,
           "75": 15.929,
           "76": 15.912,
           "77": 15.952,
           "78": 15.889,
           "79": 15.893,
           "8": 16.087,
           "80": 15.945,
           "81": 15.897,
           "82": 15.982,
           "83": 16.131,
           "84": 15.991,
           "85": 15.938,
           "86": 15.991,
           "87": 15.982,
           "88": 15.978,
           "89": 16.003,
           "9": 16.149,
           "90": 16.154,
           "91": 16.02,
           "92": 15.907,
           "93": 15.866,
           "94": 15.907,
           "95": 15.951,
           "96": 15.97,
           "97": 16.177,
           "98": 16.146,
           "99": 15.952,
           "bdata": "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",
           "dtype": "f8",
           "shape": "455"
          },
          "bdata": "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",
          "dtype": "f8"
         },
         "yaxis": "y"
        },
        {
         "hovertemplate": "<b>Rolling mean trendline</b><br><br>Lap=%{x}<br>Laptime=%{y} <b>(trend)</b><extra></extra>",
         "legendgroup": "",
         "line": {
          "color": "red"
         },
         "marker": {
          "color": "blue",
          "symbol": "circle"
         },
         "mode": "lines",
         "name": "",
         "showlegend": false,
         "type": "scatter",
         "x": {
          "_inputArray": {
           "0": 1,
           "1": 2,
           "10": 11,
           "100": 101,
           "101": 102,
           "102": 103,
           "103": 104,
           "104": 105,
           "105": 106,
           "106": 107,
           "107": 108,
           "108": 109,
           "109": 110,
           "11": 12,
           "110": 111,
           "111": 112,
           "112": 113,
           "113": 114,
           "114": 115,
           "115": 116,
           "116": 117,
           "117": 118,
           "118": 119,
           "119": 120,
           "12": 13,
           "120": 121,
           "121": 122,
           "122": 123,
           "123": 124,
           "124": 125,
           "125": 143,
           "126": 144,
           "127": 145,
           "128": 146,
           "129": 147,
           "13": 14,
           "130": 148,
           "131": 149,
           "132": 150,
           "133": 151,
           "134": 152,
           "135": 153,
           "136": 154,
           "137": 155,
           "138": 156,
           "139": 157,
           "14": 15,
           "140": 158,
           "141": 159,
           "142": 160,
           "143": 161,
           "144": 162,
           "145": 163,
           "146": 164,
           "147": 165,
           "148": 166,
           "149": 167,
           "15": 16,
           "150": 168,
           "151": 169,
           "152": 170,
           "153": 171,
           "154": 172,
           "155": 173,
           "156": 174,
           "157": 175,
           "158": 176,
           "159": 177,
           "16": 17,
           "160": 189,
           "161": 190,
           "162": 191,
           "163": 192,
           "164": 193,
           "165": 194,
           "166": 195,
           "167": 196,
           "168": 197,
           "169": 198,
           "17": 18,
           "170": 199,
           "171": 200,
           "172": 201,
           "173": 202,
           "174": 203,
           "175": 204,
           "176": 205,
           "177": 206,
           "178": 207,
           "179": 208,
           "18": 19,
           "180": 209,
           "181": 210,
           "182": 211,
           "183": 212,
           "184": 213,
           "185": 214,
           "186": 215,
           "187": 216,
           "188": 217,
           "189": 218,
           "19": 20,
           "190": 219,
           "191": 220,
           "192": 221,
           "193": 222,
           "194": 223,
           "195": 224,
           "196": 225,
           "197": 226,
           "198": 227,
           "199": 228,
           "2": 3,
           "20": 21,
           "200": 229,
           "201": 230,
           "202": 231,
           "203": 232,
           "204": 233,
           "205": 234,
           "206": 235,
           "207": 236,
           "208": 237,
           "209": 238,
           "21": 22,
           "210": 239,
           "211": 240,
           "212": 241,
           "213": 242,
           "214": 243,
           "215": 244,
           "216": 245,
           "217": 246,
           "218": 247,
           "219": 248,
           "22": 23,
           "220": 249,
           "221": 250,
           "222": 266,
           "223": 267,
           "224": 268,
           "225": 269,
           "226": 270,
           "227": 271,
           "228": 272,
           "229": 273,
           "23": 24,
           "230": 274,
           "231": 275,
           "232": 276,
           "233": 277,
           "234": 278,
           "235": 279,
           "236": 280,
           "237": 281,
           "238": 282,
           "239": 283,
           "24": 25,
           "240": 284,
           "241": 285,
           "242": 286,
           "243": 287,
           "244": 288,
           "245": 289,
           "246": 290,
           "247": 291,
           "248": 292,
           "249": 293,
           "25": 26,
           "250": 294,
           "251": 295,
           "252": 296,
           "253": 297,
           "254": 298,
           "255": 299,
           "256": 300,
           "257": 301,
           "258": 302,
           "259": 303,
           "26": 27,
           "260": 304,
           "261": 305,
           "262": 306,
           "263": 307,
           "264": 308,
           "265": 309,
           "266": 310,
           "267": 311,
           "268": 312,
           "269": 313,
           "27": 28,
           "270": 314,
           "271": 315,
           "272": 316,
           "273": 317,
           "274": 318,
           "275": 319,
           "276": 320,
           "277": 321,
           "278": 322,
           "279": 323,
           "28": 29,
           "280": 324,
           "281": 325,
           "282": 326,
           "283": 327,
           "284": 328,
           "285": 329,
           "286": 330,
           "287": 331,
           "288": 332,
           "289": 333,
           "29": 30,
           "290": 334,
           "291": 335,
           "292": 336,
           "293": 337,
           "294": 338,
           "295": 339,
           "296": 340,
           "297": 341,
           "298": 342,
           "299": 343,
           "3": 4,
           "30": 31,
           "300": 344,
           "301": 345,
           "302": 346,
           "303": 347,
           "304": 348,
           "305": 349,
           "306": 350,
           "307": 351,
           "308": 352,
           "309": 353,
           "31": 32,
           "310": 354,
           "311": 355,
           "312": 356,
           "313": 357,
           "314": 358,
           "315": 359,
           "316": 360,
           "317": 361,
           "318": 362,
           "319": 363,
           "32": 33,
           "320": 364,
           "321": 365,
           "322": 366,
           "323": 367,
           "324": 368,
           "325": 369,
           "326": 370,
           "327": 371,
           "328": 372,
           "329": 373,
           "33": 34,
           "330": 374,
           "331": 375,
           "332": 376,
           "333": 377,
           "334": 378,
           "335": 379,
           "336": 380,
           "337": 381,
           "338": 382,
           "339": 383,
           "34": 35,
           "340": 384,
           "341": 385,
           "342": 386,
           "343": 387,
           "344": 388,
           "345": 389,
           "346": 390,
           "347": 391,
           "348": 393,
           "349": 394,
           "35": 36,
           "350": 395,
           "351": 396,
           "352": 397,
           "353": 398,
           "354": 399,
           "355": 400,
           "356": 401,
           "357": 402,
           "358": 403,
           "359": 404,
           "36": 37,
           "360": 405,
           "361": 406,
           "362": 407,
           "363": 408,
           "364": 409,
           "365": 410,
           "366": 411,
           "367": 412,
           "368": 413,
           "369": 414,
           "37": 38,
           "370": 415,
           "371": 416,
           "372": 417,
           "373": 418,
           "374": 419,
           "375": 420,
           "376": 421,
           "377": 422,
           "378": 423,
           "379": 424,
           "38": 39,
           "380": 425,
           "381": 426,
           "382": 427,
           "383": 428,
           "384": 429,
           "385": 430,
           "386": 431,
           "387": 432,
           "388": 433,
           "389": 434,
           "39": 40,
           "390": 435,
           "391": 436,
           "392": 437,
           "393": 438,
           "394": 439,
           "395": 440,
           "396": 441,
           "397": 442,
           "398": 443,
           "399": 444,
           "4": 5,
           "40": 41,
           "400": 445,
           "401": 446,
           "402": 447,
           "403": 448,
           "404": 449,
           "405": 450,
           "406": 451,
           "407": 452,
           "408": 453,
           "409": 454,
           "41": 42,
           "410": 455,
           "411": 456,
           "412": 457,
           "413": 458,
           "414": 459,
           "415": 460,
           "416": 461,
           "417": 462,
           "418": 463,
           "419": 464,
           "42": 43,
           "420": 465,
           "421": 466,
           "422": 467,
           "423": 468,
           "424": 469,
           "425": 470,
           "426": 471,
           "427": 472,
           "428": 473,
           "429": 474,
           "43": 44,
           "430": 475,
           "431": 476,
           "432": 477,
           "433": 478,
           "434": 479,
           "435": 480,
           "436": 481,
           "437": 482,
           "438": 483,
           "439": 484,
           "44": 45,
           "440": 485,
           "441": 486,
           "442": 487,
           "443": 488,
           "444": 489,
           "445": 490,
           "446": 491,
           "447": 492,
           "448": 493,
           "449": 494,
           "45": 46,
           "450": 495,
           "451": 496,
           "452": 497,
           "453": 498,
           "454": 499,
           "46": 47,
           "47": 48,
           "48": 49,
           "49": 50,
           "5": 6,
           "50": 51,
           "51": 52,
           "52": 53,
           "53": 54,
           "54": 55,
           "55": 56,
           "56": 57,
           "57": 58,
           "58": 59,
           "59": 60,
           "6": 7,
           "60": 61,
           "61": 62,
           "62": 63,
           "63": 64,
           "64": 65,
           "65": 66,
           "66": 67,
           "67": 68,
           "68": 69,
           "69": 70,
           "7": 8,
           "70": 71,
           "71": 72,
           "72": 73,
           "73": 74,
           "74": 75,
           "75": 76,
           "76": 77,
           "77": 78,
           "78": 79,
           "79": 80,
           "8": 9,
           "80": 81,
           "81": 82,
           "82": 83,
           "83": 84,
           "84": 85,
           "85": 86,
           "86": 87,
           "87": 88,
           "88": 89,
           "89": 90,
           "9": 10,
           "90": 91,
           "91": 92,
           "92": 93,
           "93": 94,
           "94": 95,
           "95": 96,
           "96": 97,
           "97": 98,
           "98": 99,
           "99": 100,
           "bdata": "AQACAAMABAAFAAYABwAIAAkACgALAAwADQAOAA8AEAARABIAEwAUABUAFgAXABgAGQAaABsAHAAdAB4AHwAgACEAIgAjACQAJQAmACcAKAApACoAKwAsAC0ALgAvADAAMQAyADMANAA1ADYANwA4ADkAOgA7ADwAPQA+AD8AQABBAEIAQwBEAEUARgBHAEgASQBKAEsATABNAE4ATwBQAFEAUgBTAFQAVQBWAFcAWABZAFoAWwBcAF0AXgBfAGAAYQBiAGMAZABlAGYAZwBoAGkAagBrAGwAbQBuAG8AcABxAHIAcwB0AHUAdgB3AHgAeQB6AHsAfAB9AI8AkACRAJIAkwCUAJUAlgCXAJgAmQCaAJsAnACdAJ4AnwCgAKEAogCjAKQApQCmAKcAqACpAKoAqwCsAK0ArgCvALAAsQC9AL4AvwDAAMEAwgDDAMQAxQDGAMcAyADJAMoAywDMAM0AzgDPANAA0QDSANMA1ADVANYA1wDYANkA2gDbANwA3QDeAN8A4ADhAOIA4wDkAOUA5gDnAOgA6QDqAOsA7ADtAO4A7wDwAPEA8gDzAPQA9QD2APcA+AD5APoACgELAQwBDQEOAQ8BEAERARIBEwEUARUBFgEXARgBGQEaARsBHAEdAR4BHwEgASEBIgEjASQBJQEmAScBKAEpASoBKwEsAS0BLgEvATABMQEyATMBNAE1ATYBNwE4ATkBOgE7ATwBPQE+AT8BQAFBAUIBQwFEAUUBRgFHAUgBSQFKAUsBTAFNAU4BTwFQAVEBUgFTAVQBVQFWAVcBWAFZAVoBWwFcAV0BXgFfAWABYQFiAWMBZAFlAWYBZwFoAWkBagFrAWwBbQFuAW8BcAFxAXIBcwF0AXUBdgF3AXgBeQF6AXsBfAF9AX4BfwGAAYEBggGDAYQBhQGGAYcBiQGKAYsBjAGNAY4BjwGQAZEBkgGTAZQBlQGWAZcBmAGZAZoBmwGcAZ0BngGfAaABoQGiAaMBpAGlAaYBpwGoAakBqgGrAawBrQGuAa8BsAGxAbIBswG0AbUBtgG3AbgBuQG6AbsBvAG9Ab4BvwHAAcEBwgHDAcQBxQHGAccByAHJAcoBywHMAc0BzgHPAdAB0QHSAdMB1AHVAdYB1wHYAdkB2gHbAdwB3QHeAd8B4AHhAeIB4wHkAeUB5gHnAegB6QHqAesB7AHtAe4B7wHwAfEB8gHzAQ==",
           "dtype": "i2",
           "shape": "455"
          },
          "bdata": "AQACAAMABAAFAAYABwAIAAkACgALAAwADQAOAA8AEAARABIAEwAUABUAFgAXABgAGQAaABsAHAAdAB4AHwAgACEAIgAjACQAJQAmACcAKAApACoAKwAsAC0ALgAvADAAMQAyADMANAA1ADYANwA4ADkAOgA7ADwAPQA+AD8AQABBAEIAQwBEAEUARgBHAEgASQBKAEsATABNAE4ATwBQAFEAUgBTAFQAVQBWAFcAWABZAFoAWwBcAF0AXgBfAGAAYQBiAGMAZABlAGYAZwBoAGkAagBrAGwAbQBuAG8AcABxAHIAcwB0AHUAdgB3AHgAeQB6AHsAfAB9AI8AkACRAJIAkwCUAJUAlgCXAJgAmQCaAJsAnACdAJ4AnwCgAKEAogCjAKQApQCmAKcAqACpAKoAqwCsAK0ArgCvALAAsQC9AL4AvwDAAMEAwgDDAMQAxQDGAMcAyADJAMoAywDMAM0AzgDPANAA0QDSANMA1ADVANYA1wDYANkA2gDbANwA3QDeAN8A4ADhAOIA4wDkAOUA5gDnAOgA6QDqAOsA7ADtAO4A7wDwAPEA8gDzAPQA9QD2APcA+AD5APoACgELAQwBDQEOAQ8BEAERARIBEwEUARUBFgEXARgBGQEaARsBHAEdAR4BHwEgASEBIgEjASQBJQEmAScBKAEpASoBKwEsAS0BLgEvATABMQEyATMBNAE1ATYBNwE4ATkBOgE7ATwBPQE+AT8BQAFBAUIBQwFEAUUBRgFHAUgBSQFKAUsBTAFNAU4BTwFQAVEBUgFTAVQBVQFWAVcBWAFZAVoBWwFcAV0BXgFfAWABYQFiAWMBZAFlAWYBZwFoAWkBagFrAWwBbQFuAW8BcAFxAXIBcwF0AXUBdgF3AXgBeQF6AXsBfAF9AX4BfwGAAYEBggGDAYQBhQGGAYcBiQGKAYsBjAGNAY4BjwGQAZEBkgGTAZQBlQGWAZcBmAGZAZoBmwGcAZ0BngGfAaABoQGiAaMBpAGlAaYBpwGoAakBqgGrAawBrQGuAa8BsAGxAbIBswG0AbUBtgG3AbgBuQG6AbsBvAG9Ab4BvwHAAcEBwgHDAcQBxQHGAccByAHJAcoBywHMAc0BzgHPAdAB0QHSAdMB1AHVAdYB1wHYAdkB2gHbAdwB3QHeAd8B4AHhAeIB4wHkAeUB5gHnAegB6QHqAesB7AHtAe4B7wHwAfEB8gHzAQ==",
          "dtype": "i2"
         },
         "xaxis": "x",
         "y": {
          "_inputArray": {
           "0": null,
           "1": null,
           "10": 16.136,
           "100": 16.011,
           "101": 15.991999999999999,
           "102": 15.996000000000002,
           "103": 16.084,
           "104": 16.088,
           "105": 16.09766666666667,
           "106": 15.991333333333335,
           "107": 15.875666666666667,
           "108": 15.851999999999999,
           "109": 15.896333333333336,
           "11": 16.189999999999998,
           "110": 15.945666666666668,
           "111": 15.927333333333335,
           "112": 15.897,
           "113": 15.924666666666667,
           "114": 15.932333333333334,
           "115": 15.969000000000001,
           "116": 15.957666666666668,
           "117": 15.951666666666668,
           "118": 15.938000000000002,
           "119": 15.940333333333335,
           "12": 16.24,
           "120": 15.98366666666667,
           "121": 15.949666666666667,
           "122": 15.949000000000003,
           "123": 15.936000000000002,
           "124": 16.012,
           "125": 16.034666666666666,
           "126": 15.896000000000003,
           "127": 15.778333333333336,
           "128": 15.737333333333334,
           "129": 15.785000000000002,
           "13": 16.302333333333333,
           "130": 15.795333333333334,
           "131": 15.748,
           "132": 15.778666666666668,
           "133": 15.76,
           "134": 15.795333333333334,
           "135": 15.839333333333334,
           "136": 15.872,
           "137": 15.856666666666667,
           "138": 15.784666666666668,
           "139": 15.771333333333336,
           "14": 16.331666666666667,
           "140": 15.745,
           "141": 15.788666666666666,
           "142": 15.771666666666668,
           "143": 15.782000000000002,
           "144": 15.732000000000001,
           "145": 15.751,
           "146": 15.771,
           "147": 15.792000000000002,
           "148": 15.794000000000002,
           "149": 15.799333333333335,
           "15": 16.349333333333334,
           "150": 15.841000000000001,
           "151": 15.847666666666669,
           "152": 15.846000000000002,
           "153": 15.791000000000002,
           "154": 15.791333333333334,
           "155": 15.75266666666667,
           "156": 15.797000000000002,
           "157": 15.803333333333336,
           "158": 15.850333333333333,
           "159": 15.886333333333335,
           "16": 16.367333333333335,
           "160": 16.00466666666667,
           "161": 15.976,
           "162": 15.936333333333335,
           "163": 15.753333333333336,
           "164": 15.707666666666668,
           "165": 15.627666666666668,
           "166": 15.594333333333333,
           "167": 15.564333333333336,
           "168": 15.623666666666667,
           "169": 15.671000000000001,
           "17": 16.412000000000003,
           "170": 15.735999999999999,
           "171": 15.727333333333334,
           "172": 15.73066666666667,
           "173": 15.725666666666669,
           "174": 15.745666666666667,
           "175": 15.779000000000002,
           "176": 15.794000000000002,
           "177": 15.774000000000001,
           "178": 15.748333333333335,
           "179": 15.71866666666667,
           "18": 16.459,
           "180": 15.787,
           "181": 15.813666666666668,
           "182": 15.845333333333336,
           "183": 15.791666666666666,
           "184": 15.782333333333334,
           "185": 15.792333333333334,
           "186": 15.792000000000002,
           "187": 15.790000000000001,
           "188": 15.79566666666667,
           "189": 15.794000000000002,
           "19": 16.480333333333334,
           "190": 15.807000000000002,
           "191": 15.802000000000001,
           "192": 15.817666666666668,
           "193": 15.826333333333336,
           "194": 15.860000000000001,
           "195": 15.845666666666668,
           "196": 15.921000000000001,
           "197": 15.940333333333335,
           "198": 16.05966666666667,
           "199": 16.013333333333335,
           "2": 16.015333333333334,
           "20": 16.493,
           "200": 15.952333333333334,
           "201": 15.9,
           "202": 15.874333333333333,
           "203": 15.898000000000001,
           "204": 15.871666666666668,
           "205": 15.899000000000001,
           "206": 15.920666666666667,
           "207": 15.965666666666666,
           "208": 15.942333333333332,
           "209": 15.987,
           "21": 16.494666666666667,
           "210": 16.006666666666664,
           "211": 16.016333333333332,
           "212": 15.942,
           "213": 15.913333333333332,
           "214": 15.899000000000001,
           "215": 15.939666666666668,
           "216": 15.898000000000001,
           "217": 15.913666666666666,
           "218": 15.929333333333332,
           "219": 15.945,
           "22": 16.478333333333335,
           "220": 16.005,
           "221": 16.042333333333332,
           "222": 16.114,
           "223": 15.976999999999999,
           "224": 15.887,
           "225": 15.729666666666667,
           "226": 15.703666666666669,
           "227": 15.59066666666667,
           "228": 15.578333333333333,
           "229": 15.594,
           "23": 16.483666666666668,
           "230": 15.644,
           "231": 15.697000000000001,
           "232": 15.775,
           "233": 15.848666666666666,
           "234": 15.867666666666667,
           "235": 15.869333333333332,
           "236": 15.855666666666666,
           "237": 15.825999999999999,
           "238": 15.814,
           "239": 15.815,
           "24": 16.489,
           "240": 15.851333333333335,
           "241": 15.875666666666667,
           "242": 15.927999999999999,
           "243": 15.926666666666668,
           "244": 15.890666666666666,
           "245": 15.813,
           "246": 15.795,
           "247": 15.801666666666668,
           "248": 15.798333333333332,
           "249": 15.808333333333332,
           "25": 16.532,
           "250": 15.815,
           "251": 15.838333333333333,
           "252": 15.804,
           "253": 15.777333333333333,
           "254": 15.753666666666666,
           "255": 15.799333333333331,
           "256": 15.826666666666666,
           "257": 15.863333333333335,
           "258": 15.849666666666666,
           "259": 15.855333333333334,
           "26": 16.469666666666665,
           "260": 15.845999999999998,
           "261": 15.836,
           "262": 15.873666666666667,
           "263": 15.897,
           "264": 15.934,
           "265": 15.924999999999999,
           "266": 15.931,
           "267": 15.973999999999998,
           "268": 15.987333333333334,
           "269": 16.020333333333333,
           "27": 16.461333333333332,
           "270": 16.008666666666667,
           "271": 16.008,
           "272": 15.967999999999998,
           "273": 15.944,
           "274": 15.880666666666665,
           "275": 15.838999999999999,
           "276": 15.848666666666666,
           "277": 15.884,
           "278": 15.913333333333332,
           "279": 15.900999999999998,
           "28": 16.39833333333333,
           "280": 15.909,
           "281": 15.982333333333335,
           "282": 16.054333333333332,
           "283": 16.157666666666668,
           "284": 16.109333333333332,
           "285": 16.03033333333333,
           "286": 15.944666666666665,
           "287": 15.922666666666665,
           "288": 15.933999999999997,
           "289": 15.953999999999999,
           "29": 16.427333333333333,
           "290": 16.032666666666668,
           "291": 16.05333333333333,
           "292": 16.020666666666667,
           "293": 15.941333333333333,
           "294": 15.924666666666667,
           "295": 15.907333333333334,
           "296": 15.942666666666666,
           "297": 15.942666666666666,
           "298": 16.00166666666667,
           "299": 15.976666666666667,
           "3": 15.822000000000001,
           "30": 16.409000000000002,
           "300": 15.931,
           "301": 15.850999999999999,
           "302": 15.838666666666667,
           "303": 15.894333333333334,
           "304": 15.857666666666667,
           "305": 15.853666666666667,
           "306": 15.903666666666666,
           "307": 15.990666666666668,
           "308": 16.024666666666665,
           "309": 15.933,
           "31": 16.419666666666668,
           "310": 15.873666666666667,
           "311": 15.839333333333334,
           "312": 15.862333333333332,
           "313": 15.878,
           "314": 15.989666666666666,
           "315": 16.07766666666667,
           "316": 16.082333333333334,
           "317": 15.977333333333334,
           "318": 15.863666666666667,
           "319": 15.845333333333334,
           "32": 16.419666666666668,
           "320": 15.90633333333333,
           "321": 15.961666666666666,
           "322": 16.026,
           "323": 15.947999999999999,
           "324": 15.903666666666666,
           "325": 15.875,
           "326": 15.869333333333335,
           "327": 15.849333333333334,
           "328": 15.874,
           "329": 15.868,
           "33": 16.383333333333336,
           "330": 15.880333333333333,
           "331": 15.870666666666667,
           "332": 15.881,
           "333": 15.89,
           "334": 15.954666666666666,
           "335": 15.976999999999999,
           "336": 15.963,
           "337": 15.873666666666667,
           "338": 15.866,
           "339": 15.866999999999999,
           "34": 16.39,
           "340": 15.861000000000002,
           "341": 15.899333333333333,
           "342": 15.914000000000001,
           "343": 15.918333333333331,
           "344": 15.876666666666665,
           "345": 15.915666666666667,
           "346": 15.985666666666667,
           "347": 16.072,
           "348": 16.028333333333332,
           "349": 15.945,
           "35": 16.356666666666666,
           "350": 15.762666666666666,
           "351": 15.661666666666667,
           "352": 15.579333333333333,
           "353": 15.610666666666667,
           "354": 15.604,
           "355": 15.574,
           "356": 15.577666666666666,
           "357": 15.616333333333335,
           "358": 15.696,
           "359": 15.696,
           "36": 16.386666666666667,
           "360": 15.693666666666665,
           "361": 15.720666666666666,
           "362": 15.748333333333335,
           "363": 15.788666666666666,
           "364": 15.770333333333333,
           "365": 15.795333333333334,
           "366": 15.803333333333333,
           "367": 15.866,
           "368": 15.924666666666667,
           "369": 15.974333333333334,
           "37": 16.363333333333333,
           "370": 15.954333333333333,
           "371": 15.916333333333334,
           "372": 15.904000000000002,
           "373": 15.915666666666667,
           "374": 15.943000000000003,
           "375": 15.915,
           "376": 15.89,
           "377": 15.864333333333333,
           "378": 15.862333333333332,
           "379": 15.859,
           "38": 16.385666666666665,
           "380": 15.859333333333334,
           "381": 15.877,
           "382": 15.889666666666669,
           "383": 15.904000000000002,
           "384": 15.920333333333334,
           "385": 15.971666666666666,
           "386": 15.994333333333332,
           "387": 15.988333333333335,
           "388": 15.936999999999998,
           "389": 15.891666666666666,
           "39": 16.32466666666667,
           "390": 15.880333333333333,
           "391": 15.912666666666667,
           "392": 15.952333333333334,
           "393": 16.023666666666667,
           "394": 16.034333333333333,
           "395": 15.995666666666665,
           "396": 15.976666666666667,
           "397": 15.964999999999998,
           "398": 15.952333333333334,
           "399": 15.920666666666664,
           "4": 15.885666666666665,
           "40": 16.235,
           "400": 15.890999999999998,
           "401": 15.889666666666665,
           "402": 15.87533333333333,
           "403": 15.923,
           "404": 15.996666666666664,
           "405": 16.041666666666668,
           "406": 16.080666666666666,
           "407": 16.182333333333332,
           "408": 16.158333333333335,
           "409": 16.076666666666664,
           "41": 16.149333333333335,
           "410": 15.914,
           "411": 15.897666666666666,
           "412": 15.899999999999999,
           "413": 15.902666666666667,
           "414": 15.937666666666665,
           "415": 15.940333333333333,
           "416": 15.947999999999999,
           "417": 15.946333333333333,
           "418": 15.944333333333333,
           "419": 15.969666666666663,
           "42": 16.10466666666667,
           "420": 15.958999999999998,
           "421": 15.949999999999998,
           "422": 15.92733333333333,
           "423": 15.898333333333332,
           "424": 15.962333333333328,
           "425": 15.936666666666666,
           "426": 15.947999999999999,
           "427": 15.926999999999998,
           "428": 15.999333333333333,
           "429": 16.018666666666665,
           "43": 16.194666666666667,
           "430": 16.01533333333333,
           "431": 15.974333333333332,
           "432": 15.919999999999996,
           "433": 15.867666666666665,
           "434": 15.922666666666665,
           "435": 15.981333333333332,
           "436": 16.077333333333332,
           "437": 16.057,
           "438": 16.061999999999998,
           "439": 16.020666666666667,
           "44": 16.219666666666665,
           "440": 16.020666666666667,
           "441": 16.070666666666664,
           "442": 16.085333333333335,
           "443": 16.110666666666663,
           "444": 16.084666666666667,
           "445": 16.093333333333334,
           "446": 16.093,
           "447": 16.099666666666668,
           "448": 16.06566666666667,
           "449": 16.072333333333333,
           "45": 16.250333333333334,
           "450": 16.109666666666666,
           "451": 16.097666666666665,
           "452": 16.022000000000002,
           "453": 15.964666666666664,
           "454": 15.992666666666665,
           "46": 16.24366666666667,
           "47": 16.27033333333333,
           "48": 16.259333333333334,
           "49": 16.167,
           "5": 15.939666666666668,
           "50": 16.063333333333333,
           "51": 16.000333333333334,
           "52": 15.970666666666666,
           "53": 15.963999999999999,
           "54": 15.950000000000001,
           "55": 15.921,
           "56": 15.886666666666665,
           "57": 15.857666666666667,
           "58": 15.838333333333333,
           "59": 15.871666666666668,
           "6": 16.015,
           "60": 15.946,
           "61": 15.945333333333332,
           "62": 15.914333333333332,
           "63": 15.880666666666665,
           "64": 15.918666666666667,
           "65": 15.962000000000002,
           "66": 15.988333333333335,
           "67": 16.022333333333332,
           "68": 16.032666666666668,
           "69": 16.016666666666666,
           "7": 16.03633333333333,
           "70": 16.003000000000004,
           "71": 16.035,
           "72": 16.03033333333333,
           "73": 16.029333333333334,
           "74": 15.950999999999999,
           "75": 15.934666666666665,
           "76": 15.908666666666667,
           "77": 15.931,
           "78": 15.917666666666667,
           "79": 15.911333333333332,
           "8": 16.06533333333333,
           "80": 15.908999999999999,
           "81": 15.911666666666667,
           "82": 15.941333333333333,
           "83": 16.003333333333334,
           "84": 16.034666666666666,
           "85": 16.02,
           "86": 15.973333333333334,
           "87": 15.970333333333334,
           "88": 15.983666666666664,
           "89": 15.987666666666664,
           "9": 16.081333333333333,
           "90": 16.044999999999998,
           "91": 16.058999999999997,
           "92": 16.026999999999997,
           "93": 15.931,
           "94": 15.893333333333333,
           "95": 15.908000000000001,
           "96": 15.942666666666668,
           "97": 16.032666666666668,
           "98": 16.09766666666667,
           "99": 16.09166666666667,
           "bdata": "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",
           "dtype": "f8",
           "shape": "455"
          },
          "bdata": "AAAAAAAA+H8AAAAAAAD4f5E0peLsAzBAv58aL92kL0A4+/AZdsUvQAjzRP0b4S9ApHA9CtcDMEDcay4kTQkwQF0Bcq+5EDBAyL3mQtIUMECJQWDl0CIwQHA9CtejMDBAPQrXo3A9MEBHKKO3ZU0wQLWBThvoVDBAwBHK6G1ZMEC4Za2OCV4wQLfz/dR4aTBAL90kBoF1MEBo2BUg93owQJHtfD81fjBAMsGDeaJ+MEDbQKcNdHowQKl/I5TRezBAd76fGi99MEDVeOkmMYgwQMtaHRM8eDBAqTj78Bl2MEDFkl8s+WUwQEcoo7dlbTBAYxBYObRoMED/jVBGb2swQP+NUEZvazBAIyIiIiJiMECkcD0K12MwQBvotIFOWzBAY8kvlvxiMECdNtBpA10wQJx9+Ay7YjBAR2/LWh1TMEBcj8L1KDwwQI3elrU6JjBAj1BGb8saMEBl9Las1TEwQMtaHRM8ODBA7cNn2BVAMEBsdUzwYD4wQHGvuZA0RTBA6W1Zq2NCMECYbhKDwCowQNBpA502EDBA7cNn2BUAMEAkTak4+/AvQCCwcmiR7S9AZ2ZmZmbmL0BkO99PjdcvQMWSXyz5xS9AxGfYFSC3L0BtoNMGOq0vQH+x5BdLvi9AMQisHFrkL0B9+Ay7AuQvQGCeqH8j1C9AdQXIvebCL0BwhDJ6W9YvQAeBlUOL7C9AO22g0wb6L0D/RiijtwUwQK8AuddcCDBAREREREQEMEBV46WbxAAwQClcj8L1CDBANKXi7MMHMEBuWatjggcwQPP91Hjp5i9ARP0boYzeL0DrmODBPNEvQOkmMQis3C9A4+zDZ9jVL0C411xImtIvQMQgsHJo0S9Ak18s+cXSL0BImlJx9uEvQEGnDXTaADBAPJgn6t8IMECF61G4HgUwQPOLJb9Y8i9AS8XZh8/wL0BQ/0Yoo/cvQIVdAXKv+S9A61G4HoULMEDIdr6fGg8wQPP91HjpBjBA6SYxCKzcL0DJL5b8YskvQDiJQWDl0C9AsLmQNKXiL0CvALnXXAgwQCA+w64AGTBAeHd3d3cXMECJQWDl0AIwQJVDi2zn+y9AzKFFtvP9L0Av3SQGgRUwQEoMAiuHFjBAID7DrgAZMEDjM+wKkPsvQLQPn2FXwC9ATWIQWDm0L0Bz9uEz7MovQFiA3Gsu5C9Aj1BGb8vaL0AlBoGVQ8svQMARyuht2S9AUUZvy1rdL0DkpZvEIPAvQPiaC0lT6i9AqA102kDnL0DISzeJQeAvQLwC5F5z4S9AU/9GKKP3L0CN3pa1OuYvQNvO91Pj5S9ArRxaZDvfL0BQjZduEgMwQDyYJ+rfCDBAmW4Sg8DKL0BQG+i0gY4vQK3VMcGDeS9AU7geheuRL0CxK0DuNZcvQOXQItv5fi9AKaO3Za2OL0CF61G4HoUvQLErQO41ly9A+zdCGb2tL0BYObTIdr4vQDfQaQOdti9AeTBP1L+RL0Bz9uEz7IovQD0K16NwfS9ArY4JHsyTL0BMfrHkF4svQKvx0k1ikC9AEVg5tMh2L0CNl24Sg4AvQJhuEoPAii9AMN0kBoGVL0BLDAIrh5YvQOeJ+jdCmS9APN9PjZeuL0BAfIZdAbIvQP/UeOkmsS9Ao0W28/2UL0B8zYWkKZUvQNA+fIZdgS9A89JNYhCYL0Ad6LSBTpsvQA27AuResy9A7QqQe83FL0D1tqzVMQEwQMHKoUW28y9Ah6QpFWffL0CDThvotIEvQPiaC0lTai9Azz58hl1BL0C9LWt1TDAvQC9rdUzwIC9AmeDBPFE/L0BlO99PjVcvQEW28/3UeC9AKOrfCGV0L0CrOPvwGXYvQOhC0pSKcy9A8Rl2Bch9L0ADK4cW2Y4vQEsMAiuHli9AQDVeukmML0DAWPKLJX8vQAsezBP1by9Abef7qfGSL0B7W9bqmKAvQEzF2YfPsC9AVVVVVVWVL0CEeaL+jZAvQAll9LaslS9AMN0kBoGVL0AVrkfhepQvQIyzD59hly9ASwwCK4eWL0B4vp8aL50vQLXIdr6fmi9AsLmQNKWiL0DPhaQpFacvQLkehetRuC9AJU2pOPuwL0BlO99PjdcvQLwC5F5z4S9Ao/6NUEYPMEAEnTbQaQMwQFsdEzyY5y9AzczMzMzML0BM8GCeqL8vQLOd76fGyy9Af7HkF0u+L0BANV66ScwvQIuzD59h1y9AYVeA3GvuL0DVMcGDeeIvQNNNYhBY+S9AgU4b6LQBMEBXgNxrLgQwQPyp8dJN4i9A0wY6baDTL0BANV66ScwvQAjzRP0b4S9As53vp8bLL0CtjgkezNMvQKh/I5TR2y9ApHA9CtfjL0DhehSuRwEwQIQyelvWCjBAd76fGi8dMEBNYhBYOfQvQKAaL90kxi9AHKGM3pZ1L0DDPFH/RmgvQGNXgNxrLi9A6LSBThsoL0DjpZvEIDAvQH0/NV66SS9Av58aL91kL0DNzMzMzIwvQMwT9W+Esi9ASVMqzj68L0CJ+jdCGb0vQKk4+/AZti9A8/3UeOmmL0BU46WbxKAvQOF6FK5HoS9Am1Jx9uGzL0C0D59hV8AvQEFg5dAi2y9A20CnDXTaL0D78Bl2BcgvQMdLN4lBoC9A16NwPQqXL0DbQKcNdJovQFjyiyW/mC9A3d3d3d2dL0DhehSuR6EvQG2g0wY6rS9Az/dT46WbL0DBg3mi/o0vQFvW6pjggS9A5Yn6N0KZL0CnDXTaQKcvQDttoNMGui9AWatjggezL0DQsCtA7rUvQP3UeOkmsS9AeekmMQisL0CZ4ME8Ub8vQCUGgZVDyy9Ake18PzXeL0CZmZmZmdkvQOkmMQis3C9ApZvEILDyL0Ct1THBg/kvQHKvuZA0BTBAD+aJ+jcCMEA1XrpJDAIwQFUOLbKd7y9AF9nO91PjL0B1Bci95sIvQCCwcmiRrS9AzBP1b4SyL0D4U+Olm8QvQNMGOm2g0y9AWWQ730/NL0DFILByaNEvQOvfCGX09i9A1L8RyugNMECvALnXXCgwQIIH80T9GzBANKXi7MMHMEDJ6G1Zq+MvQKTi7MNn2C9AkO18PzXeL0CbxCCwcugvQK8AuddcCDBADXTaQKcNMEBfcyFpSgUwQEiaUnH24S9AwBHK6G3ZL0CEeaL+jdAvQK+5kDSl4i9Ar7mQNKXiL0Ch0wY6bQAwQHTaQKcN9C9A6SYxCKzcL0DAyqFFtrMvQEcoo7dlrS9AV8cED+bJL0DEZ9gVILcvQI8JHswTtS9AKKO3Za3OL0AvJE2pOPsvQHmi/o1QBjBABFYOLbLdL0CZ4ME8Ub8vQPs3Qhm9rS9ArNUxwYO5L0Coxks3icEvQKGM3pa1+i9Am1Jx9uETMECPCR7MExUwQCjq3whl9C9AFPVvhDK6L0BLxdmHz7AvQPXhM+wK0C9ALPnFkl/sL0Atsp3vpwYwQEs3iUFg5S9AKKO3Za3OL0AAAAAAAMAvQIv6N0IZvS9AgCOU0duyL0BzaJHtfL8vQCPb+X5qvC9AnH34DLvCL0DxGXYFyL0vQFCNl24Swy9ASOF6FK7HL0BP1L8RyugvQE1iEFg59C9AkxgEVg7tL0CZ4ME8Ub8vQAisHFpkuy9AlUOLbOe7L0BHtvP91LgvQBm9LWt1zC9AiBbZzvfTL0CV/GLJL9YvQECnDXTawC9AyL3mQtLUL0BsLiRNqfgvQN9PjZduEjBApw102kAHMECkcD0K1+MvQFMqzj58hi9Ak18s+cVSL0B1TPBgnigvQGwuJE2pOC9AaJHtfD81L0DZzvdT4yUvQDSl4uzDJy9A4zPsCpA7L0AxCKwcWmQvQDEIrBxaZC9APFH/RihjL0AkTak4+3AvQMBY8oslfy9ArY4JHsyTL0DkXnMhaYovQLErQO41ly9AG+i0gU6bL0AIrBxaZLsvQMARyuht2S9AgCOU0dvyL0B1TPBgnugvQHzNhaQp1S9AAyuHFtnOL0DIveZC0tQvQItBYOXQ4i9AFK5H4XrUL0BI4XoUrscvQMcED+aJui9ArNUxwYO5L0ArhxbZzrcvQAUP5on6ty9AGy/dJAbBL0BvWatjgscvQAMrhxbZzi9AsStA7jXXL0Cx5BdLfvEvQIn6N0IZ/S9AO22g0wb6L0A4tMh2vt8vQIiIiIiIyC9AnH34DLvCL0Ag95oLSdMvQFsdEzyY5y9As1bHBA8GMEBP1L8RyggwQPAZdgXI/S9AdNpApw30L0CtR+F6FO4vQFsdEzyY5y9AibMPn2HXL0DUeOkmMcgvQG1Zq2OCxy9A2IfPsCvAL0B/arx0k9gvQH2x5BdL/i9Aq6qqqqoKMEDuNReSphQwQCijt2WtLjBAiYiIiIgoMEDTBjptoBMwQIcW2c730y9A2BUg95rLL0DMzMzMzMwvQJsLSVMqzi9A7MNn2BXgL0C7AuRec+EvQEs3iUFg5S9AC5B7zYXkL0DwYJ6of+MvQJW1OiZ48C9AXbpJDALrL0BlZmZmZuYvQIxQRm/L2i9AiyW/WPLLL0DdCGX0tuwvQF8s+cWS3y9ASzeJQWDlL0CzyHa+n9ovQEzwYJ6o/y9A0duyVscEMECQNKXi7AMwQH8jlNHb8i9A1aNwPQrXL0BIUyrOPrwvQKTi7MNn2C9AXEiaUnH2L0CtjgkezBMwQDvfT42XDjBAHFpkO98PMEBfcyFpSgUwQF9zIWlKBTBAK0DuNRcSMEDj7MNn2BUwQDUXkqZUHDBACWX0tqwVMEAYS36x5BcwQCuHFtnOFzBArdUxwYMZMEBLxdmHzxAwQMwT9W+EEjBAb8taHRMcMEAfPsOuABkwQBODwMqhBTBA078RyujtL0BIUyrOPvwvQA==",
          "dtype": "f8"
         },
         "yaxis": "y"
        }
       ],
       "layout": {
        "height": 360,
        "legend": {
         "tracegroupgap": 0
        },
        "paper_bgcolor": "lightgray",
        "plot_bgcolor": "lightgray",
        "shapes": [
         {
          "line": {
           "color": "black",
           "width": 0.5
          },
          "type": "line",
          "x0": 0,
          "x1": 1,
          "xref": "x domain",
          "y0": 15.5,
          "y1": 15.5,
          "yref": "y"
         }
        ],
        "template": {
         "data": {
          "bar": [
           {
            "error_x": {
             "color": "#2a3f5f"
            },
            "error_y": {
             "color": "#2a3f5f"
            },
            "marker": {
             "line": {
              "color": "#E5ECF6",
              "width": 0.5
             },
             "pattern": {
              "fillmode": "overlay",
              "size": 10,
              "solidity": 0.2
             }
            },
            "type": "bar"
           }
          ],
          "barpolar": [
           {
            "marker": {
             "line": {
              "color": "#E5ECF6",
              "width": 0.5
             },
             "pattern": {
              "fillmode": "overlay",
              "size": 10,
              "solidity": 0.2
             }
            },
            "type": "barpolar"
           }
          ],
          "carpet": [
           {
            "aaxis": {
             "endlinecolor": "#2a3f5f",
             "gridcolor": "white",
             "linecolor": "white",
             "minorgridcolor": "white",
             "startlinecolor": "#2a3f5f"
            },
            "baxis": {
             "endlinecolor": "#2a3f5f",
             "gridcolor": "white",
             "linecolor": "white",
             "minorgridcolor": "white",
             "startlinecolor": "#2a3f5f"
            },
            "type": "carpet"
           }
          ],
          "choropleth": [
           {
            "colorbar": {
             "outlinewidth": 0,
             "ticks": ""
            },
            "type": "choropleth"
           }
          ],
          "contour": [
           {
            "colorbar": {
             "outlinewidth": 0,
             "ticks": ""
            },
            "colorscale": [
             [
              0,
              "#0d0887"
             ],
             [
              0.1111111111111111,
              "#46039f"
             ],
             [
              0.2222222222222222,
              "#7201a8"
             ],
             [
              0.3333333333333333,
              "#9c179e"
             ],
             [
              0.4444444444444444,
              "#bd3786"
             ],
             [
              0.5555555555555556,
              "#d8576b"
             ],
             [
              0.6666666666666666,
              "#ed7953"
             ],
             [
              0.7777777777777778,
              "#fb9f3a"
             ],
             [
              0.8888888888888888,
              "#fdca26"
             ],
             [
              1,
              "#f0f921"
             ]
            ],
            "type": "contour"
           }
          ],
          "contourcarpet": [
           {
            "colorbar": {
             "outlinewidth": 0,
             "ticks": ""
            },
            "type": "contourcarpet"
           }
          ],
          "heatmap": [
           {
            "colorbar": {
             "outlinewidth": 0,
             "ticks": ""
            },
            "colorscale": [
             [
              0,
              "#0d0887"
             ],
             [
              0.1111111111111111,
              "#46039f"
             ],
             [
              0.2222222222222222,
              "#7201a8"
             ],
             [
              0.3333333333333333,
              "#9c179e"
             ],
             [
              0.4444444444444444,
              "#bd3786"
             ],
             [
              0.5555555555555556,
              "#d8576b"
             ],
             [
              0.6666666666666666,
              "#ed7953"
             ],
             [
              0.7777777777777778,
              "#fb9f3a"
             ],
             [
              0.8888888888888888,
              "#fdca26"
             ],
             [
              1,
              "#f0f921"
             ]
            ],
            "type": "heatmap"
           }
          ],
          "histogram": [
           {
            "marker": {
             "pattern": {
              "fillmode": "overlay",
              "size": 10,
              "solidity": 0.2
             }
            },
            "type": "histogram"
           }
          ],
          "histogram2d": [
           {
            "colorbar": {
             "outlinewidth": 0,
             "ticks": ""
            },
            "colorscale": [
             [
              0,
              "#0d0887"
             ],
             [
              0.1111111111111111,
              "#46039f"
             ],
             [
              0.2222222222222222,
              "#7201a8"
             ],
             [
              0.3333333333333333,
              "#9c179e"
             ],
             [
              0.4444444444444444,
              "#bd3786"
             ],
             [
              0.5555555555555556,
              "#d8576b"
             ],
             [
              0.6666666666666666,
              "#ed7953"
             ],
             [
              0.7777777777777778,
              "#fb9f3a"
             ],
             [
              0.8888888888888888,
              "#fdca26"
             ],
             [
              1,
              "#f0f921"
             ]
            ],
            "type": "histogram2d"
           }
          ],
          "histogram2dcontour": [
           {
            "colorbar": {
             "outlinewidth": 0,
             "ticks": ""
            },
            "colorscale": [
             [
              0,
              "#0d0887"
             ],
             [
              0.1111111111111111,
              "#46039f"
             ],
             [
              0.2222222222222222,
              "#7201a8"
             ],
             [
              0.3333333333333333,
              "#9c179e"
             ],
             [
              0.4444444444444444,
              "#bd3786"
             ],
             [
              0.5555555555555556,
              "#d8576b"
             ],
             [
              0.6666666666666666,
              "#ed7953"
             ],
             [
              0.7777777777777778,
              "#fb9f3a"
             ],
             [
              0.8888888888888888,
              "#fdca26"
             ],
             [
              1,
              "#f0f921"
             ]
            ],
            "type": "histogram2dcontour"
           }
          ],
          "mesh3d": [
           {
            "colorbar": {
             "outlinewidth": 0,
             "ticks": ""
            },
            "type": "mesh3d"
           }
          ],
          "parcoords": [
           {
            "line": {
             "colorbar": {
              "outlinewidth": 0,
              "ticks": ""
             }
            },
            "type": "parcoords"
           }
          ],
          "pie": [
           {
            "automargin": true,
            "type": "pie"
           }
          ],
          "scatter": [
           {
            "fillpattern": {
             "fillmode": "overlay",
             "size": 10,
             "solidity": 0.2
            },
            "type": "scatter"
           }
          ],
          "scatter3d": [
           {
            "line": {
             "colorbar": {
              "outlinewidth": 0,
              "ticks": ""
             }
            },
            "marker": {
             "colorbar": {
              "outlinewidth": 0,
              "ticks": ""
             }
            },
            "type": "scatter3d"
           }
          ],
          "scattercarpet": [
           {
            "marker": {
             "colorbar": {
              "outlinewidth": 0,
              "ticks": ""
             }
            },
            "type": "scattercarpet"
           }
          ],
          "scattergeo": [
           {
            "marker": {
             "colorbar": {
              "outlinewidth": 0,
              "ticks": ""
             }
            },
            "type": "scattergeo"
           }
          ],
          "scattergl": [
           {
            "marker": {
             "colorbar": {
              "outlinewidth": 0,
              "ticks": ""
             }
            },
            "type": "scattergl"
           }
          ],
          "scattermap": [
           {
            "marker": {
             "colorbar": {
              "outlinewidth": 0,
              "ticks": ""
             }
            },
            "type": "scattermap"
           }
          ],
          "scattermapbox": [
           {
            "marker": {
             "colorbar": {
              "outlinewidth": 0,
              "ticks": ""
             }
            },
            "type": "scattermapbox"
           }
          ],
          "scatterpolar": [
           {
            "marker": {
             "colorbar": {
              "outlinewidth": 0,
              "ticks": ""
             }
            },
            "type": "scatterpolar"
           }
          ],
          "scatterpolargl": [
           {
            "marker": {
             "colorbar": {
              "outlinewidth": 0,
              "ticks": ""
             }
            },
            "type": "scatterpolargl"
           }
          ],
          "scatterternary": [
           {
            "marker": {
             "colorbar": {
              "outlinewidth": 0,
              "ticks": ""
             }
            },
            "type": "scatterternary"
           }
          ],
          "surface": [
           {
            "colorbar": {
             "outlinewidth": 0,
             "ticks": ""
            },
            "colorscale": [
             [
              0,
              "#0d0887"
             ],
             [
              0.1111111111111111,
              "#46039f"
             ],
             [
              0.2222222222222222,
              "#7201a8"
             ],
             [
              0.3333333333333333,
              "#9c179e"
             ],
             [
              0.4444444444444444,
              "#bd3786"
             ],
             [
              0.5555555555555556,
              "#d8576b"
             ],
             [
              0.6666666666666666,
              "#ed7953"
             ],
             [
              0.7777777777777778,
              "#fb9f3a"
             ],
             [
              0.8888888888888888,
              "#fdca26"
             ],
             [
              1,
              "#f0f921"
             ]
            ],
            "type": "surface"
           }
          ],
          "table": [
           {
            "cells": {
             "fill": {
              "color": "#EBF0F8"
             },
             "line": {
              "color": "white"
             }
            },
            "header": {
             "fill": {
              "color": "#C8D4E3"
             },
             "line": {
              "color": "white"
             }
            },
            "type": "table"
           }
          ]
         },
         "layout": {
          "annotationdefaults": {
           "arrowcolor": "#2a3f5f",
           "arrowhead": 0,
           "arrowwidth": 1
          },
          "autotypenumbers": "strict",
          "coloraxis": {
           "colorbar": {
            "outlinewidth": 0,
            "ticks": ""
           }
          },
          "colorscale": {
           "diverging": [
            [
             0,
             "#8e0152"
            ],
            [
             0.1,
             "#c51b7d"
            ],
            [
             0.2,
             "#de77ae"
            ],
            [
             0.3,
             "#f1b6da"
            ],
            [
             0.4,
             "#fde0ef"
            ],
            [
             0.5,
             "#f7f7f7"
            ],
            [
             0.6,
             "#e6f5d0"
            ],
            [
             0.7,
             "#b8e186"
            ],
            [
             0.8,
             "#7fbc41"
            ],
            [
             0.9,
             "#4d9221"
            ],
            [
             1,
             "#276419"
            ]
           ],
           "sequential": [
            [
             0,
             "#0d0887"
            ],
            [
             0.1111111111111111,
             "#46039f"
            ],
            [
             0.2222222222222222,
             "#7201a8"
            ],
            [
             0.3333333333333333,
             "#9c179e"
            ],
            [
             0.4444444444444444,
             "#bd3786"
            ],
            [
             0.5555555555555556,
             "#d8576b"
            ],
            [
             0.6666666666666666,
             "#ed7953"
            ],
            [
             0.7777777777777778,
             "#fb9f3a"
            ],
            [
             0.8888888888888888,
             "#fdca26"
            ],
            [
             1,
             "#f0f921"
            ]
           ],
           "sequentialminus": [
            [
             0,
             "#0d0887"
            ],
            [
             0.1111111111111111,
             "#46039f"
            ],
            [
             0.2222222222222222,
             "#7201a8"
            ],
            [
             0.3333333333333333,
             "#9c179e"
            ],
            [
             0.4444444444444444,
             "#bd3786"
            ],
            [
             0.5555555555555556,
             "#d8576b"
            ],
            [
             0.6666666666666666,
             "#ed7953"
            ],
            [
             0.7777777777777778,
             "#fb9f3a"
            ],
            [
             0.8888888888888888,
             "#fdca26"
            ],
            [
             1,
             "#f0f921"
            ]
           ]
          },
          "colorway": [
           "#636efa",
           "#EF553B",
           "#00cc96",
           "#ab63fa",
           "#FFA15A",
           "#19d3f3",
           "#FF6692",
           "#B6E880",
           "#FF97FF",
           "#FECB52"
          ],
          "font": {
           "color": "#2a3f5f"
          },
          "geo": {
           "bgcolor": "white",
           "lakecolor": "white",
           "landcolor": "#E5ECF6",
           "showlakes": true,
           "showland": true,
           "subunitcolor": "white"
          },
          "hoverlabel": {
           "align": "left"
          },
          "hovermode": "closest",
          "mapbox": {
           "style": "light"
          },
          "paper_bgcolor": "white",
          "plot_bgcolor": "#E5ECF6",
          "polar": {
           "angularaxis": {
            "gridcolor": "white",
            "linecolor": "white",
            "ticks": ""
           },
           "bgcolor": "#E5ECF6",
           "radialaxis": {
            "gridcolor": "white",
            "linecolor": "white",
            "ticks": ""
           }
          },
          "scene": {
           "xaxis": {
            "backgroundcolor": "#E5ECF6",
            "gridcolor": "white",
            "gridwidth": 2,
            "linecolor": "white",
            "showbackground": true,
            "ticks": "",
            "zerolinecolor": "white"
           },
           "yaxis": {
            "backgroundcolor": "#E5ECF6",
            "gridcolor": "white",
            "gridwidth": 2,
            "linecolor": "white",
            "showbackground": true,
            "ticks": "",
            "zerolinecolor": "white"
           },
           "zaxis": {
            "backgroundcolor": "#E5ECF6",
            "gridcolor": "white",
            "gridwidth": 2,
            "linecolor": "white",
            "showbackground": true,
            "ticks": "",
            "zerolinecolor": "white"
           }
          },
          "shapedefaults": {
           "line": {
            "color": "#2a3f5f"
           }
          },
          "ternary": {
           "aaxis": {
            "gridcolor": "white",
            "linecolor": "white",
            "ticks": ""
           },
           "baxis": {
            "gridcolor": "white",
            "linecolor": "white",
            "ticks": ""
           },
           "bgcolor": "#E5ECF6",
           "caxis": {
            "gridcolor": "white",
            "linecolor": "white",
            "ticks": ""
           }
          },
          "title": {
           "x": 0.05
          },
          "xaxis": {
           "automargin": true,
           "gridcolor": "white",
           "linecolor": "white",
           "ticks": "",
           "title": {
            "standoff": 15
           },
           "zerolinecolor": "white",
           "zerolinewidth": 2
          },
          "yaxis": {
           "automargin": true,
           "gridcolor": "white",
           "linecolor": "white",
           "ticks": "",
           "title": {
            "standoff": 15
           },
           "zerolinecolor": "white",
           "zerolinewidth": 2
          }
         }
        },
        "title": {
         "text": "Food City 500 @ Bristol Motor Speedway: Carson Hocevar -- Laptimes by Lap"
        },
        "xaxis": {
         "anchor": "y",
         "autorange": true,
         "domain": [
          0,
          1
         ],
         "range": [
          -29.13867047891351,
          529.1386704789135
         ],
         "title": {
          "text": "Lap"
         },
         "type": "linear"
        },
        "yaxis": {
         "anchor": "x",
         "autorange": true,
         "domain": [
          0,
          1
         ],
         "range": [
          16.644228155339803,
          15.412771844660194
         ],
         "title": {
          "text": "Laptime"
         },
         "type": "linear"
        }
       }
      },
      "image/png": "[encoded data removed]"
     },
     "metadata": {},
     "output_type": "display_data"
    }
   ],
   "source": [
    "laptime = race_laps_filtered['LapTime']\n",
    "lap = race_laps_filtered['Lap']\n",
    "title = race + ': ' + driver\n",
    "\n",
    "\n",
    "\n",
    "fig = px.scatter(x=lap, y=laptime, title=title + ' -- Laptimes by Lap', labels={'x':'Lap','y':'Laptime'}, trendline='rolling', trendline_options=dict(window=3), trendline_color_override='red')\n",
    "fig.update_layout(paper_bgcolor='lightgray', plot_bgcolor='lightgray', yaxis=dict(autorange='reversed'))\n",
    "fig.update_traces(marker=dict(color='blue'))\n",
    "fig.add_hline(y=laptime.min(), line_width=0.5, line_color=\"black\")\n",
    "#print(fig)\n",
    "fig.show()"
   ]
  },
  {
   "cell_type": "code",
   "execution_count": 71,
   "id": "59656dbe-8732-4c2e-bd43-e11a557d5ed0",
   "metadata": {},
   "outputs": [
    {
     "data": {
      "application/vnd.plotly.v1+json": {
       "config": {
        "plotlyServerURL": "https://plot.ly"
       },
       "data": [
        {
         "bingroup": "x",
         "hovertemplate": "LapTime=%{x}<br>count=%{y}<extra></extra>",
         "legendgroup": "",
         "marker": {
          "color": "#636efa",
          "pattern": {
           "shape": ""
          }
         },
         "name": "",
         "orientation": "v",
         "showlegend": false,
         "type": "histogram",
         "x": {
          "_inputArray": {
           "0": 16.455,
           "1": 15.753,
           "10": 16.172,
           "100": 15.935,
           "101": 16.089,
           "102": 15.964,
           "103": 16.199,
           "104": 16.101,
           "105": 15.993,
           "106": 15.88,
           "107": 15.754,
           "108": 15.922,
           "109": 16.013,
           "11": 16.249,
           "110": 15.902,
           "111": 15.867,
           "112": 15.922,
           "113": 15.985,
           "114": 15.89,
           "115": 16.032,
           "116": 15.951,
           "117": 15.872,
           "118": 15.991,
           "119": 15.958,
           "12": 16.299,
           "120": 16.002,
           "121": 15.889,
           "122": 15.956,
           "123": 15.963,
           "124": 16.117,
           "125": 16.024,
           "126": 15.547,
           "127": 15.764,
           "128": 15.901,
           "129": 15.69,
           "13": 16.359,
           "130": 15.795,
           "131": 15.759,
           "132": 15.782,
           "133": 15.739,
           "134": 15.865,
           "135": 15.914,
           "136": 15.837,
           "137": 15.819,
           "138": 15.698,
           "139": 15.797,
           "14": 16.337,
           "140": 15.74,
           "141": 15.829,
           "142": 15.746,
           "143": 15.771,
           "144": 15.679,
           "145": 15.803,
           "146": 15.831,
           "147": 15.742,
           "148": 15.809,
           "149": 15.847,
           "15": 16.352,
           "150": 15.867,
           "151": 15.829,
           "152": 15.842,
           "153": 15.702,
           "154": 15.83,
           "155": 15.726,
           "156": 15.835,
           "157": 15.849,
           "158": 15.867,
           "159": 15.943,
           "16": 16.413,
           "160": 16.204,
           "161": 15.781,
           "162": 15.824,
           "163": 15.655,
           "164": 15.644,
           "165": 15.584,
           "166": 15.555,
           "167": 15.554,
           "168": 15.762,
           "169": 15.697,
           "17": 16.471,
           "170": 15.749,
           "171": 15.736,
           "172": 15.707,
           "173": 15.734,
           "174": 15.796,
           "175": 15.807,
           "176": 15.779,
           "177": 15.736,
           "178": 15.73,
           "179": 15.69,
           "18": 16.493,
           "180": 15.941,
           "181": 15.81,
           "182": 15.785,
           "183": 15.78,
           "184": 15.782,
           "185": 15.815,
           "186": 15.779,
           "187": 15.776,
           "188": 15.832,
           "189": 15.774,
           "19": 16.477,
           "190": 15.815,
           "191": 15.817,
           "192": 15.821,
           "193": 15.841,
           "194": 15.918,
           "195": 15.778,
           "196": 16.067,
           "197": 15.976,
           "198": 16.136,
           "199": 15.928,
           "2": 15.838,
           "20": 16.509,
           "200": 15.793,
           "201": 15.979,
           "202": 15.851,
           "203": 15.864,
           "204": 15.9,
           "205": 15.933,
           "206": 15.929,
           "207": 16.035,
           "208": 15.863,
           "209": 16.063,
           "21": 16.498,
           "210": 16.094,
           "211": 15.892,
           "212": 15.84,
           "213": 16.008,
           "214": 15.849,
           "215": 15.962,
           "216": 15.883,
           "217": 15.896,
           "218": 16.009,
           "219": 15.93,
           "22": 16.428,
           "220": 16.076,
           "221": 16.121,
           "222": 16.145,
           "223": 15.665,
           "224": 15.851,
           "225": 15.673,
           "226": 15.587,
           "227": 15.512,
           "228": 15.636,
           "229": 15.634,
           "23": 16.525,
           "230": 15.662,
           "231": 15.795,
           "232": 15.868,
           "233": 15.883,
           "234": 15.852,
           "235": 15.873,
           "236": 15.842,
           "237": 15.763,
           "238": 15.837,
           "239": 15.845,
           "24": 16.514,
           "240": 15.872,
           "241": 15.91,
           "242": 16.002,
           "243": 15.868,
           "244": 15.802,
           "245": 15.769,
           "246": 15.814,
           "247": 15.822,
           "248": 15.759,
           "249": 15.844,
           "25": 16.557,
           "250": 15.842,
           "251": 15.829,
           "252": 15.741,
           "253": 15.762,
           "254": 15.758,
           "255": 15.878,
           "256": 15.844,
           "257": 15.868,
           "258": 15.837,
           "259": 15.861,
           "26": 16.338,
           "260": 15.84,
           "261": 15.807,
           "262": 15.974,
           "263": 15.91,
           "264": 15.918,
           "265": 15.947,
           "266": 15.928,
           "267": 16.047,
           "268": 15.987,
           "269": 16.027,
           "27": 16.489,
           "270": 16.012,
           "271": 15.985,
           "272": 15.907,
           "273": 15.94,
           "274": 15.795,
           "275": 15.782,
           "276": 15.969,
           "277": 15.901,
           "278": 15.87,
           "279": 15.932,
           "28": 16.368,
           "280": 15.925,
           "281": 16.09,
           "282": 16.148,
           "283": 16.235,
           "284": 15.945,
           "285": 15.911,
           "286": 15.978,
           "287": 15.879,
           "288": 15.945,
           "289": 16.038,
           "29": 16.425,
           "290": 16.115,
           "291": 16.007,
           "292": 15.94,
           "293": 15.877,
           "294": 15.957,
           "295": 15.888,
           "296": 15.983,
           "297": 15.957,
           "298": 16.065,
           "299": 15.908,
           "3": 15.875,
           "30": 16.434,
           "300": 15.82,
           "301": 15.825,
           "302": 15.871,
           "303": 15.987,
           "304": 15.715,
           "305": 15.859,
           "306": 16.137,
           "307": 15.976,
           "308": 15.961,
           "309": 15.862,
           "31": 16.4,
           "310": 15.798,
           "311": 15.858,
           "312": 15.931,
           "313": 15.845,
           "314": 16.193,
           "315": 16.195,
           "316": 15.859,
           "317": 15.878,
           "318": 15.854,
           "319": 15.804,
           "32": 16.425,
           "320": 16.061,
           "321": 16.02,
           "322": 15.997,
           "323": 15.827,
           "324": 15.887,
           "325": 15.911,
           "326": 15.81,
           "327": 15.827,
           "328": 15.985,
           "329": 15.792,
           "33": 16.325,
           "330": 15.864,
           "331": 15.956,
           "332": 15.823,
           "333": 15.891,
           "334": 16.15,
           "335": 15.89,
           "336": 15.849,
           "337": 15.882,
           "338": 15.867,
           "339": 15.852,
           "34": 16.42,
           "340": 15.864,
           "341": 15.982,
           "342": 15.896,
           "343": 15.877,
           "344": 15.857,
           "345": 16.013,
           "346": 16.087,
           "347": 16.116,
           "348": 15.882,
           "349": 15.837,
           "35": 16.325,
           "350": 15.569,
           "351": 15.579,
           "352": 15.59,
           "353": 15.663,
           "354": 15.559,
           "355": 15.5,
           "356": 15.674,
           "357": 15.675,
           "358": 15.739,
           "359": 15.674,
           "36": 16.415,
           "360": 15.668,
           "361": 15.82,
           "362": 15.757,
           "363": 15.789,
           "364": 15.765,
           "365": 15.832,
           "366": 15.813,
           "367": 15.953,
           "368": 16.008,
           "369": 15.962,
           "37": 16.35,
           "370": 15.893,
           "371": 15.894,
           "372": 15.925,
           "373": 15.928,
           "374": 15.976,
           "375": 15.841,
           "376": 15.853,
           "377": 15.899,
           "378": 15.835,
           "379": 15.843,
           "38": 16.392,
           "380": 15.9,
           "381": 15.888,
           "382": 15.881,
           "383": 15.943,
           "384": 15.937,
           "385": 16.035,
           "386": 16.011,
           "387": 15.919,
           "388": 15.881,
           "389": 15.875,
           "39": 16.232,
           "390": 15.885,
           "391": 15.978,
           "392": 15.994,
           "393": 16.099,
           "394": 16.01,
           "395": 15.878,
           "396": 16.042,
           "397": 15.975,
           "398": 15.84,
           "399": 15.947,
           "4": 15.944,
           "40": 16.081,
           "400": 15.886,
           "401": 15.836,
           "402": 15.904,
           "403": 16.029,
           "404": 16.057,
           "405": 16.039,
           "406": 16.146,
           "407": 16.362,
           "408": 15.967,
           "409": 15.901,
           "41": 16.135,
           "410": 15.874,
           "411": 15.918,
           "412": 15.908,
           "413": 15.882,
           "414": 16.023,
           "415": 15.916,
           "416": 15.905,
           "417": 16.018,
           "418": 15.91,
           "419": 15.981,
           "42": 16.098,
           "420": 15.986,
           "421": 15.883,
           "422": 15.913,
           "423": 15.899,
           "424": 16.075,
           "425": 15.836,
           "426": 15.933,
           "427": 16.012,
           "428": 16.053,
           "429": 15.991,
           "43": 16.351,
           "430": 16.002,
           "431": 15.93,
           "432": 15.828,
           "433": 15.845,
           "434": 16.095,
           "435": 16.004,
           "436": 16.133,
           "437": 16.034,
           "438": 16.019,
           "439": 16.009,
           "44": 16.21,
           "440": 16.034,
           "441": 16.169,
           "442": 16.053,
           "443": 16.11,
           "444": 16.091,
           "445": 16.079,
           "446": 16.109,
           "447": 16.111,
           "448": 15.977,
           "449": 16.129,
           "45": 16.19,
           "450": 16.223,
           "451": 15.941,
           "452": 15.902,
           "453": 16.051,
           "454": 16.025,
           "46": 16.331,
           "47": 16.29,
           "48": 16.157,
           "49": 16.054,
           "5": 16,
           "50": 15.979,
           "51": 15.968,
           "52": 15.965,
           "53": 15.959,
           "54": 15.926,
           "55": 15.878,
           "56": 15.856,
           "57": 15.839,
           "58": 15.82,
           "59": 15.956,
           "6": 16.101,
           "60": 16.062,
           "61": 15.818,
           "62": 15.863,
           "63": 15.961,
           "64": 15.932,
           "65": 15.993,
           "66": 16.04,
           "67": 16.034,
           "68": 16.024,
           "69": 15.992,
           "7": 16.008,
           "70": 15.993,
           "71": 16.12,
           "72": 15.978,
           "73": 15.99,
           "74": 15.885,
           "75": 15.929,
           "76": 15.912,
           "77": 15.952,
           "78": 15.889,
           "79": 15.893,
           "8": 16.087,
           "80": 15.945,
           "81": 15.897,
           "82": 15.982,
           "83": 16.131,
           "84": 15.991,
           "85": 15.938,
           "86": 15.991,
           "87": 15.982,
           "88": 15.978,
           "89": 16.003,
           "9": 16.149,
           "90": 16.154,
           "91": 16.02,
           "92": 15.907,
           "93": 15.866,
           "94": 15.907,
           "95": 15.951,
           "96": 15.97,
           "97": 16.177,
           "98": 16.146,
           "99": 15.952,
           "bdata": "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",
           "dtype": "f8",
           "shape": "455"
          },
          "bdata": "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",
          "dtype": "f8"
         },
         "xaxis": "x",
         "yaxis": "y"
        }
       ],
       "layout": {
        "barmode": "relative",
        "height": 360,
        "legend": {
         "tracegroupgap": 0
        },
        "template": {
         "data": {
          "bar": [
           {
            "error_x": {
             "color": "#2a3f5f"
            },
            "error_y": {
             "color": "#2a3f5f"
            },
            "marker": {
             "line": {
              "color": "#E5ECF6",
              "width": 0.5
             },
             "pattern": {
              "fillmode": "overlay",
              "size": 10,
              "solidity": 0.2
             }
            },
            "type": "bar"
           }
          ],
          "barpolar": [
           {
            "marker": {
             "line": {
              "color": "#E5ECF6",
              "width": 0.5
             },
             "pattern": {
              "fillmode": "overlay",
              "size": 10,
              "solidity": 0.2
             }
            },
            "type": "barpolar"
           }
          ],
          "carpet": [
           {
            "aaxis": {
             "endlinecolor": "#2a3f5f",
             "gridcolor": "white",
             "linecolor": "white",
             "minorgridcolor": "white",
             "startlinecolor": "#2a3f5f"
            },
            "baxis": {
             "endlinecolor": "#2a3f5f",
             "gridcolor": "white",
             "linecolor": "white",
             "minorgridcolor": "white",
             "startlinecolor": "#2a3f5f"
            },
            "type": "carpet"
           }
          ],
          "choropleth": [
           {
            "colorbar": {
             "outlinewidth": 0,
             "ticks": ""
            },
            "type": "choropleth"
           }
          ],
          "contour": [
           {
            "colorbar": {
             "outlinewidth": 0,
             "ticks": ""
            },
            "colorscale": [
             [
              0,
              "#0d0887"
             ],
             [
              0.1111111111111111,
              "#46039f"
             ],
             [
              0.2222222222222222,
              "#7201a8"
             ],
             [
              0.3333333333333333,
              "#9c179e"
             ],
             [
              0.4444444444444444,
              "#bd3786"
             ],
             [
              0.5555555555555556,
              "#d8576b"
             ],
             [
              0.6666666666666666,
              "#ed7953"
             ],
             [
              0.7777777777777778,
              "#fb9f3a"
             ],
             [
              0.8888888888888888,
              "#fdca26"
             ],
             [
              1,
              "#f0f921"
             ]
            ],
            "type": "contour"
           }
          ],
          "contourcarpet": [
           {
            "colorbar": {
             "outlinewidth": 0,
             "ticks": ""
            },
            "type": "contourcarpet"
           }
          ],
          "heatmap": [
           {
            "colorbar": {
             "outlinewidth": 0,
             "ticks": ""
            },
            "colorscale": [
             [
              0,
              "#0d0887"
             ],
             [
              0.1111111111111111,
              "#46039f"
             ],
             [
              0.2222222222222222,
              "#7201a8"
             ],
             [
              0.3333333333333333,
              "#9c179e"
             ],
             [
              0.4444444444444444,
              "#bd3786"
             ],
             [
              0.5555555555555556,
              "#d8576b"
             ],
             [
              0.6666666666666666,
              "#ed7953"
             ],
             [
              0.7777777777777778,
              "#fb9f3a"
             ],
             [
              0.8888888888888888,
              "#fdca26"
             ],
             [
              1,
              "#f0f921"
             ]
            ],
            "type": "heatmap"
           }
          ],
          "histogram": [
           {
            "marker": {
             "pattern": {
              "fillmode": "overlay",
              "size": 10,
              "solidity": 0.2
             }
            },
            "type": "histogram"
           }
          ],
          "histogram2d": [
           {
            "colorbar": {
             "outlinewidth": 0,
             "ticks": ""
            },
            "colorscale": [
             [
              0,
              "#0d0887"
             ],
             [
              0.1111111111111111,
              "#46039f"
             ],
             [
              0.2222222222222222,
              "#7201a8"
             ],
             [
              0.3333333333333333,
              "#9c179e"
             ],
             [
              0.4444444444444444,
              "#bd3786"
             ],
             [
              0.5555555555555556,
              "#d8576b"
             ],
             [
              0.6666666666666666,
              "#ed7953"
             ],
             [
              0.7777777777777778,
              "#fb9f3a"
             ],
             [
              0.8888888888888888,
              "#fdca26"
             ],
             [
              1,
              "#f0f921"
             ]
            ],
            "type": "histogram2d"
           }
          ],
          "histogram2dcontour": [
           {
            "colorbar": {
             "outlinewidth": 0,
             "ticks": ""
            },
            "colorscale": [
             [
              0,
              "#0d0887"
             ],
             [
              0.1111111111111111,
              "#46039f"
             ],
             [
              0.2222222222222222,
              "#7201a8"
             ],
             [
              0.3333333333333333,
              "#9c179e"
             ],
             [
              0.4444444444444444,
              "#bd3786"
             ],
             [
              0.5555555555555556,
              "#d8576b"
             ],
             [
              0.6666666666666666,
              "#ed7953"
             ],
             [
              0.7777777777777778,
              "#fb9f3a"
             ],
             [
              0.8888888888888888,
              "#fdca26"
             ],
             [
              1,
              "#f0f921"
             ]
            ],
            "type": "histogram2dcontour"
           }
          ],
          "mesh3d": [
           {
            "colorbar": {
             "outlinewidth": 0,
             "ticks": ""
            },
            "type": "mesh3d"
           }
          ],
          "parcoords": [
           {
            "line": {
             "colorbar": {
              "outlinewidth": 0,
              "ticks": ""
             }
            },
            "type": "parcoords"
           }
          ],
          "pie": [
           {
            "automargin": true,
            "type": "pie"
           }
          ],
          "scatter": [
           {
            "fillpattern": {
             "fillmode": "overlay",
             "size": 10,
             "solidity": 0.2
            },
            "type": "scatter"
           }
          ],
          "scatter3d": [
           {
            "line": {
             "colorbar": {
              "outlinewidth": 0,
              "ticks": ""
             }
            },
            "marker": {
             "colorbar": {
              "outlinewidth": 0,
              "ticks": ""
             }
            },
            "type": "scatter3d"
           }
          ],
          "scattercarpet": [
           {
            "marker": {
             "colorbar": {
              "outlinewidth": 0,
              "ticks": ""
             }
            },
            "type": "scattercarpet"
           }
          ],
          "scattergeo": [
           {
            "marker": {
             "colorbar": {
              "outlinewidth": 0,
              "ticks": ""
             }
            },
            "type": "scattergeo"
           }
          ],
          "scattergl": [
           {
            "marker": {
             "colorbar": {
              "outlinewidth": 0,
              "ticks": ""
             }
            },
            "type": "scattergl"
           }
          ],
          "scattermap": [
           {
            "marker": {
             "colorbar": {
              "outlinewidth": 0,
              "ticks": ""
             }
            },
            "type": "scattermap"
           }
          ],
          "scattermapbox": [
           {
            "marker": {
             "colorbar": {
              "outlinewidth": 0,
              "ticks": ""
             }
            },
            "type": "scattermapbox"
           }
          ],
          "scatterpolar": [
           {
            "marker": {
             "colorbar": {
              "outlinewidth": 0,
              "ticks": ""
             }
            },
            "type": "scatterpolar"
           }
          ],
          "scatterpolargl": [
           {
            "marker": {
             "colorbar": {
              "outlinewidth": 0,
              "ticks": ""
             }
            },
            "type": "scatterpolargl"
           }
          ],
          "scatterternary": [
           {
            "marker": {
             "colorbar": {
              "outlinewidth": 0,
              "ticks": ""
             }
            },
            "type": "scatterternary"
           }
          ],
          "surface": [
           {
            "colorbar": {
             "outlinewidth": 0,
             "ticks": ""
            },
            "colorscale": [
             [
              0,
              "#0d0887"
             ],
             [
              0.1111111111111111,
              "#46039f"
             ],
             [
              0.2222222222222222,
              "#7201a8"
             ],
             [
              0.3333333333333333,
              "#9c179e"
             ],
             [
              0.4444444444444444,
              "#bd3786"
             ],
             [
              0.5555555555555556,
              "#d8576b"
             ],
             [
              0.6666666666666666,
              "#ed7953"
             ],
             [
              0.7777777777777778,
              "#fb9f3a"
             ],
             [
              0.8888888888888888,
              "#fdca26"
             ],
             [
              1,
              "#f0f921"
             ]
            ],
            "type": "surface"
           }
          ],
          "table": [
           {
            "cells": {
             "fill": {
              "color": "#EBF0F8"
             },
             "line": {
              "color": "white"
             }
            },
            "header": {
             "fill": {
              "color": "#C8D4E3"
             },
             "line": {
              "color": "white"
             }
            },
            "type": "table"
           }
          ]
         },
         "layout": {
          "annotationdefaults": {
           "arrowcolor": "#2a3f5f",
           "arrowhead": 0,
           "arrowwidth": 1
          },
          "autotypenumbers": "strict",
          "coloraxis": {
           "colorbar": {
            "outlinewidth": 0,
            "ticks": ""
           }
          },
          "colorscale": {
           "diverging": [
            [
             0,
             "#8e0152"
            ],
            [
             0.1,
             "#c51b7d"
            ],
            [
             0.2,
             "#de77ae"
            ],
            [
             0.3,
             "#f1b6da"
            ],
            [
             0.4,
             "#fde0ef"
            ],
            [
             0.5,
             "#f7f7f7"
            ],
            [
             0.6,
             "#e6f5d0"
            ],
            [
             0.7,
             "#b8e186"
            ],
            [
             0.8,
             "#7fbc41"
            ],
            [
             0.9,
             "#4d9221"
            ],
            [
             1,
             "#276419"
            ]
           ],
           "sequential": [
            [
             0,
             "#0d0887"
            ],
            [
             0.1111111111111111,
             "#46039f"
            ],
            [
             0.2222222222222222,
             "#7201a8"
            ],
            [
             0.3333333333333333,
             "#9c179e"
            ],
            [
             0.4444444444444444,
             "#bd3786"
            ],
            [
             0.5555555555555556,
             "#d8576b"
            ],
            [
             0.6666666666666666,
             "#ed7953"
            ],
            [
             0.7777777777777778,
             "#fb9f3a"
            ],
            [
             0.8888888888888888,
             "#fdca26"
            ],
            [
             1,
             "#f0f921"
            ]
           ],
           "sequentialminus": [
            [
             0,
             "#0d0887"
            ],
            [
             0.1111111111111111,
             "#46039f"
            ],
            [
             0.2222222222222222,
             "#7201a8"
            ],
            [
             0.3333333333333333,
             "#9c179e"
            ],
            [
             0.4444444444444444,
             "#bd3786"
            ],
            [
             0.5555555555555556,
             "#d8576b"
            ],
            [
             0.6666666666666666,
             "#ed7953"
            ],
            [
             0.7777777777777778,
             "#fb9f3a"
            ],
            [
             0.8888888888888888,
             "#fdca26"
            ],
            [
             1,
             "#f0f921"
            ]
           ]
          },
          "colorway": [
           "#636efa",
           "#EF553B",
           "#00cc96",
           "#ab63fa",
           "#FFA15A",
           "#19d3f3",
           "#FF6692",
           "#B6E880",
           "#FF97FF",
           "#FECB52"
          ],
          "font": {
           "color": "#2a3f5f"
          },
          "geo": {
           "bgcolor": "white",
           "lakecolor": "white",
           "landcolor": "#E5ECF6",
           "showlakes": true,
           "showland": true,
           "subunitcolor": "white"
          },
          "hoverlabel": {
           "align": "left"
          },
          "hovermode": "closest",
          "mapbox": {
           "style": "light"
          },
          "paper_bgcolor": "white",
          "plot_bgcolor": "#E5ECF6",
          "polar": {
           "angularaxis": {
            "gridcolor": "white",
            "linecolor": "white",
            "ticks": ""
           },
           "bgcolor": "#E5ECF6",
           "radialaxis": {
            "gridcolor": "white",
            "linecolor": "white",
            "ticks": ""
           }
          },
          "scene": {
           "xaxis": {
            "backgroundcolor": "#E5ECF6",
            "gridcolor": "white",
            "gridwidth": 2,
            "linecolor": "white",
            "showbackground": true,
            "ticks": "",
            "zerolinecolor": "white"
           },
           "yaxis": {
            "backgroundcolor": "#E5ECF6",
            "gridcolor": "white",
            "gridwidth": 2,
            "linecolor": "white",
            "showbackground": true,
            "ticks": "",
            "zerolinecolor": "white"
           },
           "zaxis": {
            "backgroundcolor": "#E5ECF6",
            "gridcolor": "white",
            "gridwidth": 2,
            "linecolor": "white",
            "showbackground": true,
            "ticks": "",
            "zerolinecolor": "white"
           }
          },
          "shapedefaults": {
           "line": {
            "color": "#2a3f5f"
           }
          },
          "ternary": {
           "aaxis": {
            "gridcolor": "white",
            "linecolor": "white",
            "ticks": ""
           },
           "baxis": {
            "gridcolor": "white",
            "linecolor": "white",
            "ticks": ""
           },
           "bgcolor": "#E5ECF6",
           "caxis": {
            "gridcolor": "white",
            "linecolor": "white",
            "ticks": ""
           }
          },
          "title": {
           "x": 0.05
          },
          "xaxis": {
           "automargin": true,
           "gridcolor": "white",
           "linecolor": "white",
           "ticks": "",
           "title": {
            "standoff": 15
           },
           "zerolinecolor": "white",
           "zerolinewidth": 2
          },
          "yaxis": {
           "automargin": true,
           "gridcolor": "white",
           "linecolor": "white",
           "ticks": "",
           "title": {
            "standoff": 15
           },
           "zerolinecolor": "white",
           "zerolinewidth": 2
          }
         }
        },
        "title": {
         "text": "Food City 500 @ Bristol Motor Speedway: Carson Hocevar -- Laptime Histogram"
        },
        "xaxis": {
         "anchor": "y",
         "autorange": true,
         "domain": [
          0,
          1
         ],
         "range": [
          15.475000000000001,
          16.574999999999996
         ],
         "title": {
          "text": "LapTime"
         },
         "type": "linear"
        },
        "yaxis": {
         "anchor": "x",
         "autorange": true,
         "domain": [
          0,
          1
         ],
         "range": [
          0,
          75.78947368421052
         ],
         "title": {
          "text": "count"
         }
        }
       }
      },
      "image/png": "[encoded data removed]"
     },
     "metadata": {},
     "output_type": "display_data"
    }
   ],
   "source": [
    "fig = px.histogram(race_laps_filtered, x=laptime, title=title + ' -- Laptime Histogram', labels={'x':'Lap','y':'Laptime'})\n",
    "fig.show()"
   ]
  },
  {
   "cell_type": "code",
   "execution_count": null,
   "id": "7080835a-ef4d-4e85-a754-090d75114ed9",
   "metadata": {},
   "outputs": [],
   "source": []
  },
  {
   "cell_type": "code",
   "execution_count": null,
   "id": "9649a0b9-56bb-4f60-81b2-61d04083b487",
   "metadata": {},
   "outputs": [],
   "source": []
  }
 ],
 "metadata": {
  "kernelspec": {
   "display_name": "Python 3 (ipykernel)",
   "language": "python",
   "name": "python3"
  },
  "language_info": {
   "codemirror_mode": {
    "name": "ipython",
    "version": 3
   },
   "file_extension": ".py",
   "mimetype": "text/x-python",
   "name": "python",
   "nbconvert_exporter": "python",
   "pygments_lexer": "ipython3",
   "version": "3.10.12"
  }
 },
 "nbformat": 4,
 "nbformat_minor": 5
}
